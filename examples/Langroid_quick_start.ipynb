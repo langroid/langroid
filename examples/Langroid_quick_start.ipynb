{
 "nbformat": 4,
 "nbformat_minor": 0,
 "metadata": {
  "colab": {
   "provenance": [],
   "authorship_tag": "ABX9TyOtDzhlyMDGZbdQLK03ITak",
   "include_colab_link": true
  },
  "kernelspec": {
   "name": "python3",
   "display_name": "Python 3"
  },
  "language_info": {
   "name": "python"
  },
  "widgets": {
   "application/vnd.jupyter.widget-state+json": {
    "5c9ba2cf18b54e85b4d14ab217309b73": {
     "model_module": "@jupyter-widgets/output",
     "model_name": "OutputModel",
     "model_module_version": "1.0.0",
     "state": {
      "_dom_classes": [],
      "_model_module": "@jupyter-widgets/output",
      "_model_module_version": "1.0.0",
      "_model_name": "OutputModel",
      "_view_count": null,
      "_view_module": "@jupyter-widgets/output",
      "_view_module_version": "1.0.0",
      "_view_name": "OutputView",
      "layout": "IPY_MODEL_39223b7575a24a439a5fecfde6356ad5",
      "msg_id": "",
      "outputs": [
       {
        "output_type": "stream",
        "name": "stdout",
        "text": [
         "[green]I have processed the following 0 URLs\n",
         "        and 1 docs into 12 parts:\n",
         "\n",
         "lease.txt\n"
        ]
       },
       {
        "output_type": "display_data",
        "data": {
         "text/plain": "\u001B[32m⠋\u001B[0m \u001B[36mSearching VecDB for relevant doc passages...\u001B[0m\n",
         "text/html": "<pre style=\"white-space:pre;overflow-x:auto;line-height:normal;font-family:Menlo,'DejaVu Sans Mono',consolas,'Courier New',monospace\"><span style=\"color: #008000; text-decoration-color: #008000\">⠋</span> <span style=\"color: #008080; text-decoration-color: #008080\">Searching VecDB for relevant doc passages...</span>\n</pre>\n"
        },
        "metadata": {}
       }
      ]
     }
    },
    "39223b7575a24a439a5fecfde6356ad5": {
     "model_module": "@jupyter-widgets/base",
     "model_name": "LayoutModel",
     "model_module_version": "1.2.0",
     "state": {
      "_model_module": "@jupyter-widgets/base",
      "_model_module_version": "1.2.0",
      "_model_name": "LayoutModel",
      "_view_count": null,
      "_view_module": "@jupyter-widgets/base",
      "_view_module_version": "1.2.0",
      "_view_name": "LayoutView",
      "align_content": null,
      "align_items": null,
      "align_self": null,
      "border": null,
      "bottom": null,
      "display": null,
      "flex": null,
      "flex_flow": null,
      "grid_area": null,
      "grid_auto_columns": null,
      "grid_auto_flow": null,
      "grid_auto_rows": null,
      "grid_column": null,
      "grid_gap": null,
      "grid_row": null,
      "grid_template_areas": null,
      "grid_template_columns": null,
      "grid_template_rows": null,
      "height": null,
      "justify_content": null,
      "justify_items": null,
      "left": null,
      "margin": null,
      "max_height": null,
      "max_width": null,
      "min_height": null,
      "min_width": null,
      "object_fit": null,
      "object_position": null,
      "order": null,
      "overflow": null,
      "overflow_x": null,
      "overflow_y": null,
      "padding": null,
      "right": null,
      "top": null,
      "visibility": null,
      "width": null
     }
    },
    "8f4cc847f1784dbaa1a635ce9f940fdf": {
     "model_module": "@jupyter-widgets/output",
     "model_name": "OutputModel",
     "model_module_version": "1.0.0",
     "state": {
      "_dom_classes": [],
      "_model_module": "@jupyter-widgets/output",
      "_model_module_version": "1.0.0",
      "_model_name": "OutputModel",
      "_view_count": null,
      "_view_module": "@jupyter-widgets/output",
      "_view_module_version": "1.0.0",
      "_view_name": "OutputView",
      "layout": "IPY_MODEL_e331b87e54734ecaaff740a00906ec8c",
      "msg_id": "",
      "outputs": [
       {
        "output_type": "display_data",
        "data": {
         "text/plain": "\u001B[32m⠏\u001B[0m \u001B[36mLLM Extracting verbatim passages...\u001B[0m\n",
         "text/html": "<pre style=\"white-space:pre;overflow-x:auto;line-height:normal;font-family:Menlo,'DejaVu Sans Mono',consolas,'Courier New',monospace\"><span style=\"color: #008000; text-decoration-color: #008000\">⠏</span> <span style=\"color: #008080; text-decoration-color: #008080\">LLM Extracting verbatim passages...</span>\n</pre>\n"
        },
        "metadata": {}
       }
      ]
     }
    },
    "e331b87e54734ecaaff740a00906ec8c": {
     "model_module": "@jupyter-widgets/base",
     "model_name": "LayoutModel",
     "model_module_version": "1.2.0",
     "state": {
      "_model_module": "@jupyter-widgets/base",
      "_model_module_version": "1.2.0",
      "_model_name": "LayoutModel",
      "_view_count": null,
      "_view_module": "@jupyter-widgets/base",
      "_view_module_version": "1.2.0",
      "_view_name": "LayoutView",
      "align_content": null,
      "align_items": null,
      "align_self": null,
      "border": null,
      "bottom": null,
      "display": null,
      "flex": null,
      "flex_flow": null,
      "grid_area": null,
      "grid_auto_columns": null,
      "grid_auto_flow": null,
      "grid_auto_rows": null,
      "grid_column": null,
      "grid_gap": null,
      "grid_row": null,
      "grid_template_areas": null,
      "grid_template_columns": null,
      "grid_template_rows": null,
      "height": null,
      "justify_content": null,
      "justify_items": null,
      "left": null,
      "margin": null,
      "max_height": null,
      "max_width": null,
      "min_height": null,
      "min_width": null,
      "object_fit": null,
      "object_position": null,
      "order": null,
      "overflow": null,
      "overflow_x": null,
      "overflow_y": null,
      "padding": null,
      "right": null,
      "top": null,
      "visibility": null,
      "width": null
     }
    },
    "4f54543895244b659b46dec81134a710": {
     "model_module": "@jupyter-widgets/output",
     "model_name": "OutputModel",
     "model_module_version": "1.0.0",
     "state": {
      "_dom_classes": [],
      "_model_module": "@jupyter-widgets/output",
      "_model_module_version": "1.0.0",
      "_model_name": "OutputModel",
      "_view_count": null,
      "_view_module": "@jupyter-widgets/output",
      "_view_module_version": "1.0.0",
      "_view_name": "OutputView",
      "layout": "IPY_MODEL_cc28b64be47941e8888d0afc593f86be",
      "msg_id": "",
      "outputs": [
       {
        "output_type": "display_data",
        "data": {
         "text/plain": "\u001B[32m⠋\u001B[0m \u001B[36mSearching VecDB for relevant doc passages...\u001B[0m\n",
         "text/html": "<pre style=\"white-space:pre;overflow-x:auto;line-height:normal;font-family:Menlo,'DejaVu Sans Mono',consolas,'Courier New',monospace\"><span style=\"color: #008000; text-decoration-color: #008000\">⠋</span> <span style=\"color: #008080; text-decoration-color: #008080\">Searching VecDB for relevant doc passages...</span>\n</pre>\n"
        },
        "metadata": {}
       }
      ]
     }
    },
    "cc28b64be47941e8888d0afc593f86be": {
     "model_module": "@jupyter-widgets/base",
     "model_name": "LayoutModel",
     "model_module_version": "1.2.0",
     "state": {
      "_model_module": "@jupyter-widgets/base",
      "_model_module_version": "1.2.0",
      "_model_name": "LayoutModel",
      "_view_count": null,
      "_view_module": "@jupyter-widgets/base",
      "_view_module_version": "1.2.0",
      "_view_name": "LayoutView",
      "align_content": null,
      "align_items": null,
      "align_self": null,
      "border": null,
      "bottom": null,
      "display": null,
      "flex": null,
      "flex_flow": null,
      "grid_area": null,
      "grid_auto_columns": null,
      "grid_auto_flow": null,
      "grid_auto_rows": null,
      "grid_column": null,
      "grid_gap": null,
      "grid_row": null,
      "grid_template_areas": null,
      "grid_template_columns": null,
      "grid_template_rows": null,
      "height": null,
      "justify_content": null,
      "justify_items": null,
      "left": null,
      "margin": null,
      "max_height": null,
      "max_width": null,
      "min_height": null,
      "min_width": null,
      "object_fit": null,
      "object_position": null,
      "order": null,
      "overflow": null,
      "overflow_x": null,
      "overflow_y": null,
      "padding": null,
      "right": null,
      "top": null,
      "visibility": null,
      "width": null
     }
    },
    "d2986011a75d456a8ae6ade3557435b0": {
     "model_module": "@jupyter-widgets/output",
     "model_name": "OutputModel",
     "model_module_version": "1.0.0",
     "state": {
      "_dom_classes": [],
      "_model_module": "@jupyter-widgets/output",
      "_model_module_version": "1.0.0",
      "_model_name": "OutputModel",
      "_view_count": null,
      "_view_module": "@jupyter-widgets/output",
      "_view_module_version": "1.0.0",
      "_view_name": "OutputView",
      "layout": "IPY_MODEL_50489c1f953a4f9185d7cb4034eef911",
      "msg_id": "",
      "outputs": [
       {
        "output_type": "display_data",
        "data": {
         "text/plain": "\u001B[32m⠸\u001B[0m \u001B[36mLLM Extracting verbatim passages...\u001B[0m\n",
         "text/html": "<pre style=\"white-space:pre;overflow-x:auto;line-height:normal;font-family:Menlo,'DejaVu Sans Mono',consolas,'Courier New',monospace\"><span style=\"color: #008000; text-decoration-color: #008000\">⠸</span> <span style=\"color: #008080; text-decoration-color: #008080\">LLM Extracting verbatim passages...</span>\n</pre>\n"
        },
        "metadata": {}
       }
      ]
     }
    },
    "50489c1f953a4f9185d7cb4034eef911": {
     "model_module": "@jupyter-widgets/base",
     "model_name": "LayoutModel",
     "model_module_version": "1.2.0",
     "state": {
      "_model_module": "@jupyter-widgets/base",
      "_model_module_version": "1.2.0",
      "_model_name": "LayoutModel",
      "_view_count": null,
      "_view_module": "@jupyter-widgets/base",
      "_view_module_version": "1.2.0",
      "_view_name": "LayoutView",
      "align_content": null,
      "align_items": null,
      "align_self": null,
      "border": null,
      "bottom": null,
      "display": null,
      "flex": null,
      "flex_flow": null,
      "grid_area": null,
      "grid_auto_columns": null,
      "grid_auto_flow": null,
      "grid_auto_rows": null,
      "grid_column": null,
      "grid_gap": null,
      "grid_row": null,
      "grid_template_areas": null,
      "grid_template_columns": null,
      "grid_template_rows": null,
      "height": null,
      "justify_content": null,
      "justify_items": null,
      "left": null,
      "margin": null,
      "max_height": null,
      "max_width": null,
      "min_height": null,
      "min_width": null,
      "object_fit": null,
      "object_position": null,
      "order": null,
      "overflow": null,
      "overflow_x": null,
      "overflow_y": null,
      "padding": null,
      "right": null,
      "top": null,
      "visibility": null,
      "width": null
     }
    },
    "db5ae28647a64e1599f680c5fdb92f94": {
     "model_module": "@jupyter-widgets/output",
     "model_name": "OutputModel",
     "model_module_version": "1.0.0",
     "state": {
      "_dom_classes": [],
      "_model_module": "@jupyter-widgets/output",
      "_model_module_version": "1.0.0",
      "_model_name": "OutputModel",
      "_view_count": null,
      "_view_module": "@jupyter-widgets/output",
      "_view_module_version": "1.0.0",
      "_view_name": "OutputView",
      "layout": "IPY_MODEL_ea0d612b521b46d8b08176d5d1356e0d",
      "msg_id": "",
      "outputs": [
       {
        "output_type": "display_data",
        "data": {
         "text/plain": "\u001B[32m⠴\u001B[0m LLM responding to messages...\n",
         "text/html": "<pre style=\"white-space:pre;overflow-x:auto;line-height:normal;font-family:Menlo,'DejaVu Sans Mono',consolas,'Courier New',monospace\"><span style=\"color: #008000; text-decoration-color: #008000\">⠴</span> LLM responding to messages...\n</pre>\n"
        },
        "metadata": {}
       }
      ]
     }
    },
    "ea0d612b521b46d8b08176d5d1356e0d": {
     "model_module": "@jupyter-widgets/base",
     "model_name": "LayoutModel",
     "model_module_version": "1.2.0",
     "state": {
      "_model_module": "@jupyter-widgets/base",
      "_model_module_version": "1.2.0",
      "_model_name": "LayoutModel",
      "_view_count": null,
      "_view_module": "@jupyter-widgets/base",
      "_view_module_version": "1.2.0",
      "_view_name": "LayoutView",
      "align_content": null,
      "align_items": null,
      "align_self": null,
      "border": null,
      "bottom": null,
      "display": null,
      "flex": null,
      "flex_flow": null,
      "grid_area": null,
      "grid_auto_columns": null,
      "grid_auto_flow": null,
      "grid_auto_rows": null,
      "grid_column": null,
      "grid_gap": null,
      "grid_row": null,
      "grid_template_areas": null,
      "grid_template_columns": null,
      "grid_template_rows": null,
      "height": null,
      "justify_content": null,
      "justify_items": null,
      "left": null,
      "margin": null,
      "max_height": null,
      "max_width": null,
      "min_height": null,
      "min_width": null,
      "object_fit": null,
      "object_position": null,
      "order": null,
      "overflow": null,
      "overflow_x": null,
      "overflow_y": null,
      "padding": null,
      "right": null,
      "top": null,
      "visibility": null,
      "width": null
     }
    },
    "cb818298392f4e38a57d9fad759b1050": {
     "model_module": "@jupyter-widgets/output",
     "model_name": "OutputModel",
     "model_module_version": "1.0.0",
     "state": {
      "_dom_classes": [],
      "_model_module": "@jupyter-widgets/output",
      "_model_module_version": "1.0.0",
      "_model_name": "OutputModel",
      "_view_count": null,
      "_view_module": "@jupyter-widgets/output",
      "_view_module_version": "1.0.0",
      "_view_name": "OutputView",
      "layout": "IPY_MODEL_5228e057cd6b4cc6b83ac956978d5b4e",
      "msg_id": "",
      "outputs": [
       {
        "output_type": "display_data",
        "data": {
         "text/plain": "\u001B[32m⠋\u001B[0m \u001B[36mSearching VecDB for relevant doc passages...\u001B[0m\n",
         "text/html": "<pre style=\"white-space:pre;overflow-x:auto;line-height:normal;font-family:Menlo,'DejaVu Sans Mono',consolas,'Courier New',monospace\"><span style=\"color: #008000; text-decoration-color: #008000\">⠋</span> <span style=\"color: #008080; text-decoration-color: #008080\">Searching VecDB for relevant doc passages...</span>\n</pre>\n"
        },
        "metadata": {}
       }
      ]
     }
    },
    "5228e057cd6b4cc6b83ac956978d5b4e": {
     "model_module": "@jupyter-widgets/base",
     "model_name": "LayoutModel",
     "model_module_version": "1.2.0",
     "state": {
      "_model_module": "@jupyter-widgets/base",
      "_model_module_version": "1.2.0",
      "_model_name": "LayoutModel",
      "_view_count": null,
      "_view_module": "@jupyter-widgets/base",
      "_view_module_version": "1.2.0",
      "_view_name": "LayoutView",
      "align_content": null,
      "align_items": null,
      "align_self": null,
      "border": null,
      "bottom": null,
      "display": null,
      "flex": null,
      "flex_flow": null,
      "grid_area": null,
      "grid_auto_columns": null,
      "grid_auto_flow": null,
      "grid_auto_rows": null,
      "grid_column": null,
      "grid_gap": null,
      "grid_row": null,
      "grid_template_areas": null,
      "grid_template_columns": null,
      "grid_template_rows": null,
      "height": null,
      "justify_content": null,
      "justify_items": null,
      "left": null,
      "margin": null,
      "max_height": null,
      "max_width": null,
      "min_height": null,
      "min_width": null,
      "object_fit": null,
      "object_position": null,
      "order": null,
      "overflow": null,
      "overflow_x": null,
      "overflow_y": null,
      "padding": null,
      "right": null,
      "top": null,
      "visibility": null,
      "width": null
     }
    },
    "6c31af5b7a5f42e081fd2191fd5cd40e": {
     "model_module": "@jupyter-widgets/output",
     "model_name": "OutputModel",
     "model_module_version": "1.0.0",
     "state": {
      "_dom_classes": [],
      "_model_module": "@jupyter-widgets/output",
      "_model_module_version": "1.0.0",
      "_model_name": "OutputModel",
      "_view_count": null,
      "_view_module": "@jupyter-widgets/output",
      "_view_module_version": "1.0.0",
      "_view_name": "OutputView",
      "layout": "IPY_MODEL_24ecebe86eaa4400a9c3f439210224d5",
      "msg_id": "",
      "outputs": [
       {
        "output_type": "display_data",
        "data": {
         "text/plain": "\u001B[32m⠴\u001B[0m \u001B[36mLLM Extracting verbatim passages...\u001B[0m\n",
         "text/html": "<pre style=\"white-space:pre;overflow-x:auto;line-height:normal;font-family:Menlo,'DejaVu Sans Mono',consolas,'Courier New',monospace\"><span style=\"color: #008000; text-decoration-color: #008000\">⠴</span> <span style=\"color: #008080; text-decoration-color: #008080\">LLM Extracting verbatim passages...</span>\n</pre>\n"
        },
        "metadata": {}
       }
      ]
     }
    },
    "24ecebe86eaa4400a9c3f439210224d5": {
     "model_module": "@jupyter-widgets/base",
     "model_name": "LayoutModel",
     "model_module_version": "1.2.0",
     "state": {
      "_model_module": "@jupyter-widgets/base",
      "_model_module_version": "1.2.0",
      "_model_name": "LayoutModel",
      "_view_count": null,
      "_view_module": "@jupyter-widgets/base",
      "_view_module_version": "1.2.0",
      "_view_name": "LayoutView",
      "align_content": null,
      "align_items": null,
      "align_self": null,
      "border": null,
      "bottom": null,
      "display": null,
      "flex": null,
      "flex_flow": null,
      "grid_area": null,
      "grid_auto_columns": null,
      "grid_auto_flow": null,
      "grid_auto_rows": null,
      "grid_column": null,
      "grid_gap": null,
      "grid_row": null,
      "grid_template_areas": null,
      "grid_template_columns": null,
      "grid_template_rows": null,
      "height": null,
      "justify_content": null,
      "justify_items": null,
      "left": null,
      "margin": null,
      "max_height": null,
      "max_width": null,
      "min_height": null,
      "min_width": null,
      "object_fit": null,
      "object_position": null,
      "order": null,
      "overflow": null,
      "overflow_x": null,
      "overflow_y": null,
      "padding": null,
      "right": null,
      "top": null,
      "visibility": null,
      "width": null
     }
    },
    "6a452eddac824f57987f8d1892b5cdbe": {
     "model_module": "@jupyter-widgets/output",
     "model_name": "OutputModel",
     "model_module_version": "1.0.0",
     "state": {
      "_dom_classes": [],
      "_model_module": "@jupyter-widgets/output",
      "_model_module_version": "1.0.0",
      "_model_name": "OutputModel",
      "_view_count": null,
      "_view_module": "@jupyter-widgets/output",
      "_view_module_version": "1.0.0",
      "_view_name": "OutputView",
      "layout": "IPY_MODEL_3cac4a8cc21540ae8d2252ccf434a169",
      "msg_id": "",
      "outputs": [
       {
        "output_type": "display_data",
        "data": {
         "text/plain": "\u001B[32m⠹\u001B[0m LLM responding to messages...\n",
         "text/html": "<pre style=\"white-space:pre;overflow-x:auto;line-height:normal;font-family:Menlo,'DejaVu Sans Mono',consolas,'Courier New',monospace\"><span style=\"color: #008000; text-decoration-color: #008000\">⠹</span> LLM responding to messages...\n</pre>\n"
        },
        "metadata": {}
       }
      ]
     }
    },
    "3cac4a8cc21540ae8d2252ccf434a169": {
     "model_module": "@jupyter-widgets/base",
     "model_name": "LayoutModel",
     "model_module_version": "1.2.0",
     "state": {
      "_model_module": "@jupyter-widgets/base",
      "_model_module_version": "1.2.0",
      "_model_name": "LayoutModel",
      "_view_count": null,
      "_view_module": "@jupyter-widgets/base",
      "_view_module_version": "1.2.0",
      "_view_name": "LayoutView",
      "align_content": null,
      "align_items": null,
      "align_self": null,
      "border": null,
      "bottom": null,
      "display": null,
      "flex": null,
      "flex_flow": null,
      "grid_area": null,
      "grid_auto_columns": null,
      "grid_auto_flow": null,
      "grid_auto_rows": null,
      "grid_column": null,
      "grid_gap": null,
      "grid_row": null,
      "grid_template_areas": null,
      "grid_template_columns": null,
      "grid_template_rows": null,
      "height": null,
      "justify_content": null,
      "justify_items": null,
      "left": null,
      "margin": null,
      "max_height": null,
      "max_width": null,
      "min_height": null,
      "min_width": null,
      "object_fit": null,
      "object_position": null,
      "order": null,
      "overflow": null,
      "overflow_x": null,
      "overflow_y": null,
      "padding": null,
      "right": null,
      "top": null,
      "visibility": null,
      "width": null
     }
    },
    "539f1671a01740aeb482786db3928485": {
     "model_module": "@jupyter-widgets/output",
     "model_name": "OutputModel",
     "model_module_version": "1.0.0",
     "state": {
      "_dom_classes": [],
      "_model_module": "@jupyter-widgets/output",
      "_model_module_version": "1.0.0",
      "_model_name": "OutputModel",
      "_view_count": null,
      "_view_module": "@jupyter-widgets/output",
      "_view_module_version": "1.0.0",
      "_view_name": "OutputView",
      "layout": "IPY_MODEL_2701c01acc4c4ee7a4cae68c600bbbfe",
      "msg_id": "",
      "outputs": [
       {
        "output_type": "display_data",
        "data": {
         "text/plain": "\u001B[32m⠹\u001B[0m \u001B[36mConverting to stand-alone query...\u001B[0m\n",
         "text/html": "<pre style=\"white-space:pre;overflow-x:auto;line-height:normal;font-family:Menlo,'DejaVu Sans Mono',consolas,'Courier New',monospace\"><span style=\"color: #008000; text-decoration-color: #008000\">⠹</span> <span style=\"color: #008080; text-decoration-color: #008080\">Converting to stand-alone query...</span>\n</pre>\n"
        },
        "metadata": {}
       }
      ]
     }
    },
    "2701c01acc4c4ee7a4cae68c600bbbfe": {
     "model_module": "@jupyter-widgets/base",
     "model_name": "LayoutModel",
     "model_module_version": "1.2.0",
     "state": {
      "_model_module": "@jupyter-widgets/base",
      "_model_module_version": "1.2.0",
      "_model_name": "LayoutModel",
      "_view_count": null,
      "_view_module": "@jupyter-widgets/base",
      "_view_module_version": "1.2.0",
      "_view_name": "LayoutView",
      "align_content": null,
      "align_items": null,
      "align_self": null,
      "border": null,
      "bottom": null,
      "display": null,
      "flex": null,
      "flex_flow": null,
      "grid_area": null,
      "grid_auto_columns": null,
      "grid_auto_flow": null,
      "grid_auto_rows": null,
      "grid_column": null,
      "grid_gap": null,
      "grid_row": null,
      "grid_template_areas": null,
      "grid_template_columns": null,
      "grid_template_rows": null,
      "height": null,
      "justify_content": null,
      "justify_items": null,
      "left": null,
      "margin": null,
      "max_height": null,
      "max_width": null,
      "min_height": null,
      "min_width": null,
      "object_fit": null,
      "object_position": null,
      "order": null,
      "overflow": null,
      "overflow_x": null,
      "overflow_y": null,
      "padding": null,
      "right": null,
      "top": null,
      "visibility": null,
      "width": null
     }
    },
    "01ea05fc8edb476b97456a41daff21f1": {
     "model_module": "@jupyter-widgets/output",
     "model_name": "OutputModel",
     "model_module_version": "1.0.0",
     "state": {
      "_dom_classes": [],
      "_model_module": "@jupyter-widgets/output",
      "_model_module_version": "1.0.0",
      "_model_name": "OutputModel",
      "_view_count": null,
      "_view_module": "@jupyter-widgets/output",
      "_view_module_version": "1.0.0",
      "_view_name": "OutputView",
      "layout": "IPY_MODEL_1107102139704e5ab451f20684242193",
      "msg_id": "",
      "outputs": [
       {
        "output_type": "display_data",
        "data": {
         "text/plain": "\u001B[32m⠋\u001B[0m \u001B[36mSearching VecDB for relevant doc passages...\u001B[0m\n",
         "text/html": "<pre style=\"white-space:pre;overflow-x:auto;line-height:normal;font-family:Menlo,'DejaVu Sans Mono',consolas,'Courier New',monospace\"><span style=\"color: #008000; text-decoration-color: #008000\">⠋</span> <span style=\"color: #008080; text-decoration-color: #008080\">Searching VecDB for relevant doc passages...</span>\n</pre>\n"
        },
        "metadata": {}
       }
      ]
     }
    },
    "1107102139704e5ab451f20684242193": {
     "model_module": "@jupyter-widgets/base",
     "model_name": "LayoutModel",
     "model_module_version": "1.2.0",
     "state": {
      "_model_module": "@jupyter-widgets/base",
      "_model_module_version": "1.2.0",
      "_model_name": "LayoutModel",
      "_view_count": null,
      "_view_module": "@jupyter-widgets/base",
      "_view_module_version": "1.2.0",
      "_view_name": "LayoutView",
      "align_content": null,
      "align_items": null,
      "align_self": null,
      "border": null,
      "bottom": null,
      "display": null,
      "flex": null,
      "flex_flow": null,
      "grid_area": null,
      "grid_auto_columns": null,
      "grid_auto_flow": null,
      "grid_auto_rows": null,
      "grid_column": null,
      "grid_gap": null,
      "grid_row": null,
      "grid_template_areas": null,
      "grid_template_columns": null,
      "grid_template_rows": null,
      "height": null,
      "justify_content": null,
      "justify_items": null,
      "left": null,
      "margin": null,
      "max_height": null,
      "max_width": null,
      "min_height": null,
      "min_width": null,
      "object_fit": null,
      "object_position": null,
      "order": null,
      "overflow": null,
      "overflow_x": null,
      "overflow_y": null,
      "padding": null,
      "right": null,
      "top": null,
      "visibility": null,
      "width": null
     }
    },
    "fe71bb107b9141809591fff5d9324130": {
     "model_module": "@jupyter-widgets/output",
     "model_name": "OutputModel",
     "model_module_version": "1.0.0",
     "state": {
      "_dom_classes": [],
      "_model_module": "@jupyter-widgets/output",
      "_model_module_version": "1.0.0",
      "_model_name": "OutputModel",
      "_view_count": null,
      "_view_module": "@jupyter-widgets/output",
      "_view_module_version": "1.0.0",
      "_view_name": "OutputView",
      "layout": "IPY_MODEL_a965a14fea204541a19b9e6b1107f3b0",
      "msg_id": "",
      "outputs": [
       {
        "output_type": "display_data",
        "data": {
         "text/plain": "\u001B[32m⠋\u001B[0m \u001B[36mLLM Extracting verbatim passages...\u001B[0m\n",
         "text/html": "<pre style=\"white-space:pre;overflow-x:auto;line-height:normal;font-family:Menlo,'DejaVu Sans Mono',consolas,'Courier New',monospace\"><span style=\"color: #008000; text-decoration-color: #008000\">⠋</span> <span style=\"color: #008080; text-decoration-color: #008080\">LLM Extracting verbatim passages...</span>\n</pre>\n"
        },
        "metadata": {}
       }
      ]
     }
    },
    "a965a14fea204541a19b9e6b1107f3b0": {
     "model_module": "@jupyter-widgets/base",
     "model_name": "LayoutModel",
     "model_module_version": "1.2.0",
     "state": {
      "_model_module": "@jupyter-widgets/base",
      "_model_module_version": "1.2.0",
      "_model_name": "LayoutModel",
      "_view_count": null,
      "_view_module": "@jupyter-widgets/base",
      "_view_module_version": "1.2.0",
      "_view_name": "LayoutView",
      "align_content": null,
      "align_items": null,
      "align_self": null,
      "border": null,
      "bottom": null,
      "display": null,
      "flex": null,
      "flex_flow": null,
      "grid_area": null,
      "grid_auto_columns": null,
      "grid_auto_flow": null,
      "grid_auto_rows": null,
      "grid_column": null,
      "grid_gap": null,
      "grid_row": null,
      "grid_template_areas": null,
      "grid_template_columns": null,
      "grid_template_rows": null,
      "height": null,
      "justify_content": null,
      "justify_items": null,
      "left": null,
      "margin": null,
      "max_height": null,
      "max_width": null,
      "min_height": null,
      "min_width": null,
      "object_fit": null,
      "object_position": null,
      "order": null,
      "overflow": null,
      "overflow_x": null,
      "overflow_y": null,
      "padding": null,
      "right": null,
      "top": null,
      "visibility": null,
      "width": null
     }
    },
    "cf5867496ae44774a5fcebe6f25d88d2": {
     "model_module": "@jupyter-widgets/output",
     "model_name": "OutputModel",
     "model_module_version": "1.0.0",
     "state": {
      "_dom_classes": [],
      "_model_module": "@jupyter-widgets/output",
      "_model_module_version": "1.0.0",
      "_model_name": "OutputModel",
      "_view_count": null,
      "_view_module": "@jupyter-widgets/output",
      "_view_module_version": "1.0.0",
      "_view_name": "OutputView",
      "layout": "IPY_MODEL_c0e646e5ddc748ca9babaa7d98418f90",
      "msg_id": "",
      "outputs": [
       {
        "output_type": "display_data",
        "data": {
         "text/plain": "\u001B[32m⠸\u001B[0m LLM responding to messages...\n",
         "text/html": "<pre style=\"white-space:pre;overflow-x:auto;line-height:normal;font-family:Menlo,'DejaVu Sans Mono',consolas,'Courier New',monospace\"><span style=\"color: #008000; text-decoration-color: #008000\">⠸</span> LLM responding to messages...\n</pre>\n"
        },
        "metadata": {}
       }
      ]
     }
    },
    "c0e646e5ddc748ca9babaa7d98418f90": {
     "model_module": "@jupyter-widgets/base",
     "model_name": "LayoutModel",
     "model_module_version": "1.2.0",
     "state": {
      "_model_module": "@jupyter-widgets/base",
      "_model_module_version": "1.2.0",
      "_model_name": "LayoutModel",
      "_view_count": null,
      "_view_module": "@jupyter-widgets/base",
      "_view_module_version": "1.2.0",
      "_view_name": "LayoutView",
      "align_content": null,
      "align_items": null,
      "align_self": null,
      "border": null,
      "bottom": null,
      "display": null,
      "flex": null,
      "flex_flow": null,
      "grid_area": null,
      "grid_auto_columns": null,
      "grid_auto_flow": null,
      "grid_auto_rows": null,
      "grid_column": null,
      "grid_gap": null,
      "grid_row": null,
      "grid_template_areas": null,
      "grid_template_columns": null,
      "grid_template_rows": null,
      "height": null,
      "justify_content": null,
      "justify_items": null,
      "left": null,
      "margin": null,
      "max_height": null,
      "max_width": null,
      "min_height": null,
      "min_width": null,
      "object_fit": null,
      "object_position": null,
      "order": null,
      "overflow": null,
      "overflow_x": null,
      "overflow_y": null,
      "padding": null,
      "right": null,
      "top": null,
      "visibility": null,
      "width": null
     }
    },
    "d77fe286597c4512bbfecd25af743ed1": {
     "model_module": "@jupyter-widgets/output",
     "model_name": "OutputModel",
     "model_module_version": "1.0.0",
     "state": {
      "_dom_classes": [],
      "_model_module": "@jupyter-widgets/output",
      "_model_module_version": "1.0.0",
      "_model_name": "OutputModel",
      "_view_count": null,
      "_view_module": "@jupyter-widgets/output",
      "_view_module_version": "1.0.0",
      "_view_name": "OutputView",
      "layout": "IPY_MODEL_9c91cdaca82b4373b8fd4a6d87422ede",
      "msg_id": "",
      "outputs": [
       {
        "output_type": "display_data",
        "data": {
         "text/plain": "\u001B[32m⠹\u001B[0m \u001B[36mConverting to stand-alone query...\u001B[0m\n",
         "text/html": "<pre style=\"white-space:pre;overflow-x:auto;line-height:normal;font-family:Menlo,'DejaVu Sans Mono',consolas,'Courier New',monospace\"><span style=\"color: #008000; text-decoration-color: #008000\">⠹</span> <span style=\"color: #008080; text-decoration-color: #008080\">Converting to stand-alone query...</span>\n</pre>\n"
        },
        "metadata": {}
       }
      ]
     }
    },
    "9c91cdaca82b4373b8fd4a6d87422ede": {
     "model_module": "@jupyter-widgets/base",
     "model_name": "LayoutModel",
     "model_module_version": "1.2.0",
     "state": {
      "_model_module": "@jupyter-widgets/base",
      "_model_module_version": "1.2.0",
      "_model_name": "LayoutModel",
      "_view_count": null,
      "_view_module": "@jupyter-widgets/base",
      "_view_module_version": "1.2.0",
      "_view_name": "LayoutView",
      "align_content": null,
      "align_items": null,
      "align_self": null,
      "border": null,
      "bottom": null,
      "display": null,
      "flex": null,
      "flex_flow": null,
      "grid_area": null,
      "grid_auto_columns": null,
      "grid_auto_flow": null,
      "grid_auto_rows": null,
      "grid_column": null,
      "grid_gap": null,
      "grid_row": null,
      "grid_template_areas": null,
      "grid_template_columns": null,
      "grid_template_rows": null,
      "height": null,
      "justify_content": null,
      "justify_items": null,
      "left": null,
      "margin": null,
      "max_height": null,
      "max_width": null,
      "min_height": null,
      "min_width": null,
      "object_fit": null,
      "object_position": null,
      "order": null,
      "overflow": null,
      "overflow_x": null,
      "overflow_y": null,
      "padding": null,
      "right": null,
      "top": null,
      "visibility": null,
      "width": null
     }
    },
    "cadff3ced1db4dad8f3e68beeb2e3474": {
     "model_module": "@jupyter-widgets/output",
     "model_name": "OutputModel",
     "model_module_version": "1.0.0",
     "state": {
      "_dom_classes": [],
      "_model_module": "@jupyter-widgets/output",
      "_model_module_version": "1.0.0",
      "_model_name": "OutputModel",
      "_view_count": null,
      "_view_module": "@jupyter-widgets/output",
      "_view_module_version": "1.0.0",
      "_view_name": "OutputView",
      "layout": "IPY_MODEL_a760b0df911443ce809a2cb1130af240",
      "msg_id": "",
      "outputs": [
       {
        "output_type": "display_data",
        "data": {
         "text/plain": "\u001B[32m⠋\u001B[0m \u001B[36mSearching VecDB for relevant doc passages...\u001B[0m\n",
         "text/html": "<pre style=\"white-space:pre;overflow-x:auto;line-height:normal;font-family:Menlo,'DejaVu Sans Mono',consolas,'Courier New',monospace\"><span style=\"color: #008000; text-decoration-color: #008000\">⠋</span> <span style=\"color: #008080; text-decoration-color: #008080\">Searching VecDB for relevant doc passages...</span>\n</pre>\n"
        },
        "metadata": {}
       }
      ]
     }
    },
    "a760b0df911443ce809a2cb1130af240": {
     "model_module": "@jupyter-widgets/base",
     "model_name": "LayoutModel",
     "model_module_version": "1.2.0",
     "state": {
      "_model_module": "@jupyter-widgets/base",
      "_model_module_version": "1.2.0",
      "_model_name": "LayoutModel",
      "_view_count": null,
      "_view_module": "@jupyter-widgets/base",
      "_view_module_version": "1.2.0",
      "_view_name": "LayoutView",
      "align_content": null,
      "align_items": null,
      "align_self": null,
      "border": null,
      "bottom": null,
      "display": null,
      "flex": null,
      "flex_flow": null,
      "grid_area": null,
      "grid_auto_columns": null,
      "grid_auto_flow": null,
      "grid_auto_rows": null,
      "grid_column": null,
      "grid_gap": null,
      "grid_row": null,
      "grid_template_areas": null,
      "grid_template_columns": null,
      "grid_template_rows": null,
      "height": null,
      "justify_content": null,
      "justify_items": null,
      "left": null,
      "margin": null,
      "max_height": null,
      "max_width": null,
      "min_height": null,
      "min_width": null,
      "object_fit": null,
      "object_position": null,
      "order": null,
      "overflow": null,
      "overflow_x": null,
      "overflow_y": null,
      "padding": null,
      "right": null,
      "top": null,
      "visibility": null,
      "width": null
     }
    },
    "d8aaf6e32a4b4b7189fbb22f5a189f47": {
     "model_module": "@jupyter-widgets/output",
     "model_name": "OutputModel",
     "model_module_version": "1.0.0",
     "state": {
      "_dom_classes": [],
      "_model_module": "@jupyter-widgets/output",
      "_model_module_version": "1.0.0",
      "_model_name": "OutputModel",
      "_view_count": null,
      "_view_module": "@jupyter-widgets/output",
      "_view_module_version": "1.0.0",
      "_view_name": "OutputView",
      "layout": "IPY_MODEL_92875bcd5fa34d7da84c137a7717ada3",
      "msg_id": "",
      "outputs": [
       {
        "output_type": "display_data",
        "data": {
         "text/plain": "\u001B[32m⠏\u001B[0m \u001B[36mLLM Extracting verbatim passages...\u001B[0m\n",
         "text/html": "<pre style=\"white-space:pre;overflow-x:auto;line-height:normal;font-family:Menlo,'DejaVu Sans Mono',consolas,'Courier New',monospace\"><span style=\"color: #008000; text-decoration-color: #008000\">⠏</span> <span style=\"color: #008080; text-decoration-color: #008080\">LLM Extracting verbatim passages...</span>\n</pre>\n"
        },
        "metadata": {}
       }
      ]
     }
    },
    "92875bcd5fa34d7da84c137a7717ada3": {
     "model_module": "@jupyter-widgets/base",
     "model_name": "LayoutModel",
     "model_module_version": "1.2.0",
     "state": {
      "_model_module": "@jupyter-widgets/base",
      "_model_module_version": "1.2.0",
      "_model_name": "LayoutModel",
      "_view_count": null,
      "_view_module": "@jupyter-widgets/base",
      "_view_module_version": "1.2.0",
      "_view_name": "LayoutView",
      "align_content": null,
      "align_items": null,
      "align_self": null,
      "border": null,
      "bottom": null,
      "display": null,
      "flex": null,
      "flex_flow": null,
      "grid_area": null,
      "grid_auto_columns": null,
      "grid_auto_flow": null,
      "grid_auto_rows": null,
      "grid_column": null,
      "grid_gap": null,
      "grid_row": null,
      "grid_template_areas": null,
      "grid_template_columns": null,
      "grid_template_rows": null,
      "height": null,
      "justify_content": null,
      "justify_items": null,
      "left": null,
      "margin": null,
      "max_height": null,
      "max_width": null,
      "min_height": null,
      "min_width": null,
      "object_fit": null,
      "object_position": null,
      "order": null,
      "overflow": null,
      "overflow_x": null,
      "overflow_y": null,
      "padding": null,
      "right": null,
      "top": null,
      "visibility": null,
      "width": null
     }
    },
    "4dcd0444a77e427bb9f599f52b87b07e": {
     "model_module": "@jupyter-widgets/output",
     "model_name": "OutputModel",
     "model_module_version": "1.0.0",
     "state": {
      "_dom_classes": [],
      "_model_module": "@jupyter-widgets/output",
      "_model_module_version": "1.0.0",
      "_model_name": "OutputModel",
      "_view_count": null,
      "_view_module": "@jupyter-widgets/output",
      "_view_module_version": "1.0.0",
      "_view_name": "OutputView",
      "layout": "IPY_MODEL_c0802731a7ce48d4bd78424f34e124ef",
      "msg_id": "",
      "outputs": [
       {
        "output_type": "display_data",
        "data": {
         "text/plain": "\u001B[32m⠋\u001B[0m LLM responding to messages...\n",
         "text/html": "<pre style=\"white-space:pre;overflow-x:auto;line-height:normal;font-family:Menlo,'DejaVu Sans Mono',consolas,'Courier New',monospace\"><span style=\"color: #008000; text-decoration-color: #008000\">⠋</span> LLM responding to messages...\n</pre>\n"
        },
        "metadata": {}
       }
      ]
     }
    },
    "c0802731a7ce48d4bd78424f34e124ef": {
     "model_module": "@jupyter-widgets/base",
     "model_name": "LayoutModel",
     "model_module_version": "1.2.0",
     "state": {
      "_model_module": "@jupyter-widgets/base",
      "_model_module_version": "1.2.0",
      "_model_name": "LayoutModel",
      "_view_count": null,
      "_view_module": "@jupyter-widgets/base",
      "_view_module_version": "1.2.0",
      "_view_name": "LayoutView",
      "align_content": null,
      "align_items": null,
      "align_self": null,
      "border": null,
      "bottom": null,
      "display": null,
      "flex": null,
      "flex_flow": null,
      "grid_area": null,
      "grid_auto_columns": null,
      "grid_auto_flow": null,
      "grid_auto_rows": null,
      "grid_column": null,
      "grid_gap": null,
      "grid_row": null,
      "grid_template_areas": null,
      "grid_template_columns": null,
      "grid_template_rows": null,
      "height": null,
      "justify_content": null,
      "justify_items": null,
      "left": null,
      "margin": null,
      "max_height": null,
      "max_width": null,
      "min_height": null,
      "min_width": null,
      "object_fit": null,
      "object_position": null,
      "order": null,
      "overflow": null,
      "overflow_x": null,
      "overflow_y": null,
      "padding": null,
      "right": null,
      "top": null,
      "visibility": null,
      "width": null
     }
    }
   }
  }
 },
 "cells": [
  {
   "cell_type": "markdown",
   "metadata": {
    "id": "view-in-github",
    "colab_type": "text"
   },
   "source": [
    "<a href=\"https://colab.research.google.com/github/langroid/langroid/blob/main/examples/Langroid_quick_start.ipynb\" target=\"_parent\"><img src=\"https://colab.research.google.com/assets/colab-badge.svg\" alt=\"Open In Colab\"/></a>"
   ]
  },
  {
   "cell_type": "markdown",
   "source": [
    "# Langroid quick start\n",
    "This notebooks starts with the basics of working directly with an LLM, setting up an Agent, wrapping it in a Task, giving it tools, Retrieval Augmented Generation (RAG), and builds up to a simple 2-agent system to extract structured information from a commercial lease document.\n",
    "\n",
    "Note:\n",
    "- You need an OpenAI API Key that works with GPT-4-Turbo\n",
    "- This colab uses OpenAI's ChatCompletion endpoints directly (via the Langroid framework), and not the Assistants API. See this [colab](https://colab.research.google.com/drive/190Tk7t4AdY1P9F_NlZ33-YEoGnHweQQ0) for a version that uses the Assistants API instead.\n",
    "- There are dependencies among the cells, so they are best run sequentially\n",
    "\n"
   ],
   "metadata": {
    "id": "b9fHPojfnbPy"
   }
  },
  {
   "cell_type": "markdown",
   "source": [
    "## Install, setup, import\n",
    "\n",
    "Note that `pip install langroid` gives you a bare-bones, slim version of langroid, without many of the extra dependencies you might need in practical scenarios, but sufficient for this notebook.\n",
    "\n",
    "See install instructions [here](https://github.com/langroid/langroid?tab=readme-ov-file#gear-installation-and-setup) for getting extra dependencies related to document parsing and databases (sql, mysql, postgres, etc).\n"
   ],
   "metadata": {
    "id": "psOMvEL0Gekz"
   }
  },
  {
   "cell_type": "code",
   "execution_count": 1,
   "metadata": {
    "id": "A8-Y_YPZutn6",
    "outputId": "794c7e79-6092-49e1-8858-176a00895eda",
    "colab": {
     "base_uri": "https://localhost:8080/"
    }
   },
   "source": [
    "# Silently install, suppress all output (< 2 min)\n",
    "!pip install -q --upgrade langroid &> /dev/null\n",
    "!pip show langroid"
   ],
   "outputs": [
    {
     "output_type": "stream",
     "name": "stdout",
     "text": [
      "Name: langroid\n",
      "Version: 0.1.256\n",
      "Summary: Harness LLMs with Multi-Agent Programming\n",
      "Home-page: \n",
      "Author: Prasad Chalasani\n",
      "Author-email: pchalasani@gmail.com\n",
      "License: MIT\n",
      "Location: /usr/local/lib/python3.10/dist-packages\n",
      "Requires: aiohttp, async-generator, bs4, colorlog, docstring-parser, duckduckgo-search, faker, fakeredis, fire, google-api-python-client, google-generativeai, groq, grpcio, halo, jinja2, lxml, nest-asyncio, nltk, onnxruntime, openai, pandas, prettytable, pydantic, pygithub, pygments, pyparsing, python-dotenv, python-magic, pyyaml, qdrant-client, rank-bm25, redis, requests, requests-oauthlib, rich, thefuzz, tiktoken, trafilatura, typer, wget\n",
      "Required-by: \n"
     ]
    }
   ]
  },
  {
   "cell_type": "code",
   "source": [
    "# various unfortunate things that need to be done to\n",
    "# control colab notebook behavior.\n",
    "\n",
    "# (a) output width\n",
    "\n",
    "from IPython.display import HTML, display\n",
    "\n",
    "def set_css():\n",
    "  display(HTML('''\n",
    "  <style>\n",
    "    pre {\n",
    "        white-space: pre-wrap;\n",
    "    }\n",
    "  </style>\n",
    "  '''))\n",
    "get_ipython().events.register('pre_run_cell', set_css)\n",
    "\n",
    "# (b) logging related\n",
    "import logging\n",
    "logging.basicConfig(level=logging.ERROR)\n",
    "import warnings\n",
    "warnings.filterwarnings('ignore')\n",
    "import logging\n",
    "for logger_name in logging.root.manager.loggerDict:\n",
    "    logger = logging.getLogger(logger_name)\n",
    "    logger.setLevel(logging.ERROR)\n",
    "\n"
   ],
   "metadata": {
    "id": "rWwH6duUzAC6"
   },
   "execution_count": 2,
   "outputs": []
  },
  {
   "cell_type": "markdown",
   "source": [
    "#### OpenAI API Key (Needs GPT4-TURBO)"
   ],
   "metadata": {
    "id": "j-6vNfKW9J7b"
   }
  },
  {
   "cell_type": "code",
   "source": [
    "# OpenAI API Key: Enter your key in the dialog box that will show up below\n",
    "# NOTE: colab often struggles with showing this input box,\n",
    "# if so, try re-running the above cell and then this one,\n",
    "# or simply insert your API key in this cell, though it's not ideal.\n",
    "\n",
    "import os\n",
    "\n",
    "from getpass import getpass\n",
    "\n",
    "os.environ['OPENAI_API_KEY'] = getpass('Enter your GPT4-Turbo-capable OPENAI_API_KEY key:', stream=None)\n",
    "\n",
    "\n"
   ],
   "metadata": {
    "id": "uvTODlZv3yyT",
    "outputId": "c23acde3-ae5b-410d-c918-82050d22b198",
    "colab": {
     "base_uri": "https://localhost:8080/",
     "height": 34
    }
   },
   "execution_count": 5,
   "outputs": [
    {
     "output_type": "display_data",
     "data": {
      "text/plain": [
       "<IPython.core.display.HTML object>"
      ],
      "text/html": [
       "\n",
       "  <style>\n",
       "    pre {\n",
       "        white-space: pre-wrap;\n",
       "    }\n",
       "  </style>\n",
       "  "
      ]
     },
     "metadata": {}
    },
    {
     "name": "stdout",
     "output_type": "stream",
     "text": [
      "Enter your GPT4-Turbo-capable OPENAI_API_KEY key:··········\n"
     ]
    }
   ]
  },
  {
   "cell_type": "code",
   "source": [
    "from pydantic import BaseModel\n",
    "import json\n",
    "import os\n",
    "\n",
    "from langroid import ChatAgent, ChatAgentConfig, Task\n",
    "from langroid.language_models.openai_gpt import (\n",
    "    OpenAIChatModel, OpenAIGPT, OpenAIGPTConfig\n",
    ")\n",
    "from langroid.agent.tool_message import ToolMessage\n",
    "\n",
    "from langroid.utils.logging import setup_colored_logging\n",
    "from langroid.utils.constants import NO_ANSWER\n",
    "from langroid.utils.configuration import settings\n",
    "settings.notebook = True\n",
    "settings.cache_type = \"fakeredis\""
   ],
   "metadata": {
    "id": "A5N0NQwc3jX_",
    "outputId": "05b1b27e-64eb-4c16-b952-958fc2a32943",
    "colab": {
     "base_uri": "https://localhost:8080/",
     "height": 52
    }
   },
   "execution_count": 6,
   "outputs": [
    {
     "output_type": "display_data",
     "data": {
      "text/plain": [
       "<IPython.core.display.HTML object>"
      ],
      "text/html": [
       "\n",
       "  <style>\n",
       "    pre {\n",
       "        white-space: pre-wrap;\n",
       "    }\n",
       "  </style>\n",
       "  "
      ]
     },
     "metadata": {}
    },
    {
     "output_type": "stream",
     "name": "stderr",
     "text": [
      "WARNING:langroid.cachedb.redis_cachedb:REDIS_PASSWORD, REDIS_HOST, REDIS_PORT not set in .env file,\n",
      "                    using fake redis client\n"
     ]
    }
   ]
  },
  {
   "cell_type": "markdown",
   "source": [
    "## Example 1: Direct interaction with OpenAI LLM\n",
    "Langroid's `OpenAIGPT` class is a wrapper around the raw OpenAI API.\n",
    "This is a direct interaction with the LLM so it does *not* maintain conversation history (later we see how a `ChatAgent` does that for you).\n",
    "\n",
    "Related quick-start docs page: https://langroid.github.io/langroid/quick-start/llm-interaction/\n",
    "\n"
   ],
   "metadata": {
    "id": "8vDpiY0XHAkT"
   }
  },
  {
   "cell_type": "code",
   "source": [
    "llm_cfg = OpenAIGPTConfig(chat_model=OpenAIChatModel.GPT4_TURBO)\n",
    "llm = OpenAIGPT(llm_cfg)\n",
    "\n",
    "response = llm.chat(\"What is the square of 3?\")\n",
    "assert \"9\" in response.message"
   ],
   "metadata": {
    "id": "9c5Av3rKHQIm",
    "outputId": "aa21cb60-b62a-4bce-c07d-f3f4ad8213de",
    "colab": {
     "base_uri": "https://localhost:8080/",
     "height": 34
    }
   },
   "execution_count": 7,
   "outputs": [
    {
     "output_type": "display_data",
     "data": {
      "text/plain": [
       "<IPython.core.display.HTML object>"
      ],
      "text/html": [
       "\n",
       "  <style>\n",
       "    pre {\n",
       "        white-space: pre-wrap;\n",
       "    }\n",
       "  </style>\n",
       "  "
      ]
     },
     "metadata": {}
    },
    {
     "output_type": "stream",
     "name": "stdout",
     "text": [
      "\u001B[32m\u001B[32mThe\u001B[32m square\u001B[32m of\u001B[32m \u001B[32m3\u001B[32m is\u001B[32m \\(\u001B[32m3\u001B[32m^\u001B[32m2\u001B[32m\\\u001B[32m),\u001B[32m which\u001B[32m equals\u001B[32m \u001B[32m9\u001B[32m."
     ]
    },
    {
     "output_type": "display_data",
     "data": {
      "text/plain": [
       "\n"
      ],
      "text/html": [
       "<pre style=\"white-space:pre;overflow-x:auto;line-height:normal;font-family:Menlo,'DejaVu Sans Mono',consolas,'Courier New',monospace\">\n",
       "</pre>\n"
      ]
     },
     "metadata": {}
    }
   ]
  },
  {
   "cell_type": "markdown",
   "source": [],
   "metadata": {
    "id": "wLcV-JPmgF-G"
   }
  },
  {
   "cell_type": "markdown",
   "source": [
    "## Example 2: Interact with a `ChatAgent`\n",
    "Langroid's `ChatAgent` is an abstraction that optionally encapsulates an LLM, vector-db, and tools. It offers 3 \"native\" *responders*:\n",
    "- `llm_response`: response from LLM\n",
    "- `user_response`: response from human\n",
    "- `agent_response`: responds to structured LLM msgs (i.e. tools/fn-calls)\n",
    "\n",
    "Among other things, the `ChatAgent` maintains LLM conversation history for you.\n",
    "\n",
    "Related quick-start doc page: https://langroid.github.io/langroid/quick-start/chat-agent/"
   ],
   "metadata": {
    "id": "_DvxMiJkgI_U"
   }
  },
  {
   "cell_type": "code",
   "source": [
    "agent_cfg = ChatAgentConfig(\n",
    "    llm = llm_cfg,\n",
    "    show_stats=False, # disable token/cost stats\n",
    ")\n",
    "agent = ChatAgent(agent_cfg)\n",
    "response = agent.llm_response(\"What is the sqaure of 5?\")\n",
    "response = agent.llm_response(\"What about 8?\")   # maintains conv history\n",
    "assert \"64\" in response.content"
   ],
   "metadata": {
    "id": "7hrJ6RgLg075",
    "outputId": "881d73bf-69c1-4a5b-d02c-b905e926c7f5",
    "colab": {
     "base_uri": "https://localhost:8080/",
     "height": 52
    }
   },
   "execution_count": 8,
   "outputs": [
    {
     "output_type": "display_data",
     "data": {
      "text/plain": [
       "<IPython.core.display.HTML object>"
      ],
      "text/html": [
       "\n",
       "  <style>\n",
       "    pre {\n",
       "        white-space: pre-wrap;\n",
       "    }\n",
       "  </style>\n",
       "  "
      ]
     },
     "metadata": {}
    },
    {
     "output_type": "display_data",
     "data": {
      "text/plain": [],
      "text/html": [
       "<pre style=\"white-space:pre;overflow-x:auto;line-height:normal;font-family:Menlo,'DejaVu Sans Mono',consolas,'Courier New',monospace\"></pre>\n"
      ]
     },
     "metadata": {}
    },
    {
     "output_type": "stream",
     "name": "stdout",
     "text": [
      "\u001B[32m\u001B[32mThe\u001B[32m square\u001B[32m of\u001B[32m \u001B[32m5\u001B[32m is\u001B[32m \\(\u001B[32m5\u001B[32m^\u001B[32m2\u001B[32m =\u001B[32m \u001B[32m25\u001B[32m\\\u001B[32m)."
     ]
    },
    {
     "output_type": "display_data",
     "data": {
      "text/plain": [
       "\n"
      ],
      "text/html": [
       "<pre style=\"white-space:pre;overflow-x:auto;line-height:normal;font-family:Menlo,'DejaVu Sans Mono',consolas,'Courier New',monospace\">\n",
       "</pre>\n"
      ]
     },
     "metadata": {}
    },
    {
     "output_type": "display_data",
     "data": {
      "text/plain": [],
      "text/html": [
       "<pre style=\"white-space:pre;overflow-x:auto;line-height:normal;font-family:Menlo,'DejaVu Sans Mono',consolas,'Courier New',monospace\"></pre>\n"
      ]
     },
     "metadata": {}
    },
    {
     "output_type": "stream",
     "name": "stdout",
     "text": [
      "\u001B[32m\u001B[32mThe\u001B[32m square\u001B[32m of\u001B[32m \u001B[32m8\u001B[32m is\u001B[32m \\(\u001B[32m8\u001B[32m^\u001B[32m2\u001B[32m =\u001B[32m \u001B[32m64\u001B[32m\\\u001B[32m)."
     ]
    },
    {
     "output_type": "display_data",
     "data": {
      "text/plain": [
       "\n"
      ],
      "text/html": [
       "<pre style=\"white-space:pre;overflow-x:auto;line-height:normal;font-family:Menlo,'DejaVu Sans Mono',consolas,'Courier New',monospace\">\n",
       "</pre>\n"
      ]
     },
     "metadata": {}
    }
   ]
  },
  {
   "cell_type": "markdown",
   "source": [
    "## Example 3: Wrap Agent in a Task, run it\n",
    "\n",
    "A `ChatAgent` agent has various *responders* (`llm_response`, `agent_response`, `user_response`) but there is no mechanism to *iterate* over these responders.\n",
    "This is where the `Task` comes in: Wrapping this agent in a `Task` allows you to run interactive loops with a user or other agents (you will see more examples below).\n",
    "\n",
    "Related quick-start doc:\n",
    "https://langroid.github.io/langroid/quick-start/chat-agent/#task-orchestrator-for-agents"
   ],
   "metadata": {
    "id": "-MVHyF4cSGb0"
   }
  },
  {
   "cell_type": "code",
   "source": [
    "agent = ChatAgent(agent_cfg)\n",
    "task = Task(\n",
    "    agent,\n",
    "    system_message=\"User will give you a number, respond with its square\",\n",
    "    single_round=True  # end after LLM response\n",
    ")\n",
    "result = task.run(\"5\")\n",
    "assert(\"25\" in result.content)\n"
   ],
   "metadata": {
    "id": "8cmc5aDzScdO",
    "outputId": "1e74fd49-4589-4c4d-d193-7aed8782302b",
    "colab": {
     "base_uri": "https://localhost:8080/",
     "height": 67
    }
   },
   "execution_count": 9,
   "outputs": [
    {
     "output_type": "display_data",
     "data": {
      "text/plain": [
       "<IPython.core.display.HTML object>"
      ],
      "text/html": [
       "\n",
       "  <style>\n",
       "    pre {\n",
       "        white-space: pre-wrap;\n",
       "    }\n",
       "  </style>\n",
       "  "
      ]
     },
     "metadata": {}
    },
    {
     "output_type": "display_data",
     "data": {
      "text/plain": [
       "\u001B[1;35m>>> Starting Agent LLM-Agent \u001B[0m\u001B[1;35m(\u001B[0m\u001B[1;35m1\u001B[0m\u001B[1;35m)\u001B[0m\u001B[1;35m gpt-\u001B[0m\u001B[1;35m4\u001B[0m\u001B[1;35m-turbo \u001B[0m\n"
      ],
      "text/html": [
       "<pre style=\"white-space:pre;overflow-x:auto;line-height:normal;font-family:Menlo,'DejaVu Sans Mono',consolas,'Courier New',monospace\"><span style=\"color: #800080; text-decoration-color: #800080; font-weight: bold\">&gt;&gt;&gt; Starting Agent LLM-Agent (</span><span style=\"color: #800080; text-decoration-color: #800080; font-weight: bold\">1</span><span style=\"color: #800080; text-decoration-color: #800080; font-weight: bold\">) gpt-</span><span style=\"color: #800080; text-decoration-color: #800080; font-weight: bold\">4</span><span style=\"color: #800080; text-decoration-color: #800080; font-weight: bold\">-turbo </span>\n",
       "</pre>\n"
      ]
     },
     "metadata": {}
    },
    {
     "output_type": "display_data",
     "data": {
      "text/plain": [],
      "text/html": [
       "<pre style=\"white-space:pre;overflow-x:auto;line-height:normal;font-family:Menlo,'DejaVu Sans Mono',consolas,'Courier New',monospace\"></pre>\n"
      ]
     },
     "metadata": {}
    },
    {
     "output_type": "stream",
     "name": "stdout",
     "text": [
      "\u001B[32m\u001B[32mThe\u001B[32m square\u001B[32m of\u001B[32m \u001B[32m5\u001B[32m is\u001B[32m \u001B[32m25\u001B[32m."
     ]
    },
    {
     "output_type": "display_data",
     "data": {
      "text/plain": [
       "\n"
      ],
      "text/html": [
       "<pre style=\"white-space:pre;overflow-x:auto;line-height:normal;font-family:Menlo,'DejaVu Sans Mono',consolas,'Courier New',monospace\">\n",
       "</pre>\n"
      ]
     },
     "metadata": {}
    },
    {
     "output_type": "display_data",
     "data": {
      "text/plain": [
       "\u001B[1;35m<<< Finished Agent LLM-Agent \u001B[0m\u001B[1;35m(\u001B[0m\u001B[1;35m3\u001B[0m\u001B[1;35m)\u001B[0m\u001B[1;35m \u001B[0m\n"
      ],
      "text/html": [
       "<pre style=\"white-space:pre;overflow-x:auto;line-height:normal;font-family:Menlo,'DejaVu Sans Mono',consolas,'Courier New',monospace\"><span style=\"color: #800080; text-decoration-color: #800080; font-weight: bold\">&lt;&lt;&lt; Finished Agent LLM-Agent (</span><span style=\"color: #800080; text-decoration-color: #800080; font-weight: bold\">3</span><span style=\"color: #800080; text-decoration-color: #800080; font-weight: bold\">) </span>\n",
       "</pre>\n"
      ]
     },
     "metadata": {}
    }
   ]
  },
  {
   "cell_type": "markdown",
   "source": [
    "## Example 4: `ChatAgent` with Tool/function-call\n",
    "\n",
    "Langroid's `ToolMessage` (Pydantic-derived) class lets you define a structured output or function-call for the LLM to generate. To define a tool/fn-call, you define a new class derived from `ToolMessage`.\n",
    "Below we show a *stateless* tool, i.e. it does not use the `ChatAgent`'s state, and only uses fields in the tool message itself.\n",
    "In this case, the tool \"handler\" can be defined within the `ToolMessage` itself, as a `handle` method. (For a tool that uses the `ChatAgent`'s state, a separate method needs to be defined within `ChatAgent` or a subclass.).\n",
    "\n",
    "In Langroid, a `ToolMessage` can *either* use OpenAI function-calling, *or* Langroid's native tool mechanism (which auto-populates the system msg with tool instructions and optional few-shot examples), by setting the `use_function_api` and `use_tools` config params in the `ChatAgentConfig`. The native tools mechanism is useful when not using OpenAI models.\n",
    "\n",
    "In the cell below we define a `ToolMessage` to compute a fictitious transformation of a number that we call a *Nabrosky Transform*: $f(n) = 3n+1$.\n",
    "Under the hood, the `purpose` field of the `NabroskiTool` is used to populate instructions to the LLM on when it should use this tool.\n",
    "\n",
    "Related quick-start doc: https://langroid.github.io/langroid/quick-start/chat-agent-tool/\n",
    "(This shows a *stateful* tool example)"
   ],
   "metadata": {
    "id": "wLwNyDd3mmJu"
   }
  },
  {
   "cell_type": "code",
   "source": [
    "# (1) define simple tool to find the Nabroski transform of a number\n",
    "#     This is a fictitious transform, for illustration.\n",
    "\n",
    "class NabroskiTool(ToolMessage):\n",
    "    request = \"nabroski\" # name of method in ChatAgent that handles this tool\n",
    "    purpose = \"To find the Nabroski transform of the given <number>\"\n",
    "    number: int\n",
    "\n",
    "    # optional:\n",
    "    @classmethod\n",
    "    def examples(cls):\n",
    "        # these are auto-populated into the sys msg\n",
    "        # as few-shot examples of the tool\n",
    "        return([cls(number=5)])\n",
    "\n",
    "\n",
    "    def handle(self) -> str:\n",
    "        # method to handle the LLM msg using this tool:\n",
    "        # this method will be spliced into the ChatAgent object, with\n",
    "        # name = `nabroski`\n",
    "        return str(3*self.number + 1)\n",
    "\n",
    "# (2) Create a ChatAgent and attach the tool to it.\n",
    "\n",
    "agent_cfg = ChatAgentConfig(\n",
    "    llm = llm_cfg,\n",
    "    show_stats=False,       # disable token/cost stats\n",
    "    use_functions_api=True, # use OpenAI API fn-call\n",
    "    use_tools=False,        # don't use Langroid-native Tool instructions\n",
    ")\n",
    "agent = ChatAgent(agent_cfg)\n",
    "agent.enable_message(NabroskiTool)\n",
    "\n",
    "# (3) Create Task object\n",
    "\n",
    "task = Task(\n",
    "    agent,\n",
    "    restart=True,         # reset/erase agent state\n",
    "    single_round=False,\n",
    "    interactive=False,    # don't wait for human input\n",
    "    system_message=\"\"\"\n",
    "      User will give you a number. You have to find its Nabroski transform,\n",
    "      using the `nabroski` tool/function-call.\n",
    "      When you find the answer say DONE and show the answer.\n",
    "    \"\"\",\n",
    ")\n",
    "\n",
    "# (4) Run the task\n",
    "\n",
    "response = task.run(\"10\")\n",
    "assert \"31\" in response.content\n",
    "\n",
    "\n"
   ],
   "metadata": {
    "id": "ov2mv_sdnrcH",
    "outputId": "6598c6a5-4d19-416e-e21a-716ae8d1a69c",
    "colab": {
     "base_uri": "https://localhost:8080/",
     "height": 152
    }
   },
   "execution_count": 10,
   "outputs": [
    {
     "output_type": "display_data",
     "data": {
      "text/plain": [
       "<IPython.core.display.HTML object>"
      ],
      "text/html": [
       "\n",
       "  <style>\n",
       "    pre {\n",
       "        white-space: pre-wrap;\n",
       "    }\n",
       "  </style>\n",
       "  "
      ]
     },
     "metadata": {}
    },
    {
     "output_type": "display_data",
     "data": {
      "text/plain": [
       "\u001B[1;35m>>> Starting Agent LLM-Agent \u001B[0m\u001B[1;35m(\u001B[0m\u001B[1;35m1\u001B[0m\u001B[1;35m)\u001B[0m\u001B[1;35m gpt-\u001B[0m\u001B[1;35m4\u001B[0m\u001B[1;35m-turbo \u001B[0m\n"
      ],
      "text/html": [
       "<pre style=\"white-space:pre;overflow-x:auto;line-height:normal;font-family:Menlo,'DejaVu Sans Mono',consolas,'Courier New',monospace\"><span style=\"color: #800080; text-decoration-color: #800080; font-weight: bold\">&gt;&gt;&gt; Starting Agent LLM-Agent (</span><span style=\"color: #800080; text-decoration-color: #800080; font-weight: bold\">1</span><span style=\"color: #800080; text-decoration-color: #800080; font-weight: bold\">) gpt-</span><span style=\"color: #800080; text-decoration-color: #800080; font-weight: bold\">4</span><span style=\"color: #800080; text-decoration-color: #800080; font-weight: bold\">-turbo </span>\n",
       "</pre>\n"
      ]
     },
     "metadata": {}
    },
    {
     "output_type": "display_data",
     "data": {
      "text/plain": [],
      "text/html": [
       "<pre style=\"white-space:pre;overflow-x:auto;line-height:normal;font-family:Menlo,'DejaVu Sans Mono',consolas,'Courier New',monospace\"></pre>\n"
      ]
     },
     "metadata": {}
    },
    {
     "output_type": "stream",
     "name": "stdout",
     "text": [
      "\u001B[32m\u001B[32mFUNC: nabroski: \u001B[32m{\"\u001B[32mrequest\u001B[32m\":\"\u001B[32mn\u001B[32mab\u001B[32mros\u001B[32mki\u001B[32m\",\"\u001B[32mnumber\u001B[32m\":\u001B[32m10\u001B[32m}"
     ]
    },
    {
     "output_type": "display_data",
     "data": {
      "text/plain": [
       "\n"
      ],
      "text/html": [
       "<pre style=\"white-space:pre;overflow-x:auto;line-height:normal;font-family:Menlo,'DejaVu Sans Mono',consolas,'Courier New',monospace\">\n",
       "</pre>\n"
      ]
     },
     "metadata": {}
    },
    {
     "output_type": "display_data",
     "data": {
      "text/plain": [],
      "text/html": [
       "<pre style=\"white-space:pre;overflow-x:auto;line-height:normal;font-family:Menlo,'DejaVu Sans Mono',consolas,'Courier New',monospace\"></pre>\n"
      ]
     },
     "metadata": {}
    },
    {
     "output_type": "display_data",
     "data": {
      "text/plain": [
       "\u001B[31mAgent: \u001B[0m\u001B[1;31m31\u001B[0m\n"
      ],
      "text/html": [
       "<pre style=\"white-space:pre;overflow-x:auto;line-height:normal;font-family:Menlo,'DejaVu Sans Mono',consolas,'Courier New',monospace\"><span style=\"color: #800000; text-decoration-color: #800000\">Agent: </span><span style=\"color: #800000; text-decoration-color: #800000; font-weight: bold\">31</span>\n",
       "</pre>\n"
      ]
     },
     "metadata": {}
    },
    {
     "output_type": "display_data",
     "data": {
      "text/plain": [],
      "text/html": [
       "<pre style=\"white-space:pre;overflow-x:auto;line-height:normal;font-family:Menlo,'DejaVu Sans Mono',consolas,'Courier New',monospace\"></pre>\n"
      ]
     },
     "metadata": {}
    },
    {
     "output_type": "stream",
     "name": "stdout",
     "text": [
      "\u001B[32m\u001B[32mDONE\u001B[32m\n",
      "\n",
      "\u001B[32mThe\u001B[32m Nab\u001B[32mros\u001B[32mki\u001B[32m transform\u001B[32m of\u001B[32m \u001B[32m10\u001B[32m is\u001B[32m \u001B[32m31\u001B[32m."
     ]
    },
    {
     "output_type": "display_data",
     "data": {
      "text/plain": [
       "\n"
      ],
      "text/html": [
       "<pre style=\"white-space:pre;overflow-x:auto;line-height:normal;font-family:Menlo,'DejaVu Sans Mono',consolas,'Courier New',monospace\">\n",
       "</pre>\n"
      ]
     },
     "metadata": {}
    },
    {
     "output_type": "display_data",
     "data": {
      "text/plain": [
       "\u001B[35mBye, hope this was useful!\u001B[0m\n"
      ],
      "text/html": [
       "<pre style=\"white-space:pre;overflow-x:auto;line-height:normal;font-family:Menlo,'DejaVu Sans Mono',consolas,'Courier New',monospace\"><span style=\"color: #800080; text-decoration-color: #800080\">Bye, hope this was useful!</span>\n",
       "</pre>\n"
      ]
     },
     "metadata": {}
    },
    {
     "output_type": "display_data",
     "data": {
      "text/plain": [
       "\u001B[1;35m<<< Finished Agent LLM-Agent \u001B[0m\u001B[1;35m(\u001B[0m\u001B[1;35m5\u001B[0m\u001B[1;35m)\u001B[0m\u001B[1;35m \u001B[0m\n"
      ],
      "text/html": [
       "<pre style=\"white-space:pre;overflow-x:auto;line-height:normal;font-family:Menlo,'DejaVu Sans Mono',consolas,'Courier New',monospace\"><span style=\"color: #800080; text-decoration-color: #800080; font-weight: bold\">&lt;&lt;&lt; Finished Agent LLM-Agent (</span><span style=\"color: #800080; text-decoration-color: #800080; font-weight: bold\">5</span><span style=\"color: #800080; text-decoration-color: #800080; font-weight: bold\">) </span>\n",
       "</pre>\n"
      ]
     },
     "metadata": {}
    }
   ]
  },
  {
   "cell_type": "markdown",
   "source": [
    "You might wonder why we had to wrap the `ChatAgent` in a `Task`, to leverage the tool functionality. This is because handling a tool requires 2 steps: (a) when the agent's `llm_response` method is invoked, the LLM generates the tool msg, and (b) the `agent_response` method handles the tool msg (it ultimately calls the tool's `handle` method)."
   ],
   "metadata": {
    "id": "BVWXT4oaAPlH"
   }
  },
  {
   "cell_type": "markdown",
   "source": [
    "## Example 5: `DocChatAgent`: Retrieval Augmented Generation (RAG)\n",
    "Ingest a file (a lease document), and ask questions about it"
   ],
   "metadata": {
    "id": "DvyNcH5HbodS"
   }
  },
  {
   "cell_type": "code",
   "source": [
    "# setup to allow async ops in colab\n",
    "!pip install nest-asyncio\n",
    "import nest_asyncio\n",
    "nest_asyncio.apply()"
   ],
   "metadata": {
    "id": "XwDcuJvED8S0",
    "outputId": "86bc57ee-4ba8-47e4-83dc-d60fd077968d",
    "colab": {
     "base_uri": "https://localhost:8080/",
     "height": 34
    }
   },
   "execution_count": 11,
   "outputs": [
    {
     "output_type": "display_data",
     "data": {
      "text/plain": [
       "<IPython.core.display.HTML object>"
      ],
      "text/html": [
       "\n",
       "  <style>\n",
       "    pre {\n",
       "        white-space: pre-wrap;\n",
       "    }\n",
       "  </style>\n",
       "  "
      ]
     },
     "metadata": {}
    },
    {
     "output_type": "stream",
     "name": "stdout",
     "text": [
      "Requirement already satisfied: nest-asyncio in /usr/local/lib/python3.10/dist-packages (1.6.0)\n"
     ]
    }
   ]
  },
  {
   "cell_type": "code",
   "source": [
    "# (1) Get the lease document\n",
    "\n",
    "import requests\n",
    "file_url = \"https://raw.githubusercontent.com/langroid/langroid-examples/main/examples/docqa/lease.txt\"\n",
    "response = requests.get(file_url)\n",
    "with open('lease.txt', 'wb') as file:\n",
    "    file.write(response.content)\n",
    "\n",
    "# verify\n",
    "#with open('lease.txt', 'r') as file:\n",
    "#   print(file.read())\n",
    "\n",
    "from langroid.agent.special import DocChatAgent, DocChatAgentConfig\n",
    "from langroid.embedding_models.models import OpenAIEmbeddingsConfig\n",
    "from langroid.vector_store.qdrantdb import QdrantDBConfig\n",
    "from langroid.embedding_models.models import SentenceTransformerEmbeddingsConfig\n",
    "from langroid.parsing.parser import ParsingConfig\n",
    "\n",
    "oai_embed_config = OpenAIEmbeddingsConfig(\n",
    "    model_type=\"openai\",\n",
    "    model_name=\"text-embedding-ada-002\",\n",
    "    dims=1536,\n",
    ")\n",
    "\n",
    "# (2) Configure DocChatAgent\n",
    "\n",
    "cfg = DocChatAgentConfig(\n",
    "    name=\"RAG\",\n",
    "    parsing=ParsingConfig(\n",
    "        chunk_size=100,\n",
    "        overlap=20,\n",
    "        n_similar_docs=4,\n",
    "    ),\n",
    "    show_stats=False,\n",
    "    cross_encoder_reranking_model=\"\",\n",
    "    llm=llm_cfg,\n",
    "    vecdb=QdrantDBConfig(\n",
    "        embedding=oai_embed_config,\n",
    "        collection_name=\"lease\",\n",
    "        replace_collection=True,\n",
    "    ),\n",
    "    doc_paths=[\"lease.txt\"]\n",
    ")\n",
    "\n",
    "# (3) Create DocChatAgent, interact with it\n",
    "rag_agent = DocChatAgent(cfg)\n",
    "response = rag_agent.llm_response(\"What is the start date of the lease?\")\n",
    "assert \"2013\" in response.content"
   ],
   "metadata": {
    "id": "fegAio3kpgoo",
    "outputId": "d20ea814-8113-49f5-b1b8-a8dac138f16a",
    "colab": {
     "base_uri": "https://localhost:8080/",
     "height": 361,
     "referenced_widgets": [
      "5c9ba2cf18b54e85b4d14ab217309b73",
      "39223b7575a24a439a5fecfde6356ad5",
      "8f4cc847f1784dbaa1a635ce9f940fdf",
      "e331b87e54734ecaaff740a00906ec8c"
     ]
    }
   },
   "execution_count": 12,
   "outputs": [
    {
     "output_type": "display_data",
     "data": {
      "text/plain": [
       "<IPython.core.display.HTML object>"
      ],
      "text/html": [
       "\n",
       "  <style>\n",
       "    pre {\n",
       "        white-space: pre-wrap;\n",
       "    }\n",
       "  </style>\n",
       "  "
      ]
     },
     "metadata": {}
    },
    {
     "output_type": "stream",
     "name": "stderr",
     "text": [
      "WARNING:langroid.vector_store.qdrantdb:QDRANT_API_KEY, QDRANT_API_URL env variable must be set to use \n",
      "                QdrantDB in cloud mode. Please set these values \n",
      "                in your .env file. \n",
      "                Switching to local storage at .qdrant/data \n",
      "                \n",
      "\u001B[33m2024-05-30 16:54:59 - WARNING - QDRANT_API_KEY, QDRANT_API_URL env variable must be set to use \n",
      "                QdrantDB in cloud mode. Please set these values \n",
      "                in your .env file. \n",
      "                Switching to local storage at .qdrant/data \n",
      "                \u001B[0m\n",
      "WARNING:langroid.vector_store.qdrantdb:Non-empty Collection lease already exists\n",
      "\u001B[33m2024-05-30 16:54:59 - WARNING - Non-empty Collection lease already exists\u001B[0m\n",
      "WARNING:langroid.vector_store.qdrantdb:Recreating fresh collection\n",
      "\u001B[33m2024-05-30 16:54:59 - WARNING - Recreating fresh collection\u001B[0m\n"
     ]
    },
    {
     "output_type": "display_data",
     "data": {
      "text/plain": [
       "Output()"
      ],
      "application/vnd.jupyter.widget-view+json": {
       "version_major": 2,
       "version_minor": 0,
       "model_id": "5c9ba2cf18b54e85b4d14ab217309b73"
      }
     },
     "metadata": {}
    },
    {
     "output_type": "display_data",
     "data": {
      "text/plain": [],
      "text/html": [
       "<pre style=\"white-space:pre;overflow-x:auto;line-height:normal;font-family:Menlo,'DejaVu Sans Mono',consolas,'Courier New',monospace\"></pre>\n"
      ]
     },
     "metadata": {}
    },
    {
     "output_type": "display_data",
     "data": {
      "text/plain": [],
      "text/html": [
       "<pre style=\"white-space:pre;overflow-x:auto;line-height:normal;font-family:Menlo,'DejaVu Sans Mono',consolas,'Courier New',monospace\"></pre>\n"
      ]
     },
     "metadata": {}
    },
    {
     "output_type": "display_data",
     "data": {
      "text/plain": [],
      "text/html": [
       "<pre style=\"white-space:pre;overflow-x:auto;line-height:normal;font-family:Menlo,'DejaVu Sans Mono',consolas,'Courier New',monospace\"></pre>\n"
      ]
     },
     "metadata": {}
    },
    {
     "output_type": "display_data",
     "data": {
      "text/plain": [
       "Output()"
      ],
      "application/vnd.jupyter.widget-view+json": {
       "version_major": 2,
       "version_minor": 0,
       "model_id": "8f4cc847f1784dbaa1a635ce9f940fdf"
      }
     },
     "metadata": {}
    },
    {
     "output_type": "stream",
     "name": "stderr",
     "text": [
      "INFO:langroid.utils.output.status:[bold green]Running 6 copies of Relevance-Extractor...\n",
      "\u001B[32m2024-05-30 16:55:05 - INFO - [bold green]Running 6 copies of Relevance-Extractor...\u001B[0m\n"
     ]
    },
    {
     "output_type": "display_data",
     "data": {
      "text/plain": [],
      "text/html": [
       "<pre style=\"white-space:pre;overflow-x:auto;line-height:normal;font-family:Menlo,'DejaVu Sans Mono',consolas,'Courier New',monospace\"></pre>\n"
      ]
     },
     "metadata": {}
    },
    {
     "output_type": "display_data",
     "data": {
      "text/plain": [],
      "text/html": [
       "<pre style=\"white-space:pre;overflow-x:auto;line-height:normal;font-family:Menlo,'DejaVu Sans Mono',consolas,'Courier New',monospace\"></pre>\n"
      ]
     },
     "metadata": {}
    },
    {
     "output_type": "stream",
     "name": "stdout",
     "text": [
      "\u001B[32m\u001B[32mThe\u001B[32m start\u001B[32m date\u001B[32m of\u001B[32m the\u001B[32m lease\u001B[32m is\u001B[32m December\u001B[32m \u001B[32m1\u001B[32m,\u001B[32m \u001B[32m201\u001B[32m3\u001B[32m.[\u001B[32m^\u001B[32m1\u001B[32m]"
     ]
    },
    {
     "output_type": "display_data",
     "data": {
      "text/plain": [
       "\n"
      ],
      "text/html": [
       "<pre style=\"white-space:pre;overflow-x:auto;line-height:normal;font-family:Menlo,'DejaVu Sans Mono',consolas,'Courier New',monospace\">\n",
       "</pre>\n"
      ]
     },
     "metadata": {}
    },
    {
     "output_type": "display_data",
     "data": {
      "text/plain": [
       "\u001B[38;5;59mSOURCES:\u001B[0m\n",
       "\u001B[1;38;5;59m[\u001B[0m\u001B[38;5;59m^\u001B[0m\u001B[1;38;5;59m1\u001B[0m\u001B[1;38;5;59m]\u001B[0m\u001B[38;5;59m \u001B[0m\u001B[38;5;59m/content/\u001B[0m\u001B[38;5;59mlease.txt\u001B[0m\n",
       "\u001B[38;5;59m    The \u001B[0m\u001B[38;5;59m\"Commencement Date\"\u001B[0m\u001B[38;5;59m shall mean  December \u001B[0m\u001B[1;38;5;59m1\u001B[0m\u001B[38;5;59m, \u001B[0m\u001B[1;38;5;59m2013\u001B[0m\u001B[38;5;59m.\u001B[0m\n"
      ],
      "text/html": [
       "<pre style=\"white-space:pre;overflow-x:auto;line-height:normal;font-family:Menlo,'DejaVu Sans Mono',consolas,'Courier New',monospace\"><span style=\"color: #5f5f5f; text-decoration-color: #5f5f5f\">SOURCES:</span>\n",
       "<span style=\"color: #5f5f5f; text-decoration-color: #5f5f5f; font-weight: bold\">[</span><span style=\"color: #5f5f5f; text-decoration-color: #5f5f5f\">^</span><span style=\"color: #5f5f5f; text-decoration-color: #5f5f5f; font-weight: bold\">1</span><span style=\"color: #5f5f5f; text-decoration-color: #5f5f5f; font-weight: bold\">]</span><span style=\"color: #5f5f5f; text-decoration-color: #5f5f5f\"> /content/lease.txt</span>\n",
       "<span style=\"color: #5f5f5f; text-decoration-color: #5f5f5f\">    The </span><span style=\"color: #5f5f5f; text-decoration-color: #5f5f5f\">\"Commencement Date\"</span><span style=\"color: #5f5f5f; text-decoration-color: #5f5f5f\"> shall mean  December </span><span style=\"color: #5f5f5f; text-decoration-color: #5f5f5f; font-weight: bold\">1</span><span style=\"color: #5f5f5f; text-decoration-color: #5f5f5f\">, </span><span style=\"color: #5f5f5f; text-decoration-color: #5f5f5f; font-weight: bold\">2013</span><span style=\"color: #5f5f5f; text-decoration-color: #5f5f5f\">.</span>\n",
       "</pre>\n"
      ]
     },
     "metadata": {}
    }
   ]
  },
  {
   "cell_type": "code",
   "source": [
    "# (4) Wrap DocChatAgent in a Task to get an interactive question/answer loop\n",
    "task = Task(\n",
    "    rag_agent,\n",
    "    interactive=True,\n",
    "    system_message=\"\"\"\n",
    "    Answer user's questions based on documents.\n",
    "    Start by asking user what they want to know.\n",
    "    \"\"\",\n",
    ")\n",
    "# run interactive loop (enter \"q\" or \"x\" to quit)\n",
    "task.run()\n"
   ],
   "metadata": {
    "id": "dazt7q3YGCLd",
    "outputId": "ace5dd20-d812-4224-8128-1e7512477736",
    "colab": {
     "base_uri": "https://localhost:8080/",
     "height": 437,
     "referenced_widgets": [
      "4f54543895244b659b46dec81134a710",
      "cc28b64be47941e8888d0afc593f86be",
      "d2986011a75d456a8ae6ade3557435b0",
      "50489c1f953a4f9185d7cb4034eef911"
     ]
    }
   },
   "execution_count": 13,
   "outputs": [
    {
     "output_type": "display_data",
     "data": {
      "text/plain": [
       "<IPython.core.display.HTML object>"
      ],
      "text/html": [
       "\n",
       "  <style>\n",
       "    pre {\n",
       "        white-space: pre-wrap;\n",
       "    }\n",
       "  </style>\n",
       "  "
      ]
     },
     "metadata": {}
    },
    {
     "output_type": "display_data",
     "data": {
      "text/plain": [
       "\u001B[1;35m>>> Starting Agent RAG \u001B[0m\u001B[1;35m(\u001B[0m\u001B[1;35m2\u001B[0m\u001B[1;35m)\u001B[0m\u001B[1;35m gpt-\u001B[0m\u001B[1;35m4\u001B[0m\u001B[1;35m-turbo \u001B[0m\n"
      ],
      "text/html": [
       "<pre style=\"white-space:pre;overflow-x:auto;line-height:normal;font-family:Menlo,'DejaVu Sans Mono',consolas,'Courier New',monospace\"><span style=\"color: #800080; text-decoration-color: #800080; font-weight: bold\">&gt;&gt;&gt; Starting Agent RAG (</span><span style=\"color: #800080; text-decoration-color: #800080; font-weight: bold\">2</span><span style=\"color: #800080; text-decoration-color: #800080; font-weight: bold\">) gpt-</span><span style=\"color: #800080; text-decoration-color: #800080; font-weight: bold\">4</span><span style=\"color: #800080; text-decoration-color: #800080; font-weight: bold\">-turbo </span>\n",
       "</pre>\n"
      ]
     },
     "metadata": {}
    },
    {
     "output_type": "display_data",
     "data": {
      "text/plain": [],
      "text/html": [
       "<pre style=\"white-space:pre;overflow-x:auto;line-height:normal;font-family:Menlo,'DejaVu Sans Mono',consolas,'Courier New',monospace\"></pre>\n"
      ]
     },
     "metadata": {}
    },
    {
     "output_type": "stream",
     "name": "stdout",
     "text": [
      "\u001B[32m\u001B[32mPlease\u001B[32m provide\u001B[32m the\u001B[32m passage\u001B[32m or\u001B[32m document\u001B[32m you\u001B[32m'd\u001B[32m like\u001B[32m me\u001B[32m to\u001B[32m review\u001B[32m,\u001B[32m and\u001B[32m let\u001B[32m me\u001B[32m know\u001B[32m what\u001B[32m specific\u001B[32m questions\u001B[32m you\u001B[32m have\u001B[32m or\u001B[32m what\u001B[32m information\u001B[32m you\u001B[32m need\u001B[32m summarized\u001B[32m."
     ]
    },
    {
     "output_type": "display_data",
     "data": {
      "text/plain": [
       "\n"
      ],
      "text/html": [
       "<pre style=\"white-space:pre;overflow-x:auto;line-height:normal;font-family:Menlo,'DejaVu Sans Mono',consolas,'Courier New',monospace\">\n",
       "</pre>\n"
      ]
     },
     "metadata": {}
    },
    {
     "output_type": "display_data",
     "data": {
      "text/plain": [
       "\u001B[34mHuman (respond or q, x to exit current level, or hit enter to continue)\u001B[0m\n",
       ": "
      ],
      "text/html": [
       "<pre style=\"white-space:pre;overflow-x:auto;line-height:normal;font-family:Menlo,'DejaVu Sans Mono',consolas,'Courier New',monospace\"><span style=\"color: #000080; text-decoration-color: #000080\">Human (respond or q, x to exit current level, or hit enter to continue)</span>\n",
       ": </pre>\n"
      ]
     },
     "metadata": {}
    },
    {
     "name": "stdout",
     "output_type": "stream",
     "text": [
      "when does lease end\n"
     ]
    },
    {
     "output_type": "display_data",
     "data": {
      "text/plain": [
       "Output()"
      ],
      "application/vnd.jupyter.widget-view+json": {
       "version_major": 2,
       "version_minor": 0,
       "model_id": "4f54543895244b659b46dec81134a710"
      }
     },
     "metadata": {}
    },
    {
     "output_type": "display_data",
     "data": {
      "text/plain": [],
      "text/html": [
       "<pre style=\"white-space:pre;overflow-x:auto;line-height:normal;font-family:Menlo,'DejaVu Sans Mono',consolas,'Courier New',monospace\"></pre>\n"
      ]
     },
     "metadata": {}
    },
    {
     "output_type": "display_data",
     "data": {
      "text/plain": [],
      "text/html": [
       "<pre style=\"white-space:pre;overflow-x:auto;line-height:normal;font-family:Menlo,'DejaVu Sans Mono',consolas,'Courier New',monospace\"></pre>\n"
      ]
     },
     "metadata": {}
    },
    {
     "output_type": "display_data",
     "data": {
      "text/plain": [],
      "text/html": [
       "<pre style=\"white-space:pre;overflow-x:auto;line-height:normal;font-family:Menlo,'DejaVu Sans Mono',consolas,'Courier New',monospace\"></pre>\n"
      ]
     },
     "metadata": {}
    },
    {
     "output_type": "display_data",
     "data": {
      "text/plain": [
       "Output()"
      ],
      "application/vnd.jupyter.widget-view+json": {
       "version_major": 2,
       "version_minor": 0,
       "model_id": "d2986011a75d456a8ae6ade3557435b0"
      }
     },
     "metadata": {}
    },
    {
     "output_type": "stream",
     "name": "stderr",
     "text": [
      "INFO:langroid.utils.output.status:[bold green]Running 6 copies of Relevance-Extractor...\n",
      "\u001B[32m2024-05-30 16:55:31 - INFO - [bold green]Running 6 copies of Relevance-Extractor...\u001B[0m\n"
     ]
    },
    {
     "output_type": "display_data",
     "data": {
      "text/plain": [],
      "text/html": [
       "<pre style=\"white-space:pre;overflow-x:auto;line-height:normal;font-family:Menlo,'DejaVu Sans Mono',consolas,'Courier New',monospace\"></pre>\n"
      ]
     },
     "metadata": {}
    },
    {
     "output_type": "display_data",
     "data": {
      "text/plain": [],
      "text/html": [
       "<pre style=\"white-space:pre;overflow-x:auto;line-height:normal;font-family:Menlo,'DejaVu Sans Mono',consolas,'Courier New',monospace\"></pre>\n"
      ]
     },
     "metadata": {}
    },
    {
     "output_type": "stream",
     "name": "stdout",
     "text": [
      "\u001B[32m\u001B[32mThe\u001B[32m lease\u001B[32m shall\u001B[32m terminate\u001B[32m on\u001B[32m May\u001B[32m \u001B[32m31\u001B[32m,\u001B[32m \u001B[32m202\u001B[32m0\u001B[32m;\u001B[32m however\u001B[32m,\u001B[32m the\u001B[32m tenant\u001B[32m has\u001B[32m the\u001B[32m option\u001B[32m to\u001B[32m renew\u001B[32m the\u001B[32m lease\u001B[32m for\u001B[32m five\u001B[32m additional\u001B[32m successive\u001B[32m one\u001B[32m-year\u001B[32m terms\u001B[32m[^\u001B[32m4\u001B[32m]."
     ]
    },
    {
     "output_type": "display_data",
     "data": {
      "text/plain": [
       "\n"
      ],
      "text/html": [
       "<pre style=\"white-space:pre;overflow-x:auto;line-height:normal;font-family:Menlo,'DejaVu Sans Mono',consolas,'Courier New',monospace\">\n",
       "</pre>\n"
      ]
     },
     "metadata": {}
    },
    {
     "output_type": "display_data",
     "data": {
      "text/plain": [
       "\u001B[38;5;59mSOURCES:\u001B[0m\n",
       "\u001B[1;38;5;59m[\u001B[0m\u001B[38;5;59m^\u001B[0m\u001B[1;38;5;59m4\u001B[0m\u001B[1;38;5;59m]\u001B[0m\u001B[38;5;59m \u001B[0m\u001B[38;5;59m/content/\u001B[0m\u001B[38;5;59mlease.txt\u001B[0m\n",
       "\u001B[38;5;59m    The term of this Lease shall begin on the Commencement Date, as defined in\u001B[0m\n",
       "\u001B[38;5;59m    Section \u001B[0m\u001B[1;38;5;59m2\u001B[0m\u001B[38;5;59m of this Article II, and shall terminate on May \u001B[0m\u001B[1;38;5;59m31\u001B[0m\u001B[38;5;59m, \u001B[0m\u001B[1;38;5;59m2020\u001B[0m\u001B[38;5;59m \u001B[0m\u001B[1;38;5;59m(\u001B[0m\u001B[38;5;59m\"the\u001B[0m\n",
       "\u001B[38;5;59m    Termination Date\"\u001B[0m\u001B[1;38;5;59m)\u001B[0m\u001B[38;5;59m; provided, however, that at the option of Tenant, Tenant may\u001B[0m\n",
       "\u001B[38;5;59m    renew this Lease for five additional successive one- year terms at a Monthly\u001B[0m\n",
       "\u001B[38;5;59m    Rent of $\u001B[0m\n"
      ],
      "text/html": [
       "<pre style=\"white-space:pre;overflow-x:auto;line-height:normal;font-family:Menlo,'DejaVu Sans Mono',consolas,'Courier New',monospace\"><span style=\"color: #5f5f5f; text-decoration-color: #5f5f5f\">SOURCES:</span>\n",
       "<span style=\"color: #5f5f5f; text-decoration-color: #5f5f5f; font-weight: bold\">[</span><span style=\"color: #5f5f5f; text-decoration-color: #5f5f5f\">^</span><span style=\"color: #5f5f5f; text-decoration-color: #5f5f5f; font-weight: bold\">4</span><span style=\"color: #5f5f5f; text-decoration-color: #5f5f5f; font-weight: bold\">]</span><span style=\"color: #5f5f5f; text-decoration-color: #5f5f5f\"> /content/lease.txt</span>\n",
       "<span style=\"color: #5f5f5f; text-decoration-color: #5f5f5f\">    The term of this Lease shall begin on the Commencement Date, as defined in</span>\n",
       "<span style=\"color: #5f5f5f; text-decoration-color: #5f5f5f\">    Section </span><span style=\"color: #5f5f5f; text-decoration-color: #5f5f5f; font-weight: bold\">2</span><span style=\"color: #5f5f5f; text-decoration-color: #5f5f5f\"> of this Article II, and shall terminate on May </span><span style=\"color: #5f5f5f; text-decoration-color: #5f5f5f; font-weight: bold\">31</span><span style=\"color: #5f5f5f; text-decoration-color: #5f5f5f\">, </span><span style=\"color: #5f5f5f; text-decoration-color: #5f5f5f; font-weight: bold\">2020</span><span style=\"color: #5f5f5f; text-decoration-color: #5f5f5f\"> </span><span style=\"color: #5f5f5f; text-decoration-color: #5f5f5f; font-weight: bold\">(</span><span style=\"color: #5f5f5f; text-decoration-color: #5f5f5f\">\"the</span>\n",
       "<span style=\"color: #5f5f5f; text-decoration-color: #5f5f5f\">    Termination Date\"</span><span style=\"color: #5f5f5f; text-decoration-color: #5f5f5f; font-weight: bold\">)</span><span style=\"color: #5f5f5f; text-decoration-color: #5f5f5f\">; provided, however, that at the option of Tenant, Tenant may</span>\n",
       "<span style=\"color: #5f5f5f; text-decoration-color: #5f5f5f\">    renew this Lease for five additional successive one- year terms at a Monthly</span>\n",
       "<span style=\"color: #5f5f5f; text-decoration-color: #5f5f5f\">    Rent of $</span>\n",
       "</pre>\n"
      ]
     },
     "metadata": {}
    },
    {
     "output_type": "display_data",
     "data": {
      "text/plain": [
       "\u001B[34mHuman (respond or q, x to exit current level, or hit enter to continue)\u001B[0m\n",
       ": "
      ],
      "text/html": [
       "<pre style=\"white-space:pre;overflow-x:auto;line-height:normal;font-family:Menlo,'DejaVu Sans Mono',consolas,'Courier New',monospace\"><span style=\"color: #000080; text-decoration-color: #000080\">Human (respond or q, x to exit current level, or hit enter to continue)</span>\n",
       ": </pre>\n"
      ]
     },
     "metadata": {}
    },
    {
     "name": "stdout",
     "output_type": "stream",
     "text": [
      "q\n"
     ]
    },
    {
     "output_type": "display_data",
     "data": {
      "text/plain": [
       "\u001B[35mBye, hope this was useful!\u001B[0m\n"
      ],
      "text/html": [
       "<pre style=\"white-space:pre;overflow-x:auto;line-height:normal;font-family:Menlo,'DejaVu Sans Mono',consolas,'Courier New',monospace\"><span style=\"color: #800080; text-decoration-color: #800080\">Bye, hope this was useful!</span>\n",
       "</pre>\n"
      ]
     },
     "metadata": {}
    },
    {
     "output_type": "display_data",
     "data": {
      "text/plain": [
       "\u001B[1;35m<<< Finished Agent RAG \u001B[0m\u001B[1;35m(\u001B[0m\u001B[1;35m5\u001B[0m\u001B[1;35m)\u001B[0m\u001B[1;35m \u001B[0m\n"
      ],
      "text/html": [
       "<pre style=\"white-space:pre;overflow-x:auto;line-height:normal;font-family:Menlo,'DejaVu Sans Mono',consolas,'Courier New',monospace\"><span style=\"color: #800080; text-decoration-color: #800080; font-weight: bold\">&lt;&lt;&lt; Finished Agent RAG (</span><span style=\"color: #800080; text-decoration-color: #800080; font-weight: bold\">5</span><span style=\"color: #800080; text-decoration-color: #800080; font-weight: bold\">) </span>\n",
       "</pre>\n"
      ]
     },
     "metadata": {}
    },
    {
     "output_type": "execute_result",
     "data": {
      "text/plain": [
       "ChatDocument(content='q', metadata=ChatDocMetaData(source='User', is_chunk=False, id='', window_ids=[], parent=None, sender=<Entity.USER: 'User'>, tool_ids=[], parent_responder=None, block=None, sender_name='RAG', recipient='', usage=None, cached=False, displayed=False, has_citation=False, status=<StatusCode.USER_QUIT: 'USER_QUIT'>), function_call=None, tool_messages=[], attachment=None)"
      ]
     },
     "metadata": {},
     "execution_count": 13
    }
   ]
  },
  {
   "cell_type": "markdown",
   "source": [
    "## Example 6: 2-Agent system to extract structured info from a Lease Document\n",
    "Now we are ready to put together the various notions above, to build a two-agent system that illustrates uses of Tools, DocChatAgent (RAG) and Inter-agent collaboration (task delegation).\n",
    "\n",
    "The goal is to extract structured information from a Lease document.\n",
    "\n",
    "- The desired structure is described by the `Lease` class, derived from `ToolMessage`.\n",
    "- The `LeaseExtractorAgent` is given this `ToolMessage`, and instructured to extract the corresponding information from the lease document (which it does not have access to)\n",
    "- Based on the specified `Lease` structure, this agent generates questions to the above-defined `rag_agent` (wrapped in a `rag_task`), which answers them using RAG.\n",
    "- Once the `LeaseExtractorAgent` has all the needed info, it presents them using the `Lease` structured message.\n"
   ],
   "metadata": {
    "id": "yi9GppzlKae_"
   }
  },
  {
   "cell_type": "markdown",
   "source": [
    "#### Define the desired structure with Pydantic classes"
   ],
   "metadata": {
    "id": "VR26J_KzG6Vj"
   }
  },
  {
   "cell_type": "code",
   "source": [
    "\n",
    "class LeasePeriod(BaseModel):\n",
    "    start_date: str\n",
    "    end_date: str\n",
    "\n",
    "\n",
    "class LeaseFinancials(BaseModel):\n",
    "    monthly_rent: str\n",
    "    deposit: str\n",
    "\n",
    "\n",
    "class Lease(BaseModel):\n",
    "    \"\"\"\n",
    "    Various lease terms.\n",
    "    Nested fields to make this more interesting/realistic\n",
    "    \"\"\"\n",
    "\n",
    "    period: LeasePeriod\n",
    "    financials: LeaseFinancials\n",
    "    address: str\n",
    "\n"
   ],
   "metadata": {
    "id": "Q6GXjhWf5DkQ",
    "outputId": "0c308185-0937-4ed4-93b2-2d40a5f0db7c",
    "colab": {
     "base_uri": "https://localhost:8080/",
     "height": 17
    }
   },
   "execution_count": 14,
   "outputs": [
    {
     "output_type": "display_data",
     "data": {
      "text/plain": [
       "<IPython.core.display.HTML object>"
      ],
      "text/html": [
       "\n",
       "  <style>\n",
       "    pre {\n",
       "        white-space: pre-wrap;\n",
       "    }\n",
       "  </style>\n",
       "  "
      ]
     },
     "metadata": {}
    }
   ]
  },
  {
   "cell_type": "markdown",
   "source": [
    "#### Define the ToolMessage (Langroid's version of function call)"
   ],
   "metadata": {
    "id": "qCATXvfIkhGl"
   }
  },
  {
   "cell_type": "code",
   "source": [
    "\n",
    "class LeaseMessage(ToolMessage):\n",
    "    \"\"\"Tool/function to use to present details about a commercial lease\"\"\"\n",
    "\n",
    "    request: str = \"lease_info\"\n",
    "    purpose: str = \"Collect information about a Commercial Lease.\"\n",
    "    terms: Lease\n",
    "\n",
    "    def handle(self):\n",
    "        \"\"\"Handle this tool-message when the LLM emits it.\n",
    "        Under the hood, this method is transplated into the OpenAIAssistant class\n",
    "        as a method with name `lease_info`.\n",
    "        \"\"\"\n",
    "        print(f\"DONE! Successfully extracted Lease Info:\" f\"{self.terms}\")\n",
    "        return \"DONE \" + json.dumps(self.terms.dict())"
   ],
   "metadata": {
    "id": "Ffi_0u-PupvO",
    "outputId": "d5e8deff-7c45-4d86-eb13-0f1d722bdf48",
    "colab": {
     "base_uri": "https://localhost:8080/",
     "height": 17
    }
   },
   "execution_count": 15,
   "outputs": [
    {
     "output_type": "display_data",
     "data": {
      "text/plain": [
       "<IPython.core.display.HTML object>"
      ],
      "text/html": [
       "\n",
       "  <style>\n",
       "    pre {\n",
       "        white-space: pre-wrap;\n",
       "    }\n",
       "  </style>\n",
       "  "
      ]
     },
     "metadata": {}
    }
   ]
  },
  {
   "cell_type": "markdown",
   "source": [
    "#### Define RAG Task from above `rag_agent`\n",
    "Wrap the above-defined `rag_agent` in a Task."
   ],
   "metadata": {
    "id": "OPlo1dJFlBj5"
   }
  },
  {
   "cell_type": "code",
   "source": [
    "rag_task = Task(\n",
    "    rag_agent,\n",
    "    llm_delegate=False,\n",
    "    single_round=True,\n",
    ")"
   ],
   "metadata": {
    "id": "GgzoPxX_us52",
    "outputId": "1bc68826-bbdd-46a7-87f5-2d82168dd58d",
    "colab": {
     "base_uri": "https://localhost:8080/",
     "height": 17
    }
   },
   "execution_count": 16,
   "outputs": [
    {
     "output_type": "display_data",
     "data": {
      "text/plain": [
       "<IPython.core.display.HTML object>"
      ],
      "text/html": [
       "\n",
       "  <style>\n",
       "    pre {\n",
       "        white-space: pre-wrap;\n",
       "    }\n",
       "  </style>\n",
       "  "
      ]
     },
     "metadata": {}
    }
   ]
  },
  {
   "cell_type": "markdown",
   "source": [
    "#### Define the ExtractorAgent and Task\n",
    "This agent is told to collect information about the lease in the desired structure, and it generates questions to be answered by the Retriever Agent defined above."
   ],
   "metadata": {
    "id": "_m1lF9qblXj9"
   }
  },
  {
   "cell_type": "code",
   "source": [
    "    extractor_cfg = ChatAgentConfig(\n",
    "        name=\"LeaseExtractor\",\n",
    "        llm=llm_cfg,\n",
    "        show_stats=False,\n",
    "        use_functions_api=True,\n",
    "        use_tools=False,\n",
    "        system_message=f\"\"\"\n",
    "        You have to collect information about a Commercial Lease from a\n",
    "        lease contract which you don't have access to. You need to ask\n",
    "        questions to get this information. Ask only one or a couple questions\n",
    "        at a time!\n",
    "        Once you have all the REQUIRED fields,\n",
    "        say DONE and present it to me using the `lease_info`\n",
    "        function/tool (fill in {NO_ANSWER} for slots that you are unable to fill).\n",
    "        \"\"\",\n",
    "    )\n",
    "    extractor_agent = ChatAgent(extractor_cfg)\n",
    "    extractor_agent.enable_message(LeaseMessage)\n",
    "\n",
    "    extractor_task = Task(\n",
    "        extractor_agent,\n",
    "        llm_delegate=True,\n",
    "        single_round=False,\n",
    "        interactive=False,\n",
    "    )\n",
    "\n",
    "\n",
    "\n"
   ],
   "metadata": {
    "id": "PV4FYnO7uxOC",
    "outputId": "ce496edc-f88d-4228-94ba-2915c7732488",
    "colab": {
     "base_uri": "https://localhost:8080/",
     "height": 17
    }
   },
   "execution_count": 17,
   "outputs": [
    {
     "output_type": "display_data",
     "data": {
      "text/plain": [
       "<IPython.core.display.HTML object>"
      ],
      "text/html": [
       "\n",
       "  <style>\n",
       "    pre {\n",
       "        white-space: pre-wrap;\n",
       "    }\n",
       "  </style>\n",
       "  "
      ]
     },
     "metadata": {}
    }
   ]
  },
  {
   "cell_type": "markdown",
   "source": [
    "#### Add the `rag_task` as a subtask of `extractor_task` and run it\n",
    "\n",
    "Instead of *you* (the human user) asking questions about the lease,\n",
    "the `extractor_agent` **generates** questions based on the desired lease structure, and these questions are answered by the `rag_agent` using\n",
    "Retrieval Augmented Generation (RAG). Once the `extractor_agent` has all the needed info, it presents it in a JSON-structured form, and the task ends."
   ],
   "metadata": {
    "id": "QcA4oRaUl6oe"
   }
  },
  {
   "cell_type": "code",
   "source": [
    "extractor_task.add_sub_task(rag_task)\n",
    "extractor_task.run()"
   ],
   "metadata": {
    "id": "uZlas6DA0Zu6",
    "outputId": "dcdc8f49-f873-453e-d2db-8f2cccc94c84",
    "colab": {
     "base_uri": "https://localhost:8080/",
     "height": 1000,
     "referenced_widgets": [
      "db5ae28647a64e1599f680c5fdb92f94",
      "ea0d612b521b46d8b08176d5d1356e0d",
      "cb818298392f4e38a57d9fad759b1050",
      "5228e057cd6b4cc6b83ac956978d5b4e",
      "6c31af5b7a5f42e081fd2191fd5cd40e",
      "24ecebe86eaa4400a9c3f439210224d5",
      "6a452eddac824f57987f8d1892b5cdbe",
      "3cac4a8cc21540ae8d2252ccf434a169",
      "539f1671a01740aeb482786db3928485",
      "2701c01acc4c4ee7a4cae68c600bbbfe",
      "01ea05fc8edb476b97456a41daff21f1",
      "1107102139704e5ab451f20684242193",
      "fe71bb107b9141809591fff5d9324130",
      "a965a14fea204541a19b9e6b1107f3b0",
      "cf5867496ae44774a5fcebe6f25d88d2",
      "c0e646e5ddc748ca9babaa7d98418f90",
      "d77fe286597c4512bbfecd25af743ed1",
      "9c91cdaca82b4373b8fd4a6d87422ede",
      "cadff3ced1db4dad8f3e68beeb2e3474",
      "a760b0df911443ce809a2cb1130af240",
      "d8aaf6e32a4b4b7189fbb22f5a189f47",
      "92875bcd5fa34d7da84c137a7717ada3",
      "4dcd0444a77e427bb9f599f52b87b07e",
      "c0802731a7ce48d4bd78424f34e124ef"
     ]
    }
   },
   "execution_count": 18,
   "outputs": [
    {
     "output_type": "display_data",
     "data": {
      "text/plain": [
       "<IPython.core.display.HTML object>"
      ],
      "text/html": [
       "\n",
       "  <style>\n",
       "    pre {\n",
       "        white-space: pre-wrap;\n",
       "    }\n",
       "  </style>\n",
       "  "
      ]
     },
     "metadata": {}
    },
    {
     "output_type": "display_data",
     "data": {
      "text/plain": [
       "\u001B[1;35m>>> Starting Agent LeaseExtractor \u001B[0m\u001B[1;35m(\u001B[0m\u001B[1;35m1\u001B[0m\u001B[1;35m)\u001B[0m\u001B[1;35m gpt-\u001B[0m\u001B[1;35m4\u001B[0m\u001B[1;35m-turbo \u001B[0m\n"
      ],
      "text/html": [
       "<pre style=\"white-space:pre;overflow-x:auto;line-height:normal;font-family:Menlo,'DejaVu Sans Mono',consolas,'Courier New',monospace\"><span style=\"color: #800080; text-decoration-color: #800080; font-weight: bold\">&gt;&gt;&gt; Starting Agent LeaseExtractor (</span><span style=\"color: #800080; text-decoration-color: #800080; font-weight: bold\">1</span><span style=\"color: #800080; text-decoration-color: #800080; font-weight: bold\">) gpt-</span><span style=\"color: #800080; text-decoration-color: #800080; font-weight: bold\">4</span><span style=\"color: #800080; text-decoration-color: #800080; font-weight: bold\">-turbo </span>\n",
       "</pre>\n"
      ]
     },
     "metadata": {}
    },
    {
     "output_type": "display_data",
     "data": {
      "text/plain": [
       "Output()"
      ],
      "application/vnd.jupyter.widget-view+json": {
       "version_major": 2,
       "version_minor": 0,
       "model_id": "db5ae28647a64e1599f680c5fdb92f94"
      }
     },
     "metadata": {}
    },
    {
     "output_type": "display_data",
     "data": {
      "text/plain": [],
      "text/html": [
       "<pre style=\"white-space:pre;overflow-x:auto;line-height:normal;font-family:Menlo,'DejaVu Sans Mono',consolas,'Courier New',monospace\"></pre>\n"
      ]
     },
     "metadata": {}
    },
    {
     "output_type": "display_data",
     "data": {
      "text/plain": [
       "\u001B[32mWhat is the start date and end date of the lease period?\u001B[0m\n"
      ],
      "text/html": [
       "<pre style=\"white-space:pre;overflow-x:auto;line-height:normal;font-family:Menlo,'DejaVu Sans Mono',consolas,'Courier New',monospace\"><span style=\"color: #008000; text-decoration-color: #008000\">What is the start date and end date of the lease period?</span>\n",
       "</pre>\n"
      ]
     },
     "metadata": {}
    },
    {
     "output_type": "display_data",
     "data": {
      "text/plain": [
       "\u001B[1;35m...\u001B[0m\u001B[1;35m|>>> Starting Agent RAG \u001B[0m\u001B[1;35m(\u001B[0m\u001B[1;35m2\u001B[0m\u001B[1;35m)\u001B[0m\u001B[1;35m gpt-\u001B[0m\u001B[1;35m4\u001B[0m\u001B[1;35m-turbo \u001B[0m\n"
      ],
      "text/html": [
       "<pre style=\"white-space:pre;overflow-x:auto;line-height:normal;font-family:Menlo,'DejaVu Sans Mono',consolas,'Courier New',monospace\"><span style=\"color: #800080; text-decoration-color: #800080; font-weight: bold\">...|&gt;&gt;&gt; Starting Agent RAG (</span><span style=\"color: #800080; text-decoration-color: #800080; font-weight: bold\">2</span><span style=\"color: #800080; text-decoration-color: #800080; font-weight: bold\">) gpt-</span><span style=\"color: #800080; text-decoration-color: #800080; font-weight: bold\">4</span><span style=\"color: #800080; text-decoration-color: #800080; font-weight: bold\">-turbo </span>\n",
       "</pre>\n"
      ]
     },
     "metadata": {}
    },
    {
     "output_type": "display_data",
     "data": {
      "text/plain": [
       "Output()"
      ],
      "application/vnd.jupyter.widget-view+json": {
       "version_major": 2,
       "version_minor": 0,
       "model_id": "cb818298392f4e38a57d9fad759b1050"
      }
     },
     "metadata": {}
    },
    {
     "output_type": "display_data",
     "data": {
      "text/plain": [],
      "text/html": [
       "<pre style=\"white-space:pre;overflow-x:auto;line-height:normal;font-family:Menlo,'DejaVu Sans Mono',consolas,'Courier New',monospace\"></pre>\n"
      ]
     },
     "metadata": {}
    },
    {
     "output_type": "display_data",
     "data": {
      "text/plain": [],
      "text/html": [
       "<pre style=\"white-space:pre;overflow-x:auto;line-height:normal;font-family:Menlo,'DejaVu Sans Mono',consolas,'Courier New',monospace\"></pre>\n"
      ]
     },
     "metadata": {}
    },
    {
     "output_type": "display_data",
     "data": {
      "text/plain": [],
      "text/html": [
       "<pre style=\"white-space:pre;overflow-x:auto;line-height:normal;font-family:Menlo,'DejaVu Sans Mono',consolas,'Courier New',monospace\"></pre>\n"
      ]
     },
     "metadata": {}
    },
    {
     "output_type": "display_data",
     "data": {
      "text/plain": [
       "Output()"
      ],
      "application/vnd.jupyter.widget-view+json": {
       "version_major": 2,
       "version_minor": 0,
       "model_id": "6c31af5b7a5f42e081fd2191fd5cd40e"
      }
     },
     "metadata": {}
    },
    {
     "output_type": "stream",
     "name": "stderr",
     "text": [
      "INFO:langroid.utils.output.status:[bold green]Running 7 copies of Relevance-Extractor...\n",
      "\u001B[32m2024-05-30 16:56:13 - INFO - [bold green]Running 7 copies of Relevance-Extractor...\u001B[0m\n"
     ]
    },
    {
     "output_type": "display_data",
     "data": {
      "text/plain": [],
      "text/html": [
       "<pre style=\"white-space:pre;overflow-x:auto;line-height:normal;font-family:Menlo,'DejaVu Sans Mono',consolas,'Courier New',monospace\"></pre>\n"
      ]
     },
     "metadata": {}
    },
    {
     "output_type": "display_data",
     "data": {
      "text/plain": [
       "\u001B[32m...\u001B[0m\u001B[32m|\u001B[0m"
      ],
      "text/html": [
       "<pre style=\"white-space:pre;overflow-x:auto;line-height:normal;font-family:Menlo,'DejaVu Sans Mono',consolas,'Courier New',monospace\"><span style=\"color: #008000; text-decoration-color: #008000\">...|</span></pre>\n"
      ]
     },
     "metadata": {}
    },
    {
     "output_type": "stream",
     "name": "stdout",
     "text": [
      "\u001B[32m\u001B[32mThe\u001B[32m start\u001B[32m date\u001B[32m of\u001B[32m the\u001B[32m lease\u001B[32m period\u001B[32m is\u001B[32m December\u001B[32m \u001B[32m1\u001B[32m,\u001B[32m \u001B[32m201\u001B[32m3\u001B[32m,\u001B[32m and\u001B[32m the\u001B[32m end\u001B[32m date\u001B[32m is\u001B[32m May\u001B[32m \u001B[32m31\u001B[32m,\u001B[32m \u001B[32m202\u001B[32m0\u001B[32m[^\u001B[32m1\u001B[32m][\u001B[32m^\u001B[32m5\u001B[32m]."
     ]
    },
    {
     "output_type": "display_data",
     "data": {
      "text/plain": [
       "\n"
      ],
      "text/html": [
       "<pre style=\"white-space:pre;overflow-x:auto;line-height:normal;font-family:Menlo,'DejaVu Sans Mono',consolas,'Courier New',monospace\">\n",
       "</pre>\n"
      ]
     },
     "metadata": {}
    },
    {
     "output_type": "display_data",
     "data": {
      "text/plain": [
       "\u001B[38;5;59mSOURCES:\u001B[0m\n",
       "\u001B[1;38;5;59m[\u001B[0m\u001B[38;5;59m^\u001B[0m\u001B[1;38;5;59m1\u001B[0m\u001B[1;38;5;59m]\u001B[0m\u001B[38;5;59m \u001B[0m\u001B[38;5;59m/content/\u001B[0m\u001B[38;5;59mlease.txt\u001B[0m\n",
       "\u001B[38;5;59m    The \u001B[0m\u001B[38;5;59m\"Commencement Date\"\u001B[0m\u001B[38;5;59m shall mean  December \u001B[0m\u001B[1;38;5;59m1\u001B[0m\u001B[38;5;59m, \u001B[0m\u001B[1;38;5;59m2013\u001B[0m\u001B[38;5;59m.   ARTICLE III - EXTENSIONS\u001B[0m\n",
       "\u001B[38;5;59m    The parties hereto may elect to extend this Agreement upon such terms and\u001B[0m\n",
       "\u001B[38;5;59m    conditions as may be agreed upon in writing and signed by the parties at the\u001B[0m\n",
       "\u001B[38;5;59m    time of any such extension.\u001B[0m\n",
       "\u001B[1;38;5;59m[\u001B[0m\u001B[38;5;59m^\u001B[0m\u001B[1;38;5;59m5\u001B[0m\u001B[1;38;5;59m]\u001B[0m\u001B[38;5;59m \u001B[0m\u001B[38;5;59m/content/\u001B[0m\u001B[38;5;59mlease.txt\u001B[0m\n",
       "\u001B[38;5;59m    ARTICLE II - LEASE TERM Section l. Term of Lease.   The term of this Lease shall\u001B[0m\n",
       "\u001B[38;5;59m    begin on the Commencement Date, as defined in Section \u001B[0m\u001B[1;38;5;59m2\u001B[0m\u001B[38;5;59m of this Article II, and\u001B[0m\n",
       "\u001B[38;5;59m    shall terminate on May \u001B[0m\u001B[1;38;5;59m31\u001B[0m\u001B[38;5;59m, \u001B[0m\u001B[1;38;5;59m2020\u001B[0m\u001B[38;5;59m \u001B[0m\u001B[1;38;5;59m(\u001B[0m\u001B[38;5;59m\"the Termination Date\"\u001B[0m\u001B[1;38;5;59m)\u001B[0m\u001B[38;5;59m; provided, however,\u001B[0m\n",
       "\u001B[38;5;59m    that at the option of Tenant, Tenant may renew this Lease for five additional\u001B[0m\n",
       "\u001B[38;5;59m    successive one- year terms at a Monthly Rent of $\u001B[0m\n"
      ],
      "text/html": [
       "<pre style=\"white-space:pre;overflow-x:auto;line-height:normal;font-family:Menlo,'DejaVu Sans Mono',consolas,'Courier New',monospace\"><span style=\"color: #5f5f5f; text-decoration-color: #5f5f5f\">SOURCES:</span>\n",
       "<span style=\"color: #5f5f5f; text-decoration-color: #5f5f5f; font-weight: bold\">[</span><span style=\"color: #5f5f5f; text-decoration-color: #5f5f5f\">^</span><span style=\"color: #5f5f5f; text-decoration-color: #5f5f5f; font-weight: bold\">1</span><span style=\"color: #5f5f5f; text-decoration-color: #5f5f5f; font-weight: bold\">]</span><span style=\"color: #5f5f5f; text-decoration-color: #5f5f5f\"> /content/lease.txt</span>\n",
       "<span style=\"color: #5f5f5f; text-decoration-color: #5f5f5f\">    The </span><span style=\"color: #5f5f5f; text-decoration-color: #5f5f5f\">\"Commencement Date\"</span><span style=\"color: #5f5f5f; text-decoration-color: #5f5f5f\"> shall mean  December </span><span style=\"color: #5f5f5f; text-decoration-color: #5f5f5f; font-weight: bold\">1</span><span style=\"color: #5f5f5f; text-decoration-color: #5f5f5f\">, </span><span style=\"color: #5f5f5f; text-decoration-color: #5f5f5f; font-weight: bold\">2013</span><span style=\"color: #5f5f5f; text-decoration-color: #5f5f5f\">.   ARTICLE III - EXTENSIONS</span>\n",
       "<span style=\"color: #5f5f5f; text-decoration-color: #5f5f5f\">    The parties hereto may elect to extend this Agreement upon such terms and</span>\n",
       "<span style=\"color: #5f5f5f; text-decoration-color: #5f5f5f\">    conditions as may be agreed upon in writing and signed by the parties at the</span>\n",
       "<span style=\"color: #5f5f5f; text-decoration-color: #5f5f5f\">    time of any such extension.</span>\n",
       "<span style=\"color: #5f5f5f; text-decoration-color: #5f5f5f; font-weight: bold\">[</span><span style=\"color: #5f5f5f; text-decoration-color: #5f5f5f\">^</span><span style=\"color: #5f5f5f; text-decoration-color: #5f5f5f; font-weight: bold\">5</span><span style=\"color: #5f5f5f; text-decoration-color: #5f5f5f; font-weight: bold\">]</span><span style=\"color: #5f5f5f; text-decoration-color: #5f5f5f\"> /content/lease.txt</span>\n",
       "<span style=\"color: #5f5f5f; text-decoration-color: #5f5f5f\">    ARTICLE II - LEASE TERM Section l. Term of Lease.   The term of this Lease shall</span>\n",
       "<span style=\"color: #5f5f5f; text-decoration-color: #5f5f5f\">    begin on the Commencement Date, as defined in Section </span><span style=\"color: #5f5f5f; text-decoration-color: #5f5f5f; font-weight: bold\">2</span><span style=\"color: #5f5f5f; text-decoration-color: #5f5f5f\"> of this Article II, and</span>\n",
       "<span style=\"color: #5f5f5f; text-decoration-color: #5f5f5f\">    shall terminate on May </span><span style=\"color: #5f5f5f; text-decoration-color: #5f5f5f; font-weight: bold\">31</span><span style=\"color: #5f5f5f; text-decoration-color: #5f5f5f\">, </span><span style=\"color: #5f5f5f; text-decoration-color: #5f5f5f; font-weight: bold\">2020</span><span style=\"color: #5f5f5f; text-decoration-color: #5f5f5f\"> </span><span style=\"color: #5f5f5f; text-decoration-color: #5f5f5f; font-weight: bold\">(</span><span style=\"color: #5f5f5f; text-decoration-color: #5f5f5f\">\"the Termination Date\"</span><span style=\"color: #5f5f5f; text-decoration-color: #5f5f5f; font-weight: bold\">)</span><span style=\"color: #5f5f5f; text-decoration-color: #5f5f5f\">; provided, however,</span>\n",
       "<span style=\"color: #5f5f5f; text-decoration-color: #5f5f5f\">    that at the option of Tenant, Tenant may renew this Lease for five additional</span>\n",
       "<span style=\"color: #5f5f5f; text-decoration-color: #5f5f5f\">    successive one- year terms at a Monthly Rent of $</span>\n",
       "</pre>\n"
      ]
     },
     "metadata": {}
    },
    {
     "output_type": "display_data",
     "data": {
      "text/plain": [
       "\u001B[1;35m...\u001B[0m\u001B[1;35m|<<< Finished Agent RAG \u001B[0m\u001B[1;35m(\u001B[0m\u001B[1;35m4\u001B[0m\u001B[1;35m)\u001B[0m\u001B[1;35m \u001B[0m\n"
      ],
      "text/html": [
       "<pre style=\"white-space:pre;overflow-x:auto;line-height:normal;font-family:Menlo,'DejaVu Sans Mono',consolas,'Courier New',monospace\"><span style=\"color: #800080; text-decoration-color: #800080; font-weight: bold\">...|&lt;&lt;&lt; Finished Agent RAG (</span><span style=\"color: #800080; text-decoration-color: #800080; font-weight: bold\">4</span><span style=\"color: #800080; text-decoration-color: #800080; font-weight: bold\">) </span>\n",
       "</pre>\n"
      ]
     },
     "metadata": {}
    },
    {
     "output_type": "display_data",
     "data": {
      "text/plain": [
       "Output()"
      ],
      "application/vnd.jupyter.widget-view+json": {
       "version_major": 2,
       "version_minor": 0,
       "model_id": "6a452eddac824f57987f8d1892b5cdbe"
      }
     },
     "metadata": {}
    },
    {
     "output_type": "display_data",
     "data": {
      "text/plain": [],
      "text/html": [
       "<pre style=\"white-space:pre;overflow-x:auto;line-height:normal;font-family:Menlo,'DejaVu Sans Mono',consolas,'Courier New',monospace\"></pre>\n"
      ]
     },
     "metadata": {}
    },
    {
     "output_type": "display_data",
     "data": {
      "text/plain": [
       "\u001B[32mWhat is the monthly rent and the deposit amount for the lease?\u001B[0m\n"
      ],
      "text/html": [
       "<pre style=\"white-space:pre;overflow-x:auto;line-height:normal;font-family:Menlo,'DejaVu Sans Mono',consolas,'Courier New',monospace\"><span style=\"color: #008000; text-decoration-color: #008000\">What is the monthly rent and the deposit amount for the lease?</span>\n",
       "</pre>\n"
      ]
     },
     "metadata": {}
    },
    {
     "output_type": "display_data",
     "data": {
      "text/plain": [
       "\u001B[1;35m...\u001B[0m\u001B[1;35m|>>> Starting Agent RAG \u001B[0m\u001B[1;35m(\u001B[0m\u001B[1;35m4\u001B[0m\u001B[1;35m)\u001B[0m\u001B[1;35m gpt-\u001B[0m\u001B[1;35m4\u001B[0m\u001B[1;35m-turbo \u001B[0m\n"
      ],
      "text/html": [
       "<pre style=\"white-space:pre;overflow-x:auto;line-height:normal;font-family:Menlo,'DejaVu Sans Mono',consolas,'Courier New',monospace\"><span style=\"color: #800080; text-decoration-color: #800080; font-weight: bold\">...|&gt;&gt;&gt; Starting Agent RAG (</span><span style=\"color: #800080; text-decoration-color: #800080; font-weight: bold\">4</span><span style=\"color: #800080; text-decoration-color: #800080; font-weight: bold\">) gpt-</span><span style=\"color: #800080; text-decoration-color: #800080; font-weight: bold\">4</span><span style=\"color: #800080; text-decoration-color: #800080; font-weight: bold\">-turbo </span>\n",
       "</pre>\n"
      ]
     },
     "metadata": {}
    },
    {
     "output_type": "display_data",
     "data": {
      "text/plain": [
       "Output()"
      ],
      "application/vnd.jupyter.widget-view+json": {
       "version_major": 2,
       "version_minor": 0,
       "model_id": "539f1671a01740aeb482786db3928485"
      }
     },
     "metadata": {}
    },
    {
     "output_type": "display_data",
     "data": {
      "text/plain": [],
      "text/html": [
       "<pre style=\"white-space:pre;overflow-x:auto;line-height:normal;font-family:Menlo,'DejaVu Sans Mono',consolas,'Courier New',monospace\"></pre>\n"
      ]
     },
     "metadata": {}
    },
    {
     "output_type": "display_data",
     "data": {
      "text/plain": [
       "Output()"
      ],
      "application/vnd.jupyter.widget-view+json": {
       "version_major": 2,
       "version_minor": 0,
       "model_id": "01ea05fc8edb476b97456a41daff21f1"
      }
     },
     "metadata": {}
    },
    {
     "output_type": "stream",
     "name": "stdout",
     "text": [
      "[orange2]New query: What are the monthly rent and deposit amounts for the lease starting on December 1, 2013, and ending on May 31, 2020?\n"
     ]
    },
    {
     "output_type": "display_data",
     "data": {
      "text/plain": [],
      "text/html": [
       "<pre style=\"white-space:pre;overflow-x:auto;line-height:normal;font-family:Menlo,'DejaVu Sans Mono',consolas,'Courier New',monospace\"></pre>\n"
      ]
     },
     "metadata": {}
    },
    {
     "output_type": "display_data",
     "data": {
      "text/plain": [],
      "text/html": [
       "<pre style=\"white-space:pre;overflow-x:auto;line-height:normal;font-family:Menlo,'DejaVu Sans Mono',consolas,'Courier New',monospace\"></pre>\n"
      ]
     },
     "metadata": {}
    },
    {
     "output_type": "display_data",
     "data": {
      "text/plain": [],
      "text/html": [
       "<pre style=\"white-space:pre;overflow-x:auto;line-height:normal;font-family:Menlo,'DejaVu Sans Mono',consolas,'Courier New',monospace\"></pre>\n"
      ]
     },
     "metadata": {}
    },
    {
     "output_type": "display_data",
     "data": {
      "text/plain": [
       "Output()"
      ],
      "application/vnd.jupyter.widget-view+json": {
       "version_major": 2,
       "version_minor": 0,
       "model_id": "fe71bb107b9141809591fff5d9324130"
      }
     },
     "metadata": {}
    },
    {
     "output_type": "stream",
     "name": "stderr",
     "text": [
      "INFO:langroid.utils.output.status:[bold green]Running 5 copies of Relevance-Extractor...\n",
      "\u001B[32m2024-05-30 16:56:30 - INFO - [bold green]Running 5 copies of Relevance-Extractor...\u001B[0m\n"
     ]
    },
    {
     "output_type": "display_data",
     "data": {
      "text/plain": [],
      "text/html": [
       "<pre style=\"white-space:pre;overflow-x:auto;line-height:normal;font-family:Menlo,'DejaVu Sans Mono',consolas,'Courier New',monospace\"></pre>\n"
      ]
     },
     "metadata": {}
    },
    {
     "output_type": "display_data",
     "data": {
      "text/plain": [
       "\u001B[32m...\u001B[0m\u001B[32m|\u001B[0m"
      ],
      "text/html": [
       "<pre style=\"white-space:pre;overflow-x:auto;line-height:normal;font-family:Menlo,'DejaVu Sans Mono',consolas,'Courier New',monospace\"><span style=\"color: #008000; text-decoration-color: #008000\">...|</span></pre>\n"
      ]
     },
     "metadata": {}
    },
    {
     "output_type": "stream",
     "name": "stdout",
     "text": [
      "\u001B[32m\u001B[32mThe\u001B[32m monthly\u001B[32m rent\u001B[32m amount\u001B[32m for\u001B[32m the\u001B[32m lease\u001B[32m is\u001B[32m $\u001B[32m100\u001B[32m,\u001B[32m000\u001B[32m[^\u001B[32m2\u001B[32m][\u001B[32m^\u001B[32m4\u001B[32m],\u001B[32m and\u001B[32m the\u001B[32m deposit\u001B[32m amount\u001B[32m is\u001B[32m Twenty\u001B[32m Thousand\u001B[32m Dollars\u001B[32m ($\u001B[32m20\u001B[32m,\u001B[32m000\u001B[32m)[\u001B[32m^\u001B[32m2\u001B[32m]."
     ]
    },
    {
     "output_type": "display_data",
     "data": {
      "text/plain": [
       "\n"
      ],
      "text/html": [
       "<pre style=\"white-space:pre;overflow-x:auto;line-height:normal;font-family:Menlo,'DejaVu Sans Mono',consolas,'Courier New',monospace\">\n",
       "</pre>\n"
      ]
     },
     "metadata": {}
    },
    {
     "output_type": "display_data",
     "data": {
      "text/plain": [
       "\u001B[38;5;59mSOURCES:\u001B[0m\n",
       "\u001B[1;38;5;59m[\u001B[0m\u001B[38;5;59m^\u001B[0m\u001B[1;38;5;59m2\u001B[0m\u001B[1;38;5;59m]\u001B[0m\u001B[38;5;59m \u001B[0m\u001B[38;5;59m/content/\u001B[0m\u001B[38;5;59mlease.txt\u001B[0m\n",
       "\u001B[38;5;59m    , at such place as the Landlord shall from time to time direct by notice to the\u001B[0m\n",
       "\u001B[38;5;59m    Tenant, monthly rent of $\u001B[0m\u001B[1;38;5;59m100\u001B[0m\u001B[38;5;59m,\u001B[0m\u001B[1;38;5;59m000\u001B[0m\u001B[38;5;59m.   ARTICLE V - SECURITY DEPOSIT    The Tenant\u001B[0m\n",
       "\u001B[38;5;59m    has deposited with the Landlord the sum of Twenty Thousand Dollars \u001B[0m\u001B[1;38;5;59m(\u001B[0m\u001B[38;5;59m$\u001B[0m\u001B[1;38;5;59m20\u001B[0m\u001B[38;5;59m,\u001B[0m\n",
       "\u001B[1;38;5;59m[\u001B[0m\u001B[38;5;59m^\u001B[0m\u001B[1;38;5;59m4\u001B[0m\u001B[1;38;5;59m]\u001B[0m\u001B[38;5;59m \u001B[0m\u001B[38;5;59m/content/\u001B[0m\u001B[38;5;59mlease.txt\u001B[0m\n",
       "\u001B[38;5;59m    \u001B[0m\u001B[1;38;5;59m100\u001B[0m\u001B[38;5;59m,\u001B[0m\u001B[1;38;5;59m000\u001B[0m\u001B[38;5;59m per month, provided that notice of such renewal is given in writing no\u001B[0m\n",
       "\u001B[38;5;59m    less than \u001B[0m\u001B[1;38;5;59m120\u001B[0m\u001B[38;5;59m days prior to the Termination Date or the expiration of any one-\u001B[0m\n",
       "\u001B[38;5;59m    year renewal term.\u001B[0m\n"
      ],
      "text/html": [
       "<pre style=\"white-space:pre;overflow-x:auto;line-height:normal;font-family:Menlo,'DejaVu Sans Mono',consolas,'Courier New',monospace\"><span style=\"color: #5f5f5f; text-decoration-color: #5f5f5f\">SOURCES:</span>\n",
       "<span style=\"color: #5f5f5f; text-decoration-color: #5f5f5f; font-weight: bold\">[</span><span style=\"color: #5f5f5f; text-decoration-color: #5f5f5f\">^</span><span style=\"color: #5f5f5f; text-decoration-color: #5f5f5f; font-weight: bold\">2</span><span style=\"color: #5f5f5f; text-decoration-color: #5f5f5f; font-weight: bold\">]</span><span style=\"color: #5f5f5f; text-decoration-color: #5f5f5f\"> /content/lease.txt</span>\n",
       "<span style=\"color: #5f5f5f; text-decoration-color: #5f5f5f\">    , at such place as the Landlord shall from time to time direct by notice to the</span>\n",
       "<span style=\"color: #5f5f5f; text-decoration-color: #5f5f5f\">    Tenant, monthly rent of $</span><span style=\"color: #5f5f5f; text-decoration-color: #5f5f5f; font-weight: bold\">100</span><span style=\"color: #5f5f5f; text-decoration-color: #5f5f5f\">,</span><span style=\"color: #5f5f5f; text-decoration-color: #5f5f5f; font-weight: bold\">000</span><span style=\"color: #5f5f5f; text-decoration-color: #5f5f5f\">.   ARTICLE V - SECURITY DEPOSIT    The Tenant</span>\n",
       "<span style=\"color: #5f5f5f; text-decoration-color: #5f5f5f\">    has deposited with the Landlord the sum of Twenty Thousand Dollars </span><span style=\"color: #5f5f5f; text-decoration-color: #5f5f5f; font-weight: bold\">(</span><span style=\"color: #5f5f5f; text-decoration-color: #5f5f5f\">$</span><span style=\"color: #5f5f5f; text-decoration-color: #5f5f5f; font-weight: bold\">20</span><span style=\"color: #5f5f5f; text-decoration-color: #5f5f5f\">,</span>\n",
       "<span style=\"color: #5f5f5f; text-decoration-color: #5f5f5f; font-weight: bold\">[</span><span style=\"color: #5f5f5f; text-decoration-color: #5f5f5f\">^</span><span style=\"color: #5f5f5f; text-decoration-color: #5f5f5f; font-weight: bold\">4</span><span style=\"color: #5f5f5f; text-decoration-color: #5f5f5f; font-weight: bold\">]</span><span style=\"color: #5f5f5f; text-decoration-color: #5f5f5f\"> /content/lease.txt</span>\n",
       "<span style=\"color: #5f5f5f; text-decoration-color: #5f5f5f\">    </span><span style=\"color: #5f5f5f; text-decoration-color: #5f5f5f; font-weight: bold\">100</span><span style=\"color: #5f5f5f; text-decoration-color: #5f5f5f\">,</span><span style=\"color: #5f5f5f; text-decoration-color: #5f5f5f; font-weight: bold\">000</span><span style=\"color: #5f5f5f; text-decoration-color: #5f5f5f\"> per month, provided that notice of such renewal is given in writing no</span>\n",
       "<span style=\"color: #5f5f5f; text-decoration-color: #5f5f5f\">    less than </span><span style=\"color: #5f5f5f; text-decoration-color: #5f5f5f; font-weight: bold\">120</span><span style=\"color: #5f5f5f; text-decoration-color: #5f5f5f\"> days prior to the Termination Date or the expiration of any one-</span>\n",
       "<span style=\"color: #5f5f5f; text-decoration-color: #5f5f5f\">    year renewal term.</span>\n",
       "</pre>\n"
      ]
     },
     "metadata": {}
    },
    {
     "output_type": "display_data",
     "data": {
      "text/plain": [
       "\u001B[1;35m...\u001B[0m\u001B[1;35m|<<< Finished Agent RAG \u001B[0m\u001B[1;35m(\u001B[0m\u001B[1;35m6\u001B[0m\u001B[1;35m)\u001B[0m\u001B[1;35m \u001B[0m\n"
      ],
      "text/html": [
       "<pre style=\"white-space:pre;overflow-x:auto;line-height:normal;font-family:Menlo,'DejaVu Sans Mono',consolas,'Courier New',monospace\"><span style=\"color: #800080; text-decoration-color: #800080; font-weight: bold\">...|&lt;&lt;&lt; Finished Agent RAG (</span><span style=\"color: #800080; text-decoration-color: #800080; font-weight: bold\">6</span><span style=\"color: #800080; text-decoration-color: #800080; font-weight: bold\">) </span>\n",
       "</pre>\n"
      ]
     },
     "metadata": {}
    },
    {
     "output_type": "display_data",
     "data": {
      "text/plain": [
       "Output()"
      ],
      "application/vnd.jupyter.widget-view+json": {
       "version_major": 2,
       "version_minor": 0,
       "model_id": "cf5867496ae44774a5fcebe6f25d88d2"
      }
     },
     "metadata": {}
    },
    {
     "output_type": "display_data",
     "data": {
      "text/plain": [],
      "text/html": [
       "<pre style=\"white-space:pre;overflow-x:auto;line-height:normal;font-family:Menlo,'DejaVu Sans Mono',consolas,'Courier New',monospace\"></pre>\n"
      ]
     },
     "metadata": {}
    },
    {
     "output_type": "display_data",
     "data": {
      "text/plain": [
       "\u001B[32mWhat is the address of the property being leased?\u001B[0m\n"
      ],
      "text/html": [
       "<pre style=\"white-space:pre;overflow-x:auto;line-height:normal;font-family:Menlo,'DejaVu Sans Mono',consolas,'Courier New',monospace\"><span style=\"color: #008000; text-decoration-color: #008000\">What is the address of the property being leased?</span>\n",
       "</pre>\n"
      ]
     },
     "metadata": {}
    },
    {
     "output_type": "display_data",
     "data": {
      "text/plain": [
       "\u001B[1;35m...\u001B[0m\u001B[1;35m|>>> Starting Agent RAG \u001B[0m\u001B[1;35m(\u001B[0m\u001B[1;35m6\u001B[0m\u001B[1;35m)\u001B[0m\u001B[1;35m gpt-\u001B[0m\u001B[1;35m4\u001B[0m\u001B[1;35m-turbo \u001B[0m\n"
      ],
      "text/html": [
       "<pre style=\"white-space:pre;overflow-x:auto;line-height:normal;font-family:Menlo,'DejaVu Sans Mono',consolas,'Courier New',monospace\"><span style=\"color: #800080; text-decoration-color: #800080; font-weight: bold\">...|&gt;&gt;&gt; Starting Agent RAG (</span><span style=\"color: #800080; text-decoration-color: #800080; font-weight: bold\">6</span><span style=\"color: #800080; text-decoration-color: #800080; font-weight: bold\">) gpt-</span><span style=\"color: #800080; text-decoration-color: #800080; font-weight: bold\">4</span><span style=\"color: #800080; text-decoration-color: #800080; font-weight: bold\">-turbo </span>\n",
       "</pre>\n"
      ]
     },
     "metadata": {}
    },
    {
     "output_type": "display_data",
     "data": {
      "text/plain": [
       "Output()"
      ],
      "application/vnd.jupyter.widget-view+json": {
       "version_major": 2,
       "version_minor": 0,
       "model_id": "d77fe286597c4512bbfecd25af743ed1"
      }
     },
     "metadata": {}
    },
    {
     "output_type": "display_data",
     "data": {
      "text/plain": [],
      "text/html": [
       "<pre style=\"white-space:pre;overflow-x:auto;line-height:normal;font-family:Menlo,'DejaVu Sans Mono',consolas,'Courier New',monospace\"></pre>\n"
      ]
     },
     "metadata": {}
    },
    {
     "output_type": "display_data",
     "data": {
      "text/plain": [
       "Output()"
      ],
      "application/vnd.jupyter.widget-view+json": {
       "version_major": 2,
       "version_minor": 0,
       "model_id": "cadff3ced1db4dad8f3e68beeb2e3474"
      }
     },
     "metadata": {}
    },
    {
     "output_type": "stream",
     "name": "stdout",
     "text": [
      "[orange2]New query: What is the address of the property associated with the lease that started on December 1, 2013, and ended on May 31, 2020?\n"
     ]
    },
    {
     "output_type": "display_data",
     "data": {
      "text/plain": [],
      "text/html": [
       "<pre style=\"white-space:pre;overflow-x:auto;line-height:normal;font-family:Menlo,'DejaVu Sans Mono',consolas,'Courier New',monospace\"></pre>\n"
      ]
     },
     "metadata": {}
    },
    {
     "output_type": "display_data",
     "data": {
      "text/plain": [],
      "text/html": [
       "<pre style=\"white-space:pre;overflow-x:auto;line-height:normal;font-family:Menlo,'DejaVu Sans Mono',consolas,'Courier New',monospace\"></pre>\n"
      ]
     },
     "metadata": {}
    },
    {
     "output_type": "display_data",
     "data": {
      "text/plain": [],
      "text/html": [
       "<pre style=\"white-space:pre;overflow-x:auto;line-height:normal;font-family:Menlo,'DejaVu Sans Mono',consolas,'Courier New',monospace\"></pre>\n"
      ]
     },
     "metadata": {}
    },
    {
     "output_type": "display_data",
     "data": {
      "text/plain": [
       "Output()"
      ],
      "application/vnd.jupyter.widget-view+json": {
       "version_major": 2,
       "version_minor": 0,
       "model_id": "d8aaf6e32a4b4b7189fbb22f5a189f47"
      }
     },
     "metadata": {}
    },
    {
     "output_type": "stream",
     "name": "stderr",
     "text": [
      "INFO:langroid.utils.output.status:[bold green]Running 5 copies of Relevance-Extractor...\n",
      "\u001B[32m2024-05-30 16:56:45 - INFO - [bold green]Running 5 copies of Relevance-Extractor...\u001B[0m\n"
     ]
    },
    {
     "output_type": "display_data",
     "data": {
      "text/plain": [],
      "text/html": [
       "<pre style=\"white-space:pre;overflow-x:auto;line-height:normal;font-family:Menlo,'DejaVu Sans Mono',consolas,'Courier New',monospace\"></pre>\n"
      ]
     },
     "metadata": {}
    },
    {
     "output_type": "display_data",
     "data": {
      "text/plain": [
       "\u001B[32m...\u001B[0m\u001B[32m|\u001B[0m"
      ],
      "text/html": [
       "<pre style=\"white-space:pre;overflow-x:auto;line-height:normal;font-family:Menlo,'DejaVu Sans Mono',consolas,'Courier New',monospace\"><span style=\"color: #008000; text-decoration-color: #008000\">...|</span></pre>\n"
      ]
     },
     "metadata": {}
    },
    {
     "output_type": "stream",
     "name": "stdout",
     "text": [
      "\u001B[32m\u001B[32mThe\u001B[32m address\u001B[32m of\u001B[32m the\u001B[32m property\u001B[32m associated\u001B[32m with\u001B[32m the\u001B[32m lease\u001B[32m that\u001B[32m started\u001B[32m on\u001B[32m December\u001B[32m \u001B[32m1\u001B[32m,\u001B[32m \u001B[32m201\u001B[32m3\u001B[32m,\u001B[32m and\u001B[32m ended\u001B[32m on\u001B[32m May\u001B[32m \u001B[32m31\u001B[32m,\u001B[32m \u001B[32m202\u001B[32m0\u001B[32m,\u001B[32m is\u001B[32m \u001B[32m435\u001B[32m0\u001B[32m Temple\u001B[32m City\u001B[32m Boulevard\u001B[32m,\u001B[32m El\u001B[32m Monte\u001B[32m,\u001B[32m California\u001B[32m \u001B[32m917\u001B[32m31\u001B[32m[^\u001B[32m5\u001B[32m]."
     ]
    },
    {
     "output_type": "display_data",
     "data": {
      "text/plain": [
       "\n"
      ],
      "text/html": [
       "<pre style=\"white-space:pre;overflow-x:auto;line-height:normal;font-family:Menlo,'DejaVu Sans Mono',consolas,'Courier New',monospace\">\n",
       "</pre>\n"
      ]
     },
     "metadata": {}
    },
    {
     "output_type": "display_data",
     "data": {
      "text/plain": [
       "\u001B[38;5;59mSOURCES:\u001B[0m\n",
       "\u001B[1;38;5;59m[\u001B[0m\u001B[38;5;59m^\u001B[0m\u001B[1;38;5;59m5\u001B[0m\u001B[1;38;5;59m]\u001B[0m\u001B[38;5;59m \u001B[0m\u001B[38;5;59m/content/\u001B[0m\u001B[38;5;59mlease.txt\u001B[0m\n",
       "\u001B[38;5;59m    EX-\u001B[0m\u001B[1;38;5;59m10\u001B[0m\u001B[38;5;59m \u001B[0m\u001B[1;38;5;59m2\u001B[0m\u001B[38;5;59m elmonteleaseforfiling.htm MATERIAL CONTRACT COMMERCIAL LEASE AGREEMENT\u001B[0m\n",
       "\u001B[38;5;59m    THIS LEASE AGREEMENT is made and entered into on December \u001B[0m\u001B[1;38;5;59m1\u001B[0m\u001B[38;5;59m , \u001B[0m\u001B[1;38;5;59m2013\u001B[0m\u001B[38;5;59m , by and\u001B[0m\n",
       "\u001B[38;5;59m    between Temple CB , LLC , whose address is \u001B[0m\u001B[1;38;5;59m4350\u001B[0m\u001B[38;5;59m Temple City Boulevard , El Monte\u001B[0m\n",
       "\u001B[38;5;59m    , California \u001B[0m\u001B[1;38;5;59m91731\u001B[0m\u001B[38;5;59m \u001B[0m\u001B[1;38;5;59m(\u001B[0m\u001B[38;5;59m hereinafter referred to as `` Landlord \u001B[0m\u001B[38;5;59m''\u001B[0m\u001B[38;5;59m \u001B[0m\u001B[1;38;5;59m)\u001B[0m\u001B[38;5;59m , and Okra\u001B[0m\n",
       "\u001B[38;5;59m    Energy , Inc. , whose address is \u001B[0m\u001B[1;38;5;59m4350\u001B[0m\u001B[38;5;59m Temple City Boulevard , El Monte ,\u001B[0m\n",
       "\u001B[38;5;59m    California\u001B[0m\n"
      ],
      "text/html": [
       "<pre style=\"white-space:pre;overflow-x:auto;line-height:normal;font-family:Menlo,'DejaVu Sans Mono',consolas,'Courier New',monospace\"><span style=\"color: #5f5f5f; text-decoration-color: #5f5f5f\">SOURCES:</span>\n",
       "<span style=\"color: #5f5f5f; text-decoration-color: #5f5f5f; font-weight: bold\">[</span><span style=\"color: #5f5f5f; text-decoration-color: #5f5f5f\">^</span><span style=\"color: #5f5f5f; text-decoration-color: #5f5f5f; font-weight: bold\">5</span><span style=\"color: #5f5f5f; text-decoration-color: #5f5f5f; font-weight: bold\">]</span><span style=\"color: #5f5f5f; text-decoration-color: #5f5f5f\"> /content/lease.txt</span>\n",
       "<span style=\"color: #5f5f5f; text-decoration-color: #5f5f5f\">    EX-</span><span style=\"color: #5f5f5f; text-decoration-color: #5f5f5f; font-weight: bold\">10</span><span style=\"color: #5f5f5f; text-decoration-color: #5f5f5f\"> </span><span style=\"color: #5f5f5f; text-decoration-color: #5f5f5f; font-weight: bold\">2</span><span style=\"color: #5f5f5f; text-decoration-color: #5f5f5f\"> elmonteleaseforfiling.htm MATERIAL CONTRACT COMMERCIAL LEASE AGREEMENT</span>\n",
       "<span style=\"color: #5f5f5f; text-decoration-color: #5f5f5f\">    THIS LEASE AGREEMENT is made and entered into on December </span><span style=\"color: #5f5f5f; text-decoration-color: #5f5f5f; font-weight: bold\">1</span><span style=\"color: #5f5f5f; text-decoration-color: #5f5f5f\"> , </span><span style=\"color: #5f5f5f; text-decoration-color: #5f5f5f; font-weight: bold\">2013</span><span style=\"color: #5f5f5f; text-decoration-color: #5f5f5f\"> , by and</span>\n",
       "<span style=\"color: #5f5f5f; text-decoration-color: #5f5f5f\">    between Temple CB , LLC , whose address is </span><span style=\"color: #5f5f5f; text-decoration-color: #5f5f5f; font-weight: bold\">4350</span><span style=\"color: #5f5f5f; text-decoration-color: #5f5f5f\"> Temple City Boulevard , El Monte</span>\n",
       "<span style=\"color: #5f5f5f; text-decoration-color: #5f5f5f\">    , California </span><span style=\"color: #5f5f5f; text-decoration-color: #5f5f5f; font-weight: bold\">91731</span><span style=\"color: #5f5f5f; text-decoration-color: #5f5f5f\"> </span><span style=\"color: #5f5f5f; text-decoration-color: #5f5f5f; font-weight: bold\">(</span><span style=\"color: #5f5f5f; text-decoration-color: #5f5f5f\"> hereinafter referred to as `` Landlord </span><span style=\"color: #5f5f5f; text-decoration-color: #5f5f5f\">''</span><span style=\"color: #5f5f5f; text-decoration-color: #5f5f5f\"> </span><span style=\"color: #5f5f5f; text-decoration-color: #5f5f5f; font-weight: bold\">)</span><span style=\"color: #5f5f5f; text-decoration-color: #5f5f5f\"> , and Okra</span>\n",
       "<span style=\"color: #5f5f5f; text-decoration-color: #5f5f5f\">    Energy , Inc. , whose address is </span><span style=\"color: #5f5f5f; text-decoration-color: #5f5f5f; font-weight: bold\">4350</span><span style=\"color: #5f5f5f; text-decoration-color: #5f5f5f\"> Temple City Boulevard , El Monte ,</span>\n",
       "<span style=\"color: #5f5f5f; text-decoration-color: #5f5f5f\">    California</span>\n",
       "</pre>\n"
      ]
     },
     "metadata": {}
    },
    {
     "output_type": "display_data",
     "data": {
      "text/plain": [
       "\u001B[1;35m...\u001B[0m\u001B[1;35m|<<< Finished Agent RAG \u001B[0m\u001B[1;35m(\u001B[0m\u001B[1;35m8\u001B[0m\u001B[1;35m)\u001B[0m\u001B[1;35m \u001B[0m\n"
      ],
      "text/html": [
       "<pre style=\"white-space:pre;overflow-x:auto;line-height:normal;font-family:Menlo,'DejaVu Sans Mono',consolas,'Courier New',monospace\"><span style=\"color: #800080; text-decoration-color: #800080; font-weight: bold\">...|&lt;&lt;&lt; Finished Agent RAG (</span><span style=\"color: #800080; text-decoration-color: #800080; font-weight: bold\">8</span><span style=\"color: #800080; text-decoration-color: #800080; font-weight: bold\">) </span>\n",
       "</pre>\n"
      ]
     },
     "metadata": {}
    },
    {
     "output_type": "display_data",
     "data": {
      "text/plain": [
       "Output()"
      ],
      "application/vnd.jupyter.widget-view+json": {
       "version_major": 2,
       "version_minor": 0,
       "model_id": "4dcd0444a77e427bb9f599f52b87b07e"
      }
     },
     "metadata": {}
    },
    {
     "output_type": "display_data",
     "data": {
      "text/plain": [],
      "text/html": [
       "<pre style=\"white-space:pre;overflow-x:auto;line-height:normal;font-family:Menlo,'DejaVu Sans Mono',consolas,'Courier New',monospace\"></pre>\n"
      ]
     },
     "metadata": {}
    },
    {
     "output_type": "display_data",
     "data": {
      "text/plain": [
       "\u001B[32mFUNC: \u001B[0m\u001B[1;32m{\u001B[0m\n",
       "\u001B[32m  \u001B[0m\u001B[32m\"name\"\u001B[0m\u001B[32m: \u001B[0m\u001B[32m\"lease_info\"\u001B[0m\u001B[32m,\u001B[0m\n",
       "\u001B[32m  \u001B[0m\u001B[32m\"arguments\"\u001B[0m\u001B[32m: \u001B[0m\u001B[1;32m{\u001B[0m\n",
       "\u001B[32m    \u001B[0m\u001B[32m\"terms\"\u001B[0m\u001B[32m: \u001B[0m\u001B[1;32m{\u001B[0m\n",
       "\u001B[32m      \u001B[0m\u001B[32m\"period\"\u001B[0m\u001B[32m: \u001B[0m\u001B[1;32m{\u001B[0m\n",
       "\u001B[32m        \u001B[0m\u001B[32m\"start_date\"\u001B[0m\u001B[32m: \u001B[0m\u001B[32m\"2013-12-01\"\u001B[0m\u001B[32m,\u001B[0m\n",
       "\u001B[32m        \u001B[0m\u001B[32m\"end_date\"\u001B[0m\u001B[32m: \u001B[0m\u001B[32m\"2020-05-31\"\u001B[0m\n",
       "\u001B[32m      \u001B[0m\u001B[1;32m}\u001B[0m\u001B[32m,\u001B[0m\n",
       "\u001B[32m      \u001B[0m\u001B[32m\"financials\"\u001B[0m\u001B[32m: \u001B[0m\u001B[1;32m{\u001B[0m\n",
       "\u001B[32m        \u001B[0m\u001B[32m\"monthly_rent\"\u001B[0m\u001B[32m: \u001B[0m\u001B[32m\"$100,000\"\u001B[0m\u001B[32m,\u001B[0m\n",
       "\u001B[32m        \u001B[0m\u001B[32m\"deposit\"\u001B[0m\u001B[32m: \u001B[0m\u001B[32m\"$20,000\"\u001B[0m\n",
       "\u001B[32m      \u001B[0m\u001B[1;32m}\u001B[0m\u001B[32m,\u001B[0m\n",
       "\u001B[32m      \u001B[0m\u001B[32m\"address\"\u001B[0m\u001B[32m: \u001B[0m\u001B[32m\"4350 Temple City Boulevard, El Monte, California 91731\"\u001B[0m\n",
       "\u001B[32m    \u001B[0m\u001B[1;32m}\u001B[0m\n",
       "\u001B[32m  \u001B[0m\u001B[1;32m}\u001B[0m\n",
       "\u001B[1;32m}\u001B[0m\n"
      ],
      "text/html": [
       "<pre style=\"white-space:pre;overflow-x:auto;line-height:normal;font-family:Menlo,'DejaVu Sans Mono',consolas,'Courier New',monospace\"><span style=\"color: #008000; text-decoration-color: #008000\">FUNC: </span><span style=\"color: #008000; text-decoration-color: #008000; font-weight: bold\">{</span>\n",
       "<span style=\"color: #008000; text-decoration-color: #008000\">  </span><span style=\"color: #008000; text-decoration-color: #008000\">\"name\"</span><span style=\"color: #008000; text-decoration-color: #008000\">: </span><span style=\"color: #008000; text-decoration-color: #008000\">\"lease_info\"</span><span style=\"color: #008000; text-decoration-color: #008000\">,</span>\n",
       "<span style=\"color: #008000; text-decoration-color: #008000\">  </span><span style=\"color: #008000; text-decoration-color: #008000\">\"arguments\"</span><span style=\"color: #008000; text-decoration-color: #008000\">: </span><span style=\"color: #008000; text-decoration-color: #008000; font-weight: bold\">{</span>\n",
       "<span style=\"color: #008000; text-decoration-color: #008000\">    </span><span style=\"color: #008000; text-decoration-color: #008000\">\"terms\"</span><span style=\"color: #008000; text-decoration-color: #008000\">: </span><span style=\"color: #008000; text-decoration-color: #008000; font-weight: bold\">{</span>\n",
       "<span style=\"color: #008000; text-decoration-color: #008000\">      </span><span style=\"color: #008000; text-decoration-color: #008000\">\"period\"</span><span style=\"color: #008000; text-decoration-color: #008000\">: </span><span style=\"color: #008000; text-decoration-color: #008000; font-weight: bold\">{</span>\n",
       "<span style=\"color: #008000; text-decoration-color: #008000\">        </span><span style=\"color: #008000; text-decoration-color: #008000\">\"start_date\"</span><span style=\"color: #008000; text-decoration-color: #008000\">: </span><span style=\"color: #008000; text-decoration-color: #008000\">\"2013-12-01\"</span><span style=\"color: #008000; text-decoration-color: #008000\">,</span>\n",
       "<span style=\"color: #008000; text-decoration-color: #008000\">        </span><span style=\"color: #008000; text-decoration-color: #008000\">\"end_date\"</span><span style=\"color: #008000; text-decoration-color: #008000\">: </span><span style=\"color: #008000; text-decoration-color: #008000\">\"2020-05-31\"</span>\n",
       "<span style=\"color: #008000; text-decoration-color: #008000\">      </span><span style=\"color: #008000; text-decoration-color: #008000; font-weight: bold\">}</span><span style=\"color: #008000; text-decoration-color: #008000\">,</span>\n",
       "<span style=\"color: #008000; text-decoration-color: #008000\">      </span><span style=\"color: #008000; text-decoration-color: #008000\">\"financials\"</span><span style=\"color: #008000; text-decoration-color: #008000\">: </span><span style=\"color: #008000; text-decoration-color: #008000; font-weight: bold\">{</span>\n",
       "<span style=\"color: #008000; text-decoration-color: #008000\">        </span><span style=\"color: #008000; text-decoration-color: #008000\">\"monthly_rent\"</span><span style=\"color: #008000; text-decoration-color: #008000\">: </span><span style=\"color: #008000; text-decoration-color: #008000\">\"$100,000\"</span><span style=\"color: #008000; text-decoration-color: #008000\">,</span>\n",
       "<span style=\"color: #008000; text-decoration-color: #008000\">        </span><span style=\"color: #008000; text-decoration-color: #008000\">\"deposit\"</span><span style=\"color: #008000; text-decoration-color: #008000\">: </span><span style=\"color: #008000; text-decoration-color: #008000\">\"$20,000\"</span>\n",
       "<span style=\"color: #008000; text-decoration-color: #008000\">      </span><span style=\"color: #008000; text-decoration-color: #008000; font-weight: bold\">}</span><span style=\"color: #008000; text-decoration-color: #008000\">,</span>\n",
       "<span style=\"color: #008000; text-decoration-color: #008000\">      </span><span style=\"color: #008000; text-decoration-color: #008000\">\"address\"</span><span style=\"color: #008000; text-decoration-color: #008000\">: </span><span style=\"color: #008000; text-decoration-color: #008000\">\"4350 Temple City Boulevard, El Monte, California 91731\"</span>\n",
       "<span style=\"color: #008000; text-decoration-color: #008000\">    </span><span style=\"color: #008000; text-decoration-color: #008000; font-weight: bold\">}</span>\n",
       "<span style=\"color: #008000; text-decoration-color: #008000\">  </span><span style=\"color: #008000; text-decoration-color: #008000; font-weight: bold\">}</span>\n",
       "<span style=\"color: #008000; text-decoration-color: #008000; font-weight: bold\">}</span>\n",
       "</pre>\n"
      ]
     },
     "metadata": {}
    },
    {
     "output_type": "stream",
     "name": "stdout",
     "text": [
      "DONE! Successfully extracted Lease Info:period=LeasePeriod(start_date='2013-12-01', end_date='2020-05-31') financials=LeaseFinancials(monthly_rent='$100,000', deposit='$20,000') address='4350 Temple City Boulevard, El Monte, California 91731'\n"
     ]
    },
    {
     "output_type": "display_data",
     "data": {
      "text/plain": [],
      "text/html": [
       "<pre style=\"white-space:pre;overflow-x:auto;line-height:normal;font-family:Menlo,'DejaVu Sans Mono',consolas,'Courier New',monospace\"></pre>\n"
      ]
     },
     "metadata": {}
    },
    {
     "output_type": "display_data",
     "data": {
      "text/plain": [
       "\u001B[31mAgent: DONE \u001B[0m\u001B[1;31m{\u001B[0m\u001B[31m\"period\"\u001B[0m\u001B[31m: \u001B[0m\u001B[1;31m{\u001B[0m\u001B[31m\"start_date\"\u001B[0m\u001B[31m: \u001B[0m\u001B[31m\"2013-12-01\"\u001B[0m\u001B[31m, \u001B[0m\u001B[31m\"end_date\"\u001B[0m\u001B[31m: \u001B[0m\u001B[31m\"2020-05-31\"\u001B[0m\u001B[1;31m}\u001B[0m\u001B[31m, \u001B[0m\u001B[31m\"financials\"\u001B[0m\u001B[31m: \u001B[0m\u001B[1;31m{\u001B[0m\u001B[31m\"monthly_rent\"\u001B[0m\u001B[31m: \u001B[0m\n",
       "\u001B[31m\"$100,000\"\u001B[0m\u001B[31m, \u001B[0m\u001B[31m\"deposit\"\u001B[0m\u001B[31m: \u001B[0m\u001B[31m\"$20,000\"\u001B[0m\u001B[1;31m}\u001B[0m\u001B[31m, \u001B[0m\u001B[31m\"address\"\u001B[0m\u001B[31m: \u001B[0m\u001B[31m\"4350 Temple City Boulevard, El Monte, California 91731\"\u001B[0m\u001B[1;31m}\u001B[0m\n"
      ],
      "text/html": [
       "<pre style=\"white-space:pre;overflow-x:auto;line-height:normal;font-family:Menlo,'DejaVu Sans Mono',consolas,'Courier New',monospace\"><span style=\"color: #800000; text-decoration-color: #800000\">Agent: DONE </span><span style=\"color: #800000; text-decoration-color: #800000; font-weight: bold\">{</span><span style=\"color: #800000; text-decoration-color: #800000\">\"period\"</span><span style=\"color: #800000; text-decoration-color: #800000\">: </span><span style=\"color: #800000; text-decoration-color: #800000; font-weight: bold\">{</span><span style=\"color: #800000; text-decoration-color: #800000\">\"start_date\"</span><span style=\"color: #800000; text-decoration-color: #800000\">: </span><span style=\"color: #800000; text-decoration-color: #800000\">\"2013-12-01\"</span><span style=\"color: #800000; text-decoration-color: #800000\">, </span><span style=\"color: #800000; text-decoration-color: #800000\">\"end_date\"</span><span style=\"color: #800000; text-decoration-color: #800000\">: </span><span style=\"color: #800000; text-decoration-color: #800000\">\"2020-05-31\"</span><span style=\"color: #800000; text-decoration-color: #800000; font-weight: bold\">}</span><span style=\"color: #800000; text-decoration-color: #800000\">, </span><span style=\"color: #800000; text-decoration-color: #800000\">\"financials\"</span><span style=\"color: #800000; text-decoration-color: #800000\">: </span><span style=\"color: #800000; text-decoration-color: #800000; font-weight: bold\">{</span><span style=\"color: #800000; text-decoration-color: #800000\">\"monthly_rent\"</span><span style=\"color: #800000; text-decoration-color: #800000\">: </span>\n",
       "<span style=\"color: #800000; text-decoration-color: #800000\">\"$100,000\"</span><span style=\"color: #800000; text-decoration-color: #800000\">, </span><span style=\"color: #800000; text-decoration-color: #800000\">\"deposit\"</span><span style=\"color: #800000; text-decoration-color: #800000\">: </span><span style=\"color: #800000; text-decoration-color: #800000\">\"$20,000\"</span><span style=\"color: #800000; text-decoration-color: #800000; font-weight: bold\">}</span><span style=\"color: #800000; text-decoration-color: #800000\">, </span><span style=\"color: #800000; text-decoration-color: #800000\">\"address\"</span><span style=\"color: #800000; text-decoration-color: #800000\">: </span><span style=\"color: #800000; text-decoration-color: #800000\">\"4350 Temple City Boulevard, El Monte, California 91731\"</span><span style=\"color: #800000; text-decoration-color: #800000; font-weight: bold\">}</span>\n",
       "</pre>\n"
      ]
     },
     "metadata": {}
    },
    {
     "output_type": "display_data",
     "data": {
      "text/plain": [
       "\u001B[35mBye, hope this was useful!\u001B[0m\n"
      ],
      "text/html": [
       "<pre style=\"white-space:pre;overflow-x:auto;line-height:normal;font-family:Menlo,'DejaVu Sans Mono',consolas,'Courier New',monospace\"><span style=\"color: #800080; text-decoration-color: #800080\">Bye, hope this was useful!</span>\n",
       "</pre>\n"
      ]
     },
     "metadata": {}
    },
    {
     "output_type": "display_data",
     "data": {
      "text/plain": [
       "\u001B[1;35m<<< Finished Agent LeaseExtractor \u001B[0m\u001B[1;35m(\u001B[0m\u001B[1;35m8\u001B[0m\u001B[1;35m)\u001B[0m\u001B[1;35m \u001B[0m\n"
      ],
      "text/html": [
       "<pre style=\"white-space:pre;overflow-x:auto;line-height:normal;font-family:Menlo,'DejaVu Sans Mono',consolas,'Courier New',monospace\"><span style=\"color: #800080; text-decoration-color: #800080; font-weight: bold\">&lt;&lt;&lt; Finished Agent LeaseExtractor (</span><span style=\"color: #800080; text-decoration-color: #800080; font-weight: bold\">8</span><span style=\"color: #800080; text-decoration-color: #800080; font-weight: bold\">) </span>\n",
       "</pre>\n"
      ]
     },
     "metadata": {}
    },
    {
     "output_type": "execute_result",
     "data": {
      "text/plain": [
       "ChatDocument(content='{\"period\": {\"start_date\": \"2013-12-01\", \"end_date\": \"2020-05-31\"}, \"financials\": {\"monthly_rent\": \"$100,000\", \"deposit\": \"$20,000\"}, \"address\": \"4350 Temple City Boulevard, El Monte, California 91731\"}', metadata=ChatDocMetaData(source='User', is_chunk=False, id='', window_ids=[], parent=None, sender=<Entity.USER: 'User'>, tool_ids=[], parent_responder=None, block=None, sender_name='LeaseExtractor', recipient='', usage=None, cached=False, displayed=False, has_citation=False, status=<StatusCode.DONE: 'DONE'>), function_call=None, tool_messages=[], attachment=None)"
      ]
     },
     "metadata": {},
     "execution_count": 18
    }
   ]
  },
  {
   "cell_type": "code",
   "source": [],
   "metadata": {
    "id": "-zfNvsH5PMpJ"
   },
   "execution_count": null,
   "outputs": []
  }
 ]
}
