{
  "nbformat": 4,
  "nbformat_minor": 0,
  "metadata": {
    "colab": {
      "provenance": [],
      "authorship_tag": "ABX9TyP9+BJLzaiLp67cp7+DjUBb",
      "include_colab_link": true
    },
    "kernelspec": {
      "name": "python3",
      "display_name": "Python 3"
    },
    "language_info": {
      "name": "python"
    }
  },
  "cells": [
    {
      "cell_type": "markdown",
      "metadata": {
        "id": "view-in-github",
        "colab_type": "text"
      },
      "source": [
        "<a href=\"https://colab.research.google.com/github/langroid/langroid/blob/main/examples/Langroid_QuickStart_OpenAI_Assistants_API.ipynb\" target=\"_parent\"><img src=\"https://colab.research.google.com/assets/colab-badge.svg\" alt=\"Open In Colab\"/></a>"
      ]
    },
    {
      "cell_type": "markdown",
      "source": [
        "# Multi-Agent programming with Langroid, using the new OpenAI Assistant API\n",
        "\n",
        "OpenAI's [Assistants API](https://platform.openai.com/docs/assistants/overview) provides several conveniences to help build LLM applications, such as:\n",
        "- managing conversation state (threads)\n",
        "- persistent threads and assistants\n",
        "- tools (function-calling, retrieval, code-interpreter)\n",
        "\n",
        "\n",
        "There is a new programming paradigm emerging, where these assistants are primitives, and a key chalenge is:\n",
        "\n",
        "> how can you have these assistants collaborate to solve a task?\n",
        "\n",
        "[Langroid](https://github.com/langroid/langroid)'s new `OpenAIAssistant` class offers this ability. Langroid was designed from the start to support a multi-agent LLM programming paradigm, where agents can collaborate on a task via conversation.\n",
        "The new `OpenAIAssistant` agent gives you:\n",
        "\n",
        "- 1️⃣ a dead-simple interface to the Assistants API,\n",
        "- 2️⃣ a seamless way to have assistants collaborate with each other or with users.\n",
        "\n",
        "The Assistant API fits naturally into Langroid's notion of a `ChatAgent`,\n",
        "and the `OpenAIAssistant` class derives from `ChatAgent`.\n",
        "`OpenAIAssistant` can be used as a drop-in replacement for `ChatAgent` in any\n",
        "Langroid application, and leverage the **multi-agent** task orchestration built\n",
        "into Langroid.\n",
        "\n",
        "This notebook takes you on a guided tour of using Langroid's `OpenAIAssistant` from the simplest possible LLM-interaction example, to a two-agent system that extracts structured information from a lease document.\n",
        "\n",
        "![langroid-oai](https://github.com/langroid/langroid-examples/blob/main/examples/docqa/langroid-oai.png?raw=true)\n",
        "\n"
      ],
      "metadata": {
        "id": "b9fHPojfnbPy"
      }
    },
    {
      "cell_type": "markdown",
      "source": [
        "## Install, setup, import"
      ],
      "metadata": {
        "id": "psOMvEL0Gekz"
      }
    },
    {
      "cell_type": "code",
      "execution_count": null,
      "metadata": {
        "colab": {
          "base_uri": "https://localhost:8080/"
        },
        "id": "A8-Y_YPZutn6",
        "outputId": "2a5fb145-8ee0-4215-a442-29e75e96bdbd"
      },
      "outputs": [
        {
          "output_type": "stream",
          "name": "stdout",
          "text": [
            "Name: langroid\n",
            "Version: 0.1.125\n",
            "Summary: Harness LLMs with Multi-Agent Programming\n",
            "Home-page: \n",
            "Author: Prasad Chalasani\n",
            "Author-email: pchalasani@gmail.com\n",
            "License: MIT\n",
            "Location: /usr/local/lib/python3.10/dist-packages\n",
            "Requires: async-generator, autopep8, black, bs4, chromadb, colorlog, docstring-parser, faker, fakeredis, farm-haystack, fire, flake8, google-api-python-client, halo, jinja2, lancedb, lxml, meilisearch, meilisearch-python-sdk, mkdocs, mkdocs-awesome-pages-plugin, mkdocs-gen-files, mkdocs-jupyter, mkdocs-literate-nav, mkdocs-material, mkdocs-rss-plugin, mkdocs-section-index, mkdocstrings, momento, mypy, nltk, onnxruntime, openai, pandas, pdfplumber, pre-commit, prettytable, pydantic, pygithub, pygments, pymupdf, pyparsing, pypdf, pytest-asyncio, pytest-redis, python-dotenv, qdrant-client, rank-bm25, redis, requests, requests-oauthlib, rich, ruff, scrapy, sqlalchemy, tantivy, thefuzz, tiktoken, trafilatura, typer, types-redis, types-requests, unstructured, wget\n",
            "Required-by: \n"
          ]
        }
      ],
      "source": [
        "# Silently install, suppress all output (~2-4 mins)\n",
        "!pip install -q --upgrade langroid &> /dev/null\n",
        "!pip show langroid"
      ]
    },
    {
      "cell_type": "code",
      "source": [
        "# various unfortunate things that need to be done to\n",
        "# control notebook behavior.\n",
        "\n",
        "# (a) output width\n",
        "\n",
        "from IPython.display import HTML, display\n",
        "\n",
        "def set_css():\n",
        "  display(HTML('''\n",
        "  <style>\n",
        "    pre {\n",
        "        white-space: pre-wrap;\n",
        "    }\n",
        "  </style>\n",
        "  '''))\n",
        "get_ipython().events.register('pre_run_cell', set_css)\n",
        "\n",
        "# (b) logging related\n",
        "import logging\n",
        "logging.basicConfig(level=logging.ERROR)\n",
        "import warnings\n",
        "warnings.filterwarnings('ignore')\n",
        "import logging\n",
        "for logger_name in logging.root.manager.loggerDict:\n",
        "    logger = logging.getLogger(logger_name)\n",
        "    logger.setLevel(logging.ERROR)\n",
        "\n"
      ],
      "metadata": {
        "id": "rWwH6duUzAC6"
      },
      "execution_count": null,
      "outputs": []
    },
    {
      "cell_type": "code",
      "source": [],
      "metadata": {
        "colab": {
          "base_uri": "https://localhost:8080/",
          "height": 17
        },
        "id": "U5Jav3hPofNq",
        "outputId": "f78ffcef-6be1-4c77-d79e-0b194b297384"
      },
      "execution_count": null,
      "outputs": [
        {
          "output_type": "display_data",
          "data": {
            "text/plain": [
              "<IPython.core.display.HTML object>"
            ],
            "text/html": [
              "\n",
              "  <style>\n",
              "    pre {\n",
              "        white-space: pre-wrap;\n",
              "    }\n",
              "  </style>\n",
              "  "
            ]
          },
          "metadata": {}
        }
      ]
    },
    {
      "cell_type": "markdown",
      "source": [
        "#### OpenAI API Key (Needs GPT4-TURBO)"
      ],
      "metadata": {
        "id": "j-6vNfKW9J7b"
      }
    },
    {
      "cell_type": "code",
      "source": [
        "# OpenAI API Key: Enter your key in the dialog box that will show up below\n",
        "# NOTE: colab often struggles with showing this input box,\n",
        "# if so, simply insert your API key in this cell, though it's not ideal.\n",
        "import os\n",
        "\n",
        "from getpass import getpass\n",
        "\n",
        "os.environ['OPENAI_API_KEY'] = getpass('Enter your GPT4-Turbo-capable OPENAI_API_KEY key:', stream=None)\n",
        "\n",
        "\n"
      ],
      "metadata": {
        "colab": {
          "base_uri": "https://localhost:8080/",
          "height": 34
        },
        "id": "uvTODlZv3yyT",
        "outputId": "3e33fdfe-d5de-46d5-e388-23bf81a04d77"
      },
      "execution_count": null,
      "outputs": [
        {
          "output_type": "display_data",
          "data": {
            "text/plain": [
              "<IPython.core.display.HTML object>"
            ],
            "text/html": [
              "\n",
              "  <style>\n",
              "    pre {\n",
              "        white-space: pre-wrap;\n",
              "    }\n",
              "  </style>\n",
              "  "
            ]
          },
          "metadata": {}
        },
        {
          "name": "stdout",
          "output_type": "stream",
          "text": [
            "Enter your GPT4-capable OPENAI_API_KEY key:··········\n"
          ]
        }
      ]
    },
    {
      "cell_type": "code",
      "source": [
        "from pydantic import BaseModel\n",
        "import json\n",
        "import os\n",
        "\n",
        "from langroid.agent.openai_assistant import (\n",
        "    OpenAIAssistantConfig,\n",
        "    OpenAIAssistant,\n",
        "    AssistantTool,\n",
        ")\n",
        "\n",
        "from langroid.agent.chat_agent import ChatAgent, ChatAgentConfig\n",
        "from langroid.agent.task import Task\n",
        "from langroid.agent.tool_message import ToolMessage\n",
        "from langroid.language_models.openai_gpt import OpenAIGPTConfig, OpenAIChatModel\n",
        "from langroid.utils.logging import setup_colored_logging\n",
        "from langroid.utils.constants import NO_ANSWER\n",
        "from langroid.utils.configuration import settings\n",
        "settings.notebook = True"
      ],
      "metadata": {
        "colab": {
          "base_uri": "https://localhost:8080/",
          "height": 17
        },
        "id": "A5N0NQwc3jX_",
        "outputId": "7452e570-b280-4854-a89b-c1472a8208ba"
      },
      "execution_count": null,
      "outputs": [
        {
          "output_type": "display_data",
          "data": {
            "text/plain": [
              "<IPython.core.display.HTML object>"
            ],
            "text/html": [
              "\n",
              "  <style>\n",
              "    pre {\n",
              "        white-space: pre-wrap;\n",
              "    }\n",
              "  </style>\n",
              "  "
            ]
          },
          "metadata": {}
        }
      ]
    },
    {
      "cell_type": "markdown",
      "source": [
        "## Example 1: Basic Chat Example with Assistant API\n",
        "Langroid's `OpenAIAssistant` class helps you easily use the OpenAI Assistant API to get a response from the LLM and ask follow-up questions (note that conversation state is maintained by the Assistant API via threads).\n"
      ],
      "metadata": {
        "id": "8vDpiY0XHAkT"
      }
    },
    {
      "cell_type": "code",
      "source": [
        "cfg = OpenAIAssistantConfig(\n",
        "    llm = OpenAIGPTConfig(chat_model=OpenAIChatModel.GPT4_TURBO)\n",
        ")\n",
        "agent = OpenAIAssistant(cfg)\n",
        "\n",
        "response = agent.llm_response(\"What is the square of 3?\")"
      ],
      "metadata": {
        "colab": {
          "base_uri": "https://localhost:8080/",
          "height": 172
        },
        "id": "9c5Av3rKHQIm",
        "outputId": "1ed4763f-defc-475b-e0e3-d64537b67b08"
      },
      "execution_count": null,
      "outputs": [
        {
          "output_type": "display_data",
          "data": {
            "text/plain": [
              "<IPython.core.display.HTML object>"
            ],
            "text/html": [
              "\n",
              "  <style>\n",
              "    pre {\n",
              "        white-space: pre-wrap;\n",
              "    }\n",
              "  </style>\n",
              "  "
            ]
          },
          "metadata": {}
        },
        {
          "output_type": "stream",
          "name": "stderr",
          "text": [
            "WARNING:langroid.cachedb.redis_cachedb:REDIS_PASSWORD, REDIS_HOST, REDIS_PORT not set in .env file,\n",
            "                    using fake redis client\n",
            "\u001b[33m2023-11-15 15:18:09 - WARNING - REDIS_PASSWORD, REDIS_HOST, REDIS_PORT not set in .env file,\n",
            "                    using fake redis client\u001b[0m\n",
            "WARNING:langroid.cachedb.redis_cachedb:REDIS_PASSWORD, REDIS_HOST, REDIS_PORT not set in .env file,\n",
            "                    using fake redis client\n",
            "\u001b[33m2023-11-15 15:18:09 - WARNING - REDIS_PASSWORD, REDIS_HOST, REDIS_PORT not set in .env file,\n",
            "                    using fake redis client\u001b[0m\n"
          ]
        },
        {
          "output_type": "display_data",
          "data": {
            "text/plain": [
              "\u001b[32mThe square of \u001b[0m\u001b[1;32m3\u001b[0m\u001b[32m is \u001b[0m\u001b[1;32m9\u001b[0m\u001b[32m \u001b[0m\u001b[1;32m(\u001b[0m\u001b[32msince \u001b[0m\u001b[1;32m3\u001b[0m\u001b[32m × \u001b[0m\u001b[1;32m3\u001b[0m\u001b[32m = \u001b[0m\u001b[1;32m9\u001b[0m\u001b[1;32m)\u001b[0m\u001b[32m.\u001b[0m\n"
            ],
            "text/html": [
              "<pre style=\"white-space:pre;overflow-x:auto;line-height:normal;font-family:Menlo,'DejaVu Sans Mono',consolas,'Courier New',monospace\"><span style=\"color: #008000; text-decoration-color: #008000\">The square of </span><span style=\"color: #008000; text-decoration-color: #008000; font-weight: bold\">3</span><span style=\"color: #008000; text-decoration-color: #008000\"> is </span><span style=\"color: #008000; text-decoration-color: #008000; font-weight: bold\">9</span><span style=\"color: #008000; text-decoration-color: #008000\"> </span><span style=\"color: #008000; text-decoration-color: #008000; font-weight: bold\">(</span><span style=\"color: #008000; text-decoration-color: #008000\">since </span><span style=\"color: #008000; text-decoration-color: #008000; font-weight: bold\">3</span><span style=\"color: #008000; text-decoration-color: #008000\"> × </span><span style=\"color: #008000; text-decoration-color: #008000; font-weight: bold\">3</span><span style=\"color: #008000; text-decoration-color: #008000\"> = </span><span style=\"color: #008000; text-decoration-color: #008000; font-weight: bold\">9</span><span style=\"color: #008000; text-decoration-color: #008000; font-weight: bold\">)</span><span style=\"color: #008000; text-decoration-color: #008000\">.</span>\n",
              "</pre>\n"
            ]
          },
          "metadata": {}
        }
      ]
    },
    {
      "cell_type": "code",
      "source": [
        "response = agent.llm_response(\"What about 5?\") # maintains conv state"
      ],
      "metadata": {
        "colab": {
          "base_uri": "https://localhost:8080/",
          "height": 33
        },
        "id": "5GvqhTlBRgXp",
        "outputId": "f4b93adb-e1c3-4a52-d1c6-f3260b94cce5"
      },
      "execution_count": null,
      "outputs": [
        {
          "output_type": "display_data",
          "data": {
            "text/plain": [
              "<IPython.core.display.HTML object>"
            ],
            "text/html": [
              "\n",
              "  <style>\n",
              "    pre {\n",
              "        white-space: pre-wrap;\n",
              "    }\n",
              "  </style>\n",
              "  "
            ]
          },
          "metadata": {}
        },
        {
          "output_type": "display_data",
          "data": {
            "text/plain": [
              "\u001b[32mThe square of \u001b[0m\u001b[1;32m5\u001b[0m\u001b[32m is \u001b[0m\u001b[1;32m25\u001b[0m\u001b[32m \u001b[0m\u001b[1;32m(\u001b[0m\u001b[32msince \u001b[0m\u001b[1;32m5\u001b[0m\u001b[32m × \u001b[0m\u001b[1;32m5\u001b[0m\u001b[32m = \u001b[0m\u001b[1;32m25\u001b[0m\u001b[1;32m)\u001b[0m\u001b[32m.\u001b[0m\n"
            ],
            "text/html": [
              "<pre style=\"white-space:pre;overflow-x:auto;line-height:normal;font-family:Menlo,'DejaVu Sans Mono',consolas,'Courier New',monospace\"><span style=\"color: #008000; text-decoration-color: #008000\">The square of </span><span style=\"color: #008000; text-decoration-color: #008000; font-weight: bold\">5</span><span style=\"color: #008000; text-decoration-color: #008000\"> is </span><span style=\"color: #008000; text-decoration-color: #008000; font-weight: bold\">25</span><span style=\"color: #008000; text-decoration-color: #008000\"> </span><span style=\"color: #008000; text-decoration-color: #008000; font-weight: bold\">(</span><span style=\"color: #008000; text-decoration-color: #008000\">since </span><span style=\"color: #008000; text-decoration-color: #008000; font-weight: bold\">5</span><span style=\"color: #008000; text-decoration-color: #008000\"> × </span><span style=\"color: #008000; text-decoration-color: #008000; font-weight: bold\">5</span><span style=\"color: #008000; text-decoration-color: #008000\"> = </span><span style=\"color: #008000; text-decoration-color: #008000; font-weight: bold\">25</span><span style=\"color: #008000; text-decoration-color: #008000; font-weight: bold\">)</span><span style=\"color: #008000; text-decoration-color: #008000\">.</span>\n",
              "</pre>\n"
            ]
          },
          "metadata": {}
        }
      ]
    },
    {
      "cell_type": "markdown",
      "source": [
        "## Example 2: Wrap Agent in a Task, run it\n",
        "\n",
        "An `OpenAIAssistant` agent has various capabilities (LLM responses, agent methods/tools, etc) but there is no mechanism to iterate over these capabilities or with a human or with other agents.\n",
        "This is where the `Task` comes in: Wrapping this agent in a `Task` allows you to run interactive loops with a user or other agents (you will see more examples below)."
      ],
      "metadata": {
        "id": "-MVHyF4cSGb0"
      }
    },
    {
      "cell_type": "code",
      "source": [
        "task = Task(\n",
        "    agent,\n",
        "    system_message=\"\"\"User will give you a word,\n",
        "      return its antonym if possible, else say DO-NOT-KNOW.\n",
        "      Be concise!\",\n",
        "      \"\"\",\n",
        "    single_round=True\n",
        ")\n",
        "result = task.run(\"ignorant\")\n"
      ],
      "metadata": {
        "colab": {
          "base_uri": "https://localhost:8080/",
          "height": 66
        },
        "id": "8cmc5aDzScdO",
        "outputId": "253fec3c-2f03-428b-83bc-f1170702fef0"
      },
      "execution_count": null,
      "outputs": [
        {
          "output_type": "display_data",
          "data": {
            "text/plain": [
              "<IPython.core.display.HTML object>"
            ],
            "text/html": [
              "\n",
              "  <style>\n",
              "    pre {\n",
              "        white-space: pre-wrap;\n",
              "    }\n",
              "  </style>\n",
              "  "
            ]
          },
          "metadata": {}
        },
        {
          "output_type": "display_data",
          "data": {
            "text/plain": [
              "\u001b[1;35m>>> Starting Agent LLM-Agent \u001b[0m\u001b[1;35m(\u001b[0m\u001b[1;35m1\u001b[0m\u001b[1;35m)\u001b[0m\u001b[1;35m gpt-\u001b[0m\u001b[1;35m4\u001b[0m\u001b[1;35m-\u001b[0m\u001b[1;35m1106\u001b[0m\u001b[1;35m-preview \u001b[0m\n"
            ],
            "text/html": [
              "<pre style=\"white-space:pre;overflow-x:auto;line-height:normal;font-family:Menlo,'DejaVu Sans Mono',consolas,'Courier New',monospace\"><span style=\"color: #800080; text-decoration-color: #800080; font-weight: bold\">&gt;&gt;&gt; Starting Agent LLM-Agent (</span><span style=\"color: #800080; text-decoration-color: #800080; font-weight: bold\">1</span><span style=\"color: #800080; text-decoration-color: #800080; font-weight: bold\">) gpt-</span><span style=\"color: #800080; text-decoration-color: #800080; font-weight: bold\">4</span><span style=\"color: #800080; text-decoration-color: #800080; font-weight: bold\">-</span><span style=\"color: #800080; text-decoration-color: #800080; font-weight: bold\">1106</span><span style=\"color: #800080; text-decoration-color: #800080; font-weight: bold\">-preview </span>\n",
              "</pre>\n"
            ]
          },
          "metadata": {}
        },
        {
          "output_type": "display_data",
          "data": {
            "text/plain": [
              "\u001b[32minformed.\u001b[0m\n"
            ],
            "text/html": [
              "<pre style=\"white-space:pre;overflow-x:auto;line-height:normal;font-family:Menlo,'DejaVu Sans Mono',consolas,'Courier New',monospace\"><span style=\"color: #008000; text-decoration-color: #008000\">informed.</span>\n",
              "</pre>\n"
            ]
          },
          "metadata": {}
        },
        {
          "output_type": "display_data",
          "data": {
            "text/plain": [
              "\u001b[1;35m<<< Finished Agent LLM-Agent \u001b[0m\u001b[1;35m(\u001b[0m\u001b[1;35m0\u001b[0m\u001b[1;35m)\u001b[0m\u001b[1;35m \u001b[0m\n"
            ],
            "text/html": [
              "<pre style=\"white-space:pre;overflow-x:auto;line-height:normal;font-family:Menlo,'DejaVu Sans Mono',consolas,'Courier New',monospace\"><span style=\"color: #800080; text-decoration-color: #800080; font-weight: bold\">&lt;&lt;&lt; Finished Agent LLM-Agent (</span><span style=\"color: #800080; text-decoration-color: #800080; font-weight: bold\">0</span><span style=\"color: #800080; text-decoration-color: #800080; font-weight: bold\">) </span>\n",
              "</pre>\n"
            ]
          },
          "metadata": {}
        }
      ]
    },
    {
      "cell_type": "markdown",
      "source": [
        "## Example 3: OpenAIAssistant Agent + Task with Code Interpreter\n",
        "Here we attach the \"code_interpreter\" tool (from the OpenAI Assistant API) to the agent defined above, and run it in a task."
      ],
      "metadata": {
        "id": "veWSLzDSVDzB"
      }
    },
    {
      "cell_type": "code",
      "source": [
        "agent.add_assistant_tools([AssistantTool(type=\"code_interpreter\")])\n",
        "task = Task(agent, interactive=False, single_round=True)\n",
        "result = task.run(\"What is the 10th Fibonacci number, if you start with 1,2?\")"
      ],
      "metadata": {
        "colab": {
          "base_uri": "https://localhost:8080/",
          "height": 428
        },
        "id": "5-h1ztagTd7Y",
        "outputId": "4bcacb3a-e9d4-4d1c-8225-c6a090711459"
      },
      "execution_count": null,
      "outputs": [
        {
          "output_type": "display_data",
          "data": {
            "text/plain": [
              "<IPython.core.display.HTML object>"
            ],
            "text/html": [
              "\n",
              "  <style>\n",
              "    pre {\n",
              "        white-space: pre-wrap;\n",
              "    }\n",
              "  </style>\n",
              "  "
            ]
          },
          "metadata": {}
        },
        {
          "output_type": "display_data",
          "data": {
            "text/plain": [
              "\u001b[1;35m>>> Starting Agent LLM-Agent \u001b[0m\u001b[1;35m(\u001b[0m\u001b[1;35m1\u001b[0m\u001b[1;35m)\u001b[0m\u001b[1;35m gpt-\u001b[0m\u001b[1;35m4\u001b[0m\u001b[1;35m-\u001b[0m\u001b[1;35m1106\u001b[0m\u001b[1;35m-preview \u001b[0m\n"
            ],
            "text/html": [
              "<pre style=\"white-space:pre;overflow-x:auto;line-height:normal;font-family:Menlo,'DejaVu Sans Mono',consolas,'Courier New',monospace\"><span style=\"color: #800080; text-decoration-color: #800080; font-weight: bold\">&gt;&gt;&gt; Starting Agent LLM-Agent (</span><span style=\"color: #800080; text-decoration-color: #800080; font-weight: bold\">1</span><span style=\"color: #800080; text-decoration-color: #800080; font-weight: bold\">) gpt-</span><span style=\"color: #800080; text-decoration-color: #800080; font-weight: bold\">4</span><span style=\"color: #800080; text-decoration-color: #800080; font-weight: bold\">-</span><span style=\"color: #800080; text-decoration-color: #800080; font-weight: bold\">1106</span><span style=\"color: #800080; text-decoration-color: #800080; font-weight: bold\">-preview </span>\n",
              "</pre>\n"
            ]
          },
          "metadata": {}
        },
        {
          "output_type": "stream",
          "name": "stderr",
          "text": [
            "WARNING:langroid.agent.openai_assistant:Timeout waiting for run to complete, return empty string\n",
            "\u001b[33m2023-11-15 15:19:21 - WARNING - Timeout waiting for run to complete, return empty string\u001b[0m\n"
          ]
        },
        {
          "output_type": "display_data",
          "data": {
            "text/plain": [
              "\u001b[35mCODE-INTERPRETER LOGS:\u001b[0m\n",
              "\u001b[35m-------------------------------\u001b[0m\n",
              "\u001b[35mINPUT:\u001b[0m\n",
              "\u001b[35m# Define a simple function to calculate Fibonacci sequence\u001b[0m\n",
              "\u001b[35mdef \u001b[0m\u001b[1;35mfibonacci\u001b[0m\u001b[1;35m(\u001b[0m\u001b[35mn\u001b[0m\u001b[1;35m)\u001b[0m\u001b[35m:\u001b[0m\n",
              "\u001b[35m    a, b = \u001b[0m\u001b[1;35m1\u001b[0m\u001b[35m, \u001b[0m\u001b[1;35m2\u001b[0m\n",
              "\u001b[35m    for _ in \u001b[0m\u001b[1;35mrange\u001b[0m\u001b[1;35m(\u001b[0m\u001b[35mn - \u001b[0m\u001b[1;35m1\u001b[0m\u001b[1;35m)\u001b[0m\u001b[35m:\u001b[0m\n",
              "\u001b[35m        a, b = b, a + b\u001b[0m\n",
              "\u001b[35m    return a\u001b[0m\n",
              "\n",
              "\u001b[35m# Get the 10th Fibonacci number\u001b[0m\n",
              "\u001b[1;35mfibonacci\u001b[0m\u001b[1;35m(\u001b[0m\u001b[1;35m10\u001b[0m\u001b[1;35m)\u001b[0m\n",
              "\n",
              "\u001b[35mOUTPUT:\u001b[0m\n",
              "\n",
              "\n",
              "\u001b[35mINPUT:\u001b[0m\n",
              "\n",
              "\n",
              "\u001b[35mOUTPUT:\u001b[0m\n",
              "\n"
            ],
            "text/html": [
              "<pre style=\"white-space:pre;overflow-x:auto;line-height:normal;font-family:Menlo,'DejaVu Sans Mono',consolas,'Courier New',monospace\"><span style=\"color: #800080; text-decoration-color: #800080\">CODE-INTERPRETER LOGS:</span>\n",
              "<span style=\"color: #800080; text-decoration-color: #800080\">-------------------------------</span>\n",
              "<span style=\"color: #800080; text-decoration-color: #800080\">INPUT:</span>\n",
              "<span style=\"color: #800080; text-decoration-color: #800080\"># Define a simple function to calculate Fibonacci sequence</span>\n",
              "<span style=\"color: #800080; text-decoration-color: #800080\">def </span><span style=\"color: #800080; text-decoration-color: #800080; font-weight: bold\">fibonacci(</span><span style=\"color: #800080; text-decoration-color: #800080\">n</span><span style=\"color: #800080; text-decoration-color: #800080; font-weight: bold\">)</span><span style=\"color: #800080; text-decoration-color: #800080\">:</span>\n",
              "<span style=\"color: #800080; text-decoration-color: #800080\">    a, b = </span><span style=\"color: #800080; text-decoration-color: #800080; font-weight: bold\">1</span><span style=\"color: #800080; text-decoration-color: #800080\">, </span><span style=\"color: #800080; text-decoration-color: #800080; font-weight: bold\">2</span>\n",
              "<span style=\"color: #800080; text-decoration-color: #800080\">    for _ in </span><span style=\"color: #800080; text-decoration-color: #800080; font-weight: bold\">range(</span><span style=\"color: #800080; text-decoration-color: #800080\">n - </span><span style=\"color: #800080; text-decoration-color: #800080; font-weight: bold\">1</span><span style=\"color: #800080; text-decoration-color: #800080; font-weight: bold\">)</span><span style=\"color: #800080; text-decoration-color: #800080\">:</span>\n",
              "<span style=\"color: #800080; text-decoration-color: #800080\">        a, b = b, a + b</span>\n",
              "<span style=\"color: #800080; text-decoration-color: #800080\">    return a</span>\n",
              "\n",
              "<span style=\"color: #800080; text-decoration-color: #800080\"># Get the 10th Fibonacci number</span>\n",
              "<span style=\"color: #800080; text-decoration-color: #800080; font-weight: bold\">fibonacci(</span><span style=\"color: #800080; text-decoration-color: #800080; font-weight: bold\">10</span><span style=\"color: #800080; text-decoration-color: #800080; font-weight: bold\">)</span>\n",
              "\n",
              "<span style=\"color: #800080; text-decoration-color: #800080\">OUTPUT:</span>\n",
              "\n",
              "\n",
              "<span style=\"color: #800080; text-decoration-color: #800080\">INPUT:</span>\n",
              "\n",
              "\n",
              "<span style=\"color: #800080; text-decoration-color: #800080\">OUTPUT:</span>\n",
              "\n",
              "</pre>\n"
            ]
          },
          "metadata": {}
        },
        {
          "output_type": "display_data",
          "data": {
            "text/plain": [
              "\n"
            ],
            "text/html": [
              "<pre style=\"white-space:pre;overflow-x:auto;line-height:normal;font-family:Menlo,'DejaVu Sans Mono',consolas,'Courier New',monospace\">\n",
              "</pre>\n"
            ]
          },
          "metadata": {}
        },
        {
          "output_type": "display_data",
          "data": {
            "text/plain": [
              "\u001b[1;35m<<< Finished Agent LLM-Agent \u001b[0m\u001b[1;35m(\u001b[0m\u001b[1;35m0\u001b[0m\u001b[1;35m)\u001b[0m\u001b[1;35m \u001b[0m\n"
            ],
            "text/html": [
              "<pre style=\"white-space:pre;overflow-x:auto;line-height:normal;font-family:Menlo,'DejaVu Sans Mono',consolas,'Courier New',monospace\"><span style=\"color: #800080; text-decoration-color: #800080; font-weight: bold\">&lt;&lt;&lt; Finished Agent LLM-Agent (</span><span style=\"color: #800080; text-decoration-color: #800080; font-weight: bold\">0</span><span style=\"color: #800080; text-decoration-color: #800080; font-weight: bold\">) </span>\n",
              "</pre>\n"
            ]
          },
          "metadata": {}
        }
      ]
    },
    {
      "cell_type": "markdown",
      "source": [
        "## Example 4: OpenAIAssistant with Retrieval\n",
        "Attach a file (a lease document) and the \"retrieval\" tool, and ask questions about the document."
      ],
      "metadata": {
        "id": "DvyNcH5HbodS"
      }
    },
    {
      "cell_type": "code",
      "source": [
        "# get the lease document\n",
        "\n",
        "import requests\n",
        "file_url = \"https://raw.githubusercontent.com/langroid/langroid-examples/main/examples/docqa/lease.txt\"\n",
        "response = requests.get(file_url)\n",
        "with open('lease.txt', 'wb') as file:\n",
        "    file.write(response.content)\n",
        "\n",
        "# verify\n",
        "#with open('lease.txt', 'r') as file:\n",
        "#   print(file.read())\n",
        "\n",
        "# now create agent, add retrieval tool and file\n",
        "agent = OpenAIAssistant(cfg)\n",
        "agent.add_assistant_tools([AssistantTool(type=\"retrieval\")])\n",
        "agent.add_assistant_files([\"lease.txt\"])\n",
        "response = agent.llm_response(\"What is the start date of the lease?\")\n"
      ],
      "metadata": {
        "colab": {
          "base_uri": "https://localhost:8080/",
          "height": 172
        },
        "id": "fegAio3kpgoo",
        "outputId": "eae49d56-7f40-4480-98aa-e4e1c523a910"
      },
      "execution_count": null,
      "outputs": [
        {
          "output_type": "display_data",
          "data": {
            "text/plain": [
              "<IPython.core.display.HTML object>"
            ],
            "text/html": [
              "\n",
              "  <style>\n",
              "    pre {\n",
              "        white-space: pre-wrap;\n",
              "    }\n",
              "  </style>\n",
              "  "
            ]
          },
          "metadata": {}
        },
        {
          "output_type": "stream",
          "name": "stderr",
          "text": [
            "WARNING:langroid.cachedb.redis_cachedb:REDIS_PASSWORD, REDIS_HOST, REDIS_PORT not set in .env file,\n",
            "                    using fake redis client\n",
            "\u001b[33m2023-11-15 15:19:34 - WARNING - REDIS_PASSWORD, REDIS_HOST, REDIS_PORT not set in .env file,\n",
            "                    using fake redis client\u001b[0m\n",
            "WARNING:langroid.cachedb.redis_cachedb:REDIS_PASSWORD, REDIS_HOST, REDIS_PORT not set in .env file,\n",
            "                    using fake redis client\n",
            "\u001b[33m2023-11-15 15:19:34 - WARNING - REDIS_PASSWORD, REDIS_HOST, REDIS_PORT not set in .env file,\n",
            "                    using fake redis client\u001b[0m\n"
          ]
        },
        {
          "output_type": "display_data",
          "data": {
            "text/plain": [
              "\u001b[32mThe start date of the lease, referred to as the \u001b[0m\u001b[32m\"Commencement Date,\"\u001b[0m\u001b[32m is December \u001b[0m\u001b[1;32m1\u001b[0m\u001b[32m, \u001b[0m\u001b[1;32m2013\u001b[0m\u001b[32m.\u001b[0m\n"
            ],
            "text/html": [
              "<pre style=\"white-space:pre;overflow-x:auto;line-height:normal;font-family:Menlo,'DejaVu Sans Mono',consolas,'Courier New',monospace\"><span style=\"color: #008000; text-decoration-color: #008000\">The start date of the lease, referred to as the </span><span style=\"color: #008000; text-decoration-color: #008000\">\"Commencement Date,\"</span><span style=\"color: #008000; text-decoration-color: #008000\"> is December </span><span style=\"color: #008000; text-decoration-color: #008000; font-weight: bold\">1</span><span style=\"color: #008000; text-decoration-color: #008000\">, </span><span style=\"color: #008000; text-decoration-color: #008000; font-weight: bold\">2013</span><span style=\"color: #008000; text-decoration-color: #008000\">.</span>\n",
              "</pre>\n"
            ]
          },
          "metadata": {}
        }
      ]
    },
    {
      "cell_type": "markdown",
      "source": [
        "## Example 5: OpenAIAsssistant + Task: Custom Function-calling\n",
        "You can define your own custom function (or `ToolMessage` in Langroid terminology), enable the agent to use it, and have a special method to handle the message when the LLM emits such a message."
      ],
      "metadata": {
        "id": "Xub3BgSMc4uA"
      }
    },
    {
      "cell_type": "code",
      "source": [
        "# Define your own function for the LLM to call;\n",
        "# this function will be executed by the Langroid agent as part of the task loop\n",
        "\n",
        "class SquareTool(ToolMessage):\n",
        "    request = \"square\"\n",
        "    purpose = \"To find the square of a number <num>\"\n",
        "    num: int\n",
        "\n",
        "    def handle(self) -> str:\n",
        "        return str(self.num ** 2)\n",
        "\n",
        "# create agent, add tool to agent\n",
        "cfg = OpenAIAssistantConfig(\n",
        "    llm=OpenAIGPTConfig(chat_model=OpenAIChatModel.GPT4_TURBO),\n",
        "    name=\"NumberExpert\",\n",
        ")\n",
        "agent = OpenAIAssistant(cfg)\n",
        "agent.enable_message(SquareTool)\n",
        "task = Task(\n",
        "    agent,\n",
        "    system_message=\"\"\"\n",
        "    User will ask you to square a number.\n",
        "    You do NOT know how, so you will use the\n",
        "    `square` function to find the answer.\n",
        "    When you get the answer say DONE and show it.\n",
        "    \"\"\",\n",
        "    interactive=False,\n",
        ")\n",
        "response = task.run(\"What is the square of 5?\")\n"
      ],
      "metadata": {
        "colab": {
          "base_uri": "https://localhost:8080/",
          "height": 352
        },
        "id": "dgav7-JOdAUM",
        "outputId": "b3835bfb-90ca-4642-e585-33743c5730a6"
      },
      "execution_count": null,
      "outputs": [
        {
          "output_type": "display_data",
          "data": {
            "text/plain": [
              "<IPython.core.display.HTML object>"
            ],
            "text/html": [
              "\n",
              "  <style>\n",
              "    pre {\n",
              "        white-space: pre-wrap;\n",
              "    }\n",
              "  </style>\n",
              "  "
            ]
          },
          "metadata": {}
        },
        {
          "output_type": "stream",
          "name": "stderr",
          "text": [
            "WARNING:langroid.cachedb.redis_cachedb:REDIS_PASSWORD, REDIS_HOST, REDIS_PORT not set in .env file,\n",
            "                    using fake redis client\n",
            "\u001b[33m2023-11-15 15:19:55 - WARNING - REDIS_PASSWORD, REDIS_HOST, REDIS_PORT not set in .env file,\n",
            "                    using fake redis client\u001b[0m\n",
            "WARNING:langroid.cachedb.redis_cachedb:REDIS_PASSWORD, REDIS_HOST, REDIS_PORT not set in .env file,\n",
            "                    using fake redis client\n",
            "\u001b[33m2023-11-15 15:19:55 - WARNING - REDIS_PASSWORD, REDIS_HOST, REDIS_PORT not set in .env file,\n",
            "                    using fake redis client\u001b[0m\n"
          ]
        },
        {
          "output_type": "display_data",
          "data": {
            "text/plain": [
              "\u001b[1;35m>>> Starting Agent NumberExpert \u001b[0m\u001b[1;35m(\u001b[0m\u001b[1;35m1\u001b[0m\u001b[1;35m)\u001b[0m\u001b[1;35m gpt-\u001b[0m\u001b[1;35m4\u001b[0m\u001b[1;35m-\u001b[0m\u001b[1;35m1106\u001b[0m\u001b[1;35m-preview \u001b[0m\n"
            ],
            "text/html": [
              "<pre style=\"white-space:pre;overflow-x:auto;line-height:normal;font-family:Menlo,'DejaVu Sans Mono',consolas,'Courier New',monospace\"><span style=\"color: #800080; text-decoration-color: #800080; font-weight: bold\">&gt;&gt;&gt; Starting Agent NumberExpert (</span><span style=\"color: #800080; text-decoration-color: #800080; font-weight: bold\">1</span><span style=\"color: #800080; text-decoration-color: #800080; font-weight: bold\">) gpt-</span><span style=\"color: #800080; text-decoration-color: #800080; font-weight: bold\">4</span><span style=\"color: #800080; text-decoration-color: #800080; font-weight: bold\">-</span><span style=\"color: #800080; text-decoration-color: #800080; font-weight: bold\">1106</span><span style=\"color: #800080; text-decoration-color: #800080; font-weight: bold\">-preview </span>\n",
              "</pre>\n"
            ]
          },
          "metadata": {}
        },
        {
          "output_type": "display_data",
          "data": {
            "text/plain": [
              "\u001b[32mFUNC: \u001b[0m\u001b[1;32m{\u001b[0m\n",
              "\u001b[32m  \u001b[0m\u001b[32m\"name\"\u001b[0m\u001b[32m: \u001b[0m\u001b[32m\"square\"\u001b[0m\u001b[32m,\u001b[0m\n",
              "\u001b[32m  \u001b[0m\u001b[32m\"to\"\u001b[0m\u001b[32m: \u001b[0m\u001b[32m\"\"\u001b[0m\u001b[32m,\u001b[0m\n",
              "\u001b[32m  \u001b[0m\u001b[32m\"arguments\"\u001b[0m\u001b[32m: \u001b[0m\u001b[1;32m{\u001b[0m\n",
              "\u001b[32m    \u001b[0m\u001b[32m\"num\"\u001b[0m\u001b[32m: \u001b[0m\u001b[1;32m5\u001b[0m\n",
              "\u001b[32m  \u001b[0m\u001b[1;32m}\u001b[0m\n",
              "\u001b[1;32m}\u001b[0m\n"
            ],
            "text/html": [
              "<pre style=\"white-space:pre;overflow-x:auto;line-height:normal;font-family:Menlo,'DejaVu Sans Mono',consolas,'Courier New',monospace\"><span style=\"color: #008000; text-decoration-color: #008000\">FUNC: </span><span style=\"color: #008000; text-decoration-color: #008000; font-weight: bold\">{</span>\n",
              "<span style=\"color: #008000; text-decoration-color: #008000\">  </span><span style=\"color: #008000; text-decoration-color: #008000\">\"name\"</span><span style=\"color: #008000; text-decoration-color: #008000\">: </span><span style=\"color: #008000; text-decoration-color: #008000\">\"square\"</span><span style=\"color: #008000; text-decoration-color: #008000\">,</span>\n",
              "<span style=\"color: #008000; text-decoration-color: #008000\">  </span><span style=\"color: #008000; text-decoration-color: #008000\">\"to\"</span><span style=\"color: #008000; text-decoration-color: #008000\">: </span><span style=\"color: #008000; text-decoration-color: #008000\">\"\"</span><span style=\"color: #008000; text-decoration-color: #008000\">,</span>\n",
              "<span style=\"color: #008000; text-decoration-color: #008000\">  </span><span style=\"color: #008000; text-decoration-color: #008000\">\"arguments\"</span><span style=\"color: #008000; text-decoration-color: #008000\">: </span><span style=\"color: #008000; text-decoration-color: #008000; font-weight: bold\">{</span>\n",
              "<span style=\"color: #008000; text-decoration-color: #008000\">    </span><span style=\"color: #008000; text-decoration-color: #008000\">\"num\"</span><span style=\"color: #008000; text-decoration-color: #008000\">: </span><span style=\"color: #008000; text-decoration-color: #008000; font-weight: bold\">5</span>\n",
              "<span style=\"color: #008000; text-decoration-color: #008000\">  </span><span style=\"color: #008000; text-decoration-color: #008000; font-weight: bold\">}</span>\n",
              "<span style=\"color: #008000; text-decoration-color: #008000; font-weight: bold\">}</span>\n",
              "</pre>\n"
            ]
          },
          "metadata": {}
        },
        {
          "output_type": "display_data",
          "data": {
            "text/plain": [],
            "text/html": [
              "<pre style=\"white-space:pre;overflow-x:auto;line-height:normal;font-family:Menlo,'DejaVu Sans Mono',consolas,'Courier New',monospace\"></pre>\n"
            ]
          },
          "metadata": {}
        },
        {
          "output_type": "display_data",
          "data": {
            "text/plain": [
              "\u001b[31mAgent: \u001b[0m\u001b[1;31m25\u001b[0m\n"
            ],
            "text/html": [
              "<pre style=\"white-space:pre;overflow-x:auto;line-height:normal;font-family:Menlo,'DejaVu Sans Mono',consolas,'Courier New',monospace\"><span style=\"color: #800000; text-decoration-color: #800000\">Agent: </span><span style=\"color: #800000; text-decoration-color: #800000; font-weight: bold\">25</span>\n",
              "</pre>\n"
            ]
          },
          "metadata": {}
        },
        {
          "output_type": "display_data",
          "data": {
            "text/plain": [
              "\u001b[32mDONE. The square of \u001b[0m\u001b[1;32m5\u001b[0m\u001b[32m is \u001b[0m\u001b[1;32m25\u001b[0m\u001b[32m.\u001b[0m\n"
            ],
            "text/html": [
              "<pre style=\"white-space:pre;overflow-x:auto;line-height:normal;font-family:Menlo,'DejaVu Sans Mono',consolas,'Courier New',monospace\"><span style=\"color: #008000; text-decoration-color: #008000\">DONE. The square of </span><span style=\"color: #008000; text-decoration-color: #008000; font-weight: bold\">5</span><span style=\"color: #008000; text-decoration-color: #008000\"> is </span><span style=\"color: #008000; text-decoration-color: #008000; font-weight: bold\">25</span><span style=\"color: #008000; text-decoration-color: #008000\">.</span>\n",
              "</pre>\n"
            ]
          },
          "metadata": {}
        },
        {
          "output_type": "display_data",
          "data": {
            "text/plain": [
              "\u001b[35mBye, hope this was useful!\u001b[0m\n"
            ],
            "text/html": [
              "<pre style=\"white-space:pre;overflow-x:auto;line-height:normal;font-family:Menlo,'DejaVu Sans Mono',consolas,'Courier New',monospace\"><span style=\"color: #800080; text-decoration-color: #800080\">Bye, hope this was useful!</span>\n",
              "</pre>\n"
            ]
          },
          "metadata": {}
        },
        {
          "output_type": "display_data",
          "data": {
            "text/plain": [
              "\u001b[1;35m<<< Finished Agent NumberExpert \u001b[0m\u001b[1;35m(\u001b[0m\u001b[1;35m0\u001b[0m\u001b[1;35m)\u001b[0m\u001b[1;35m \u001b[0m\n"
            ],
            "text/html": [
              "<pre style=\"white-space:pre;overflow-x:auto;line-height:normal;font-family:Menlo,'DejaVu Sans Mono',consolas,'Courier New',monospace\"><span style=\"color: #800080; text-decoration-color: #800080; font-weight: bold\">&lt;&lt;&lt; Finished Agent NumberExpert (</span><span style=\"color: #800080; text-decoration-color: #800080; font-weight: bold\">0</span><span style=\"color: #800080; text-decoration-color: #800080; font-weight: bold\">) </span>\n",
              "</pre>\n"
            ]
          },
          "metadata": {}
        }
      ]
    },
    {
      "cell_type": "markdown",
      "source": [
        "## Example 6: 2-Agent system to extract structured info from a Lease Document\n",
        "Now we are ready to put together the various notions above, to build a two-agent system where:\n",
        "- Lease Extractor Agent is required to collect structured information about a lease document, but does not have access to it, so it generates questions to:\n",
        "- Retriever Agent which answers questions it receives, using the \"retrieval\" tool, based on the attached lease document\n"
      ],
      "metadata": {
        "id": "yi9GppzlKae_"
      }
    },
    {
      "cell_type": "markdown",
      "source": [
        "#### Define the desired structure with Pydantic classes"
      ],
      "metadata": {
        "id": "VR26J_KzG6Vj"
      }
    },
    {
      "cell_type": "code",
      "source": [
        "\n",
        "class LeasePeriod(BaseModel):\n",
        "    start_date: str\n",
        "    end_date: str\n",
        "\n",
        "\n",
        "class LeaseFinancials(BaseModel):\n",
        "    monthly_rent: str\n",
        "    deposit: str\n",
        "\n",
        "\n",
        "class Lease(BaseModel):\n",
        "    \"\"\"\n",
        "    Various lease terms.\n",
        "    Nested fields to make this more interesting/realistic\n",
        "    \"\"\"\n",
        "\n",
        "    period: LeasePeriod\n",
        "    financials: LeaseFinancials\n",
        "    address: str\n",
        "\n"
      ],
      "metadata": {
        "colab": {
          "base_uri": "https://localhost:8080/",
          "height": 17
        },
        "id": "Q6GXjhWf5DkQ",
        "outputId": "ec9c930f-245a-4151-950d-8f407b439c2c"
      },
      "execution_count": null,
      "outputs": [
        {
          "output_type": "display_data",
          "data": {
            "text/plain": [
              "<IPython.core.display.HTML object>"
            ],
            "text/html": [
              "\n",
              "  <style>\n",
              "    pre {\n",
              "        white-space: pre-wrap;\n",
              "    }\n",
              "  </style>\n",
              "  "
            ]
          },
          "metadata": {}
        }
      ]
    },
    {
      "cell_type": "markdown",
      "source": [
        "#### Define the ToolMessage (Langroid's version of function call)"
      ],
      "metadata": {
        "id": "qCATXvfIkhGl"
      }
    },
    {
      "cell_type": "code",
      "source": [
        "\n",
        "class LeaseMessage(ToolMessage):\n",
        "    \"\"\"Tool/function to use to present details about a commercial lease\"\"\"\n",
        "\n",
        "    request: str = \"lease_info\"\n",
        "    purpose: str = \"Collect information about a Commercial Lease.\"\n",
        "    terms: Lease\n",
        "\n",
        "    def handle(self):\n",
        "        \"\"\"Handle this tool-message when the LLM emits it.\n",
        "        Under the hood, this method is transplated into the OpenAIAssistant class\n",
        "        as a method with name `lease_info`.\n",
        "        \"\"\"\n",
        "        print(f\"DONE! Successfully extracted Lease Info:\" f\"{self.terms}\")\n",
        "        return json.dumps(self.terms.dict())"
      ],
      "metadata": {
        "colab": {
          "base_uri": "https://localhost:8080/",
          "height": 17
        },
        "id": "Ffi_0u-PupvO",
        "outputId": "776a2f4c-388c-4441-c618-2682a4469e37"
      },
      "execution_count": null,
      "outputs": [
        {
          "output_type": "display_data",
          "data": {
            "text/plain": [
              "<IPython.core.display.HTML object>"
            ],
            "text/html": [
              "\n",
              "  <style>\n",
              "    pre {\n",
              "        white-space: pre-wrap;\n",
              "    }\n",
              "  </style>\n",
              "  "
            ]
          },
          "metadata": {}
        }
      ]
    },
    {
      "cell_type": "markdown",
      "source": [
        "#### Define RetrieverAgent and Task\n",
        "This agent uses the OpenAI retrieval tool to answer questions based on the attached lease file"
      ],
      "metadata": {
        "id": "OPlo1dJFlBj5"
      }
    },
    {
      "cell_type": "code",
      "source": [
        "  retriever_cfg = OpenAIAssistantConfig(\n",
        "        name=\"LeaseRetriever\",\n",
        "        llm=OpenAIGPTConfig(chat_model=OpenAIChatModel.GPT4_TURBO),\n",
        "        system_message=\"Answer questions based on the documents provided.\",\n",
        "    )\n",
        "\n",
        "  retriever_agent = OpenAIAssistant(retriever_cfg)\n",
        "  retriever_agent.add_assistant_tools([AssistantTool(type=\"retrieval\")])\n",
        "  retriever_agent.add_assistant_files([\"lease.txt\"])\n",
        "\n",
        "  retriever_task = Task(\n",
        "      retriever_agent,\n",
        "      llm_delegate=False,\n",
        "      single_round=True,\n",
        "  )"
      ],
      "metadata": {
        "colab": {
          "base_uri": "https://localhost:8080/",
          "height": 156
        },
        "id": "GgzoPxX_us52",
        "outputId": "37f6d163-5980-41d8-8ecb-7e709853d5d4"
      },
      "execution_count": null,
      "outputs": [
        {
          "output_type": "display_data",
          "data": {
            "text/plain": [
              "<IPython.core.display.HTML object>"
            ],
            "text/html": [
              "\n",
              "  <style>\n",
              "    pre {\n",
              "        white-space: pre-wrap;\n",
              "    }\n",
              "  </style>\n",
              "  "
            ]
          },
          "metadata": {}
        },
        {
          "output_type": "stream",
          "name": "stderr",
          "text": [
            "WARNING:langroid.cachedb.redis_cachedb:REDIS_PASSWORD, REDIS_HOST, REDIS_PORT not set in .env file,\n",
            "                    using fake redis client\n",
            "\u001b[33m2023-11-15 15:24:21 - WARNING - REDIS_PASSWORD, REDIS_HOST, REDIS_PORT not set in .env file,\n",
            "                    using fake redis client\u001b[0m\n",
            "WARNING:langroid.cachedb.redis_cachedb:REDIS_PASSWORD, REDIS_HOST, REDIS_PORT not set in .env file,\n",
            "                    using fake redis client\n",
            "\u001b[33m2023-11-15 15:24:21 - WARNING - REDIS_PASSWORD, REDIS_HOST, REDIS_PORT not set in .env file,\n",
            "                    using fake redis client\u001b[0m\n"
          ]
        }
      ]
    },
    {
      "cell_type": "markdown",
      "source": [
        "#### Define the ExtractorAgent and Task\n",
        "This agent is told to collect information about the lease in the desired structure, and it generates questions to be answered by the Retriever Agent defined above."
      ],
      "metadata": {
        "id": "_m1lF9qblXj9"
      }
    },
    {
      "cell_type": "code",
      "source": [
        "    extractor_cfg = OpenAIAssistantConfig(\n",
        "        name=\"LeaseExtractor\",\n",
        "        llm=OpenAIGPTConfig(chat_model=OpenAIChatModel.GPT4_TURBO),\n",
        "        system_message=f\"\"\"\n",
        "        You have to collect information about a Commercial Lease from a\n",
        "        lease contract which you don't have access to. You need to ask\n",
        "        questions to get this information. Ask only one or a couple questions\n",
        "        at a time!\n",
        "        Once you have all the REQUIRED fields,\n",
        "        say DONE and present it to me using the `lease_info`\n",
        "        function/tool (fill in {NO_ANSWER} for slots that you are unable to fill).\n",
        "        \"\"\",\n",
        "    )\n",
        "    extractor_agent = OpenAIAssistant(extractor_cfg)\n",
        "    extractor_agent.enable_message(LeaseMessage, include_defaults=False)\n",
        "\n",
        "    extractor_task = Task(\n",
        "        extractor_agent,\n",
        "        llm_delegate=True,\n",
        "        single_round=False,\n",
        "        interactive=False,\n",
        "    )\n",
        "\n",
        "\n",
        "\n"
      ],
      "metadata": {
        "colab": {
          "base_uri": "https://localhost:8080/",
          "height": 156
        },
        "id": "PV4FYnO7uxOC",
        "outputId": "e5eeed02-7785-4361-cd01-96fef92149d4"
      },
      "execution_count": null,
      "outputs": [
        {
          "output_type": "display_data",
          "data": {
            "text/plain": [
              "<IPython.core.display.HTML object>"
            ],
            "text/html": [
              "\n",
              "  <style>\n",
              "    pre {\n",
              "        white-space: pre-wrap;\n",
              "    }\n",
              "  </style>\n",
              "  "
            ]
          },
          "metadata": {}
        },
        {
          "output_type": "stream",
          "name": "stderr",
          "text": [
            "WARNING:langroid.cachedb.redis_cachedb:REDIS_PASSWORD, REDIS_HOST, REDIS_PORT not set in .env file,\n",
            "                    using fake redis client\n",
            "\u001b[33m2023-11-15 15:31:02 - WARNING - REDIS_PASSWORD, REDIS_HOST, REDIS_PORT not set in .env file,\n",
            "                    using fake redis client\u001b[0m\n",
            "WARNING:langroid.cachedb.redis_cachedb:REDIS_PASSWORD, REDIS_HOST, REDIS_PORT not set in .env file,\n",
            "                    using fake redis client\n",
            "\u001b[33m2023-11-15 15:31:02 - WARNING - REDIS_PASSWORD, REDIS_HOST, REDIS_PORT not set in .env file,\n",
            "                    using fake redis client\u001b[0m\n"
          ]
        }
      ]
    },
    {
      "cell_type": "markdown",
      "source": [
        "#### Add the Retriever as a subtask of Extractor, Run Extractor"
      ],
      "metadata": {
        "id": "QcA4oRaUl6oe"
      }
    },
    {
      "cell_type": "code",
      "source": [
        "extractor_task.add_sub_task(retriever_task)\n",
        "extractor_task.run()"
      ],
      "metadata": {
        "colab": {
          "base_uri": "https://localhost:8080/",
          "height": 1000
        },
        "id": "wFjUVTnCwB96",
        "outputId": "468a147b-7485-4fad-8cab-45411b18021f"
      },
      "execution_count": null,
      "outputs": [
        {
          "output_type": "display_data",
          "data": {
            "text/plain": [
              "<IPython.core.display.HTML object>"
            ],
            "text/html": [
              "\n",
              "  <style>\n",
              "    pre {\n",
              "        white-space: pre-wrap;\n",
              "    }\n",
              "  </style>\n",
              "  "
            ]
          },
          "metadata": {}
        },
        {
          "output_type": "display_data",
          "data": {
            "text/plain": [
              "\u001b[1;35m>>> Starting Agent LeaseExtractor \u001b[0m\u001b[1;35m(\u001b[0m\u001b[1;35m1\u001b[0m\u001b[1;35m)\u001b[0m\u001b[1;35m gpt-\u001b[0m\u001b[1;35m4\u001b[0m\u001b[1;35m-\u001b[0m\u001b[1;35m1106\u001b[0m\u001b[1;35m-preview \u001b[0m\n"
            ],
            "text/html": [
              "<pre style=\"white-space:pre;overflow-x:auto;line-height:normal;font-family:Menlo,'DejaVu Sans Mono',consolas,'Courier New',monospace\"><span style=\"color: #800080; text-decoration-color: #800080; font-weight: bold\">&gt;&gt;&gt; Starting Agent LeaseExtractor (</span><span style=\"color: #800080; text-decoration-color: #800080; font-weight: bold\">1</span><span style=\"color: #800080; text-decoration-color: #800080; font-weight: bold\">) gpt-</span><span style=\"color: #800080; text-decoration-color: #800080; font-weight: bold\">4</span><span style=\"color: #800080; text-decoration-color: #800080; font-weight: bold\">-</span><span style=\"color: #800080; text-decoration-color: #800080; font-weight: bold\">1106</span><span style=\"color: #800080; text-decoration-color: #800080; font-weight: bold\">-preview </span>\n",
              "</pre>\n"
            ]
          },
          "metadata": {}
        },
        {
          "output_type": "display_data",
          "data": {
            "text/plain": [
              "\u001b[32mTo gather information about a Commercial Lease, I need to ask a series of questions regarding the lease terms. \u001b[0m\n",
              "\u001b[32mLet's start with the basic time frame of the lease:\u001b[0m\n",
              "\n",
              "\u001b[1;32m1\u001b[0m\u001b[32m. What is the start date of the lease period?\u001b[0m\n",
              "\u001b[1;32m2\u001b[0m\u001b[32m. What is the end date of the lease period?\u001b[0m\n"
            ],
            "text/html": [
              "<pre style=\"white-space:pre;overflow-x:auto;line-height:normal;font-family:Menlo,'DejaVu Sans Mono',consolas,'Courier New',monospace\"><span style=\"color: #008000; text-decoration-color: #008000\">To gather information about a Commercial Lease, I need to ask a series of questions regarding the lease terms. </span>\n",
              "<span style=\"color: #008000; text-decoration-color: #008000\">Let's start with the basic time frame of the lease:</span>\n",
              "\n",
              "<span style=\"color: #008000; text-decoration-color: #008000; font-weight: bold\">1</span><span style=\"color: #008000; text-decoration-color: #008000\">. What is the start date of the lease period?</span>\n",
              "<span style=\"color: #008000; text-decoration-color: #008000; font-weight: bold\">2</span><span style=\"color: #008000; text-decoration-color: #008000\">. What is the end date of the lease period?</span>\n",
              "</pre>\n"
            ]
          },
          "metadata": {}
        },
        {
          "output_type": "display_data",
          "data": {
            "text/plain": [
              "\u001b[1;35m...\u001b[0m\u001b[1;35m|>>> Starting Agent LeaseRetriever \u001b[0m\u001b[1;35m(\u001b[0m\u001b[1;35m1\u001b[0m\u001b[1;35m)\u001b[0m\u001b[1;35m gpt-\u001b[0m\u001b[1;35m4\u001b[0m\u001b[1;35m-\u001b[0m\u001b[1;35m1106\u001b[0m\u001b[1;35m-preview \u001b[0m\n"
            ],
            "text/html": [
              "<pre style=\"white-space:pre;overflow-x:auto;line-height:normal;font-family:Menlo,'DejaVu Sans Mono',consolas,'Courier New',monospace\"><span style=\"color: #800080; text-decoration-color: #800080; font-weight: bold\">...|&gt;&gt;&gt; Starting Agent LeaseRetriever (</span><span style=\"color: #800080; text-decoration-color: #800080; font-weight: bold\">1</span><span style=\"color: #800080; text-decoration-color: #800080; font-weight: bold\">) gpt-</span><span style=\"color: #800080; text-decoration-color: #800080; font-weight: bold\">4</span><span style=\"color: #800080; text-decoration-color: #800080; font-weight: bold\">-</span><span style=\"color: #800080; text-decoration-color: #800080; font-weight: bold\">1106</span><span style=\"color: #800080; text-decoration-color: #800080; font-weight: bold\">-preview </span>\n",
              "</pre>\n"
            ]
          },
          "metadata": {}
        },
        {
          "output_type": "display_data",
          "data": {
            "text/plain": [
              "\u001b[1;32m1\u001b[0m\u001b[32m. The start date of the lease period is December \u001b[0m\u001b[1;32m1\u001b[0m\u001b[32m, \u001b[0m\u001b[1;32m2013\u001b[0m\u001b[32m【\u001b[0m\u001b[1;32m20\u001b[0m\u001b[32m†source】.\u001b[0m\n",
              "\u001b[1;32m2\u001b[0m\u001b[32m. The end date of the lease period is May \u001b[0m\u001b[1;32m31\u001b[0m\u001b[32m, \u001b[0m\u001b[1;32m2020\u001b[0m\u001b[32m【\u001b[0m\u001b[1;32m18\u001b[0m\u001b[32m†source】.\u001b[0m\n"
            ],
            "text/html": [
              "<pre style=\"white-space:pre;overflow-x:auto;line-height:normal;font-family:Menlo,'DejaVu Sans Mono',consolas,'Courier New',monospace\"><span style=\"color: #008000; text-decoration-color: #008000; font-weight: bold\">1</span><span style=\"color: #008000; text-decoration-color: #008000\">. The start date of the lease period is December </span><span style=\"color: #008000; text-decoration-color: #008000; font-weight: bold\">1</span><span style=\"color: #008000; text-decoration-color: #008000\">, </span><span style=\"color: #008000; text-decoration-color: #008000; font-weight: bold\">2013</span><span style=\"color: #008000; text-decoration-color: #008000\">【</span><span style=\"color: #008000; text-decoration-color: #008000; font-weight: bold\">20</span><span style=\"color: #008000; text-decoration-color: #008000\">†source】.</span>\n",
              "<span style=\"color: #008000; text-decoration-color: #008000; font-weight: bold\">2</span><span style=\"color: #008000; text-decoration-color: #008000\">. The end date of the lease period is May </span><span style=\"color: #008000; text-decoration-color: #008000; font-weight: bold\">31</span><span style=\"color: #008000; text-decoration-color: #008000\">, </span><span style=\"color: #008000; text-decoration-color: #008000; font-weight: bold\">2020</span><span style=\"color: #008000; text-decoration-color: #008000\">【</span><span style=\"color: #008000; text-decoration-color: #008000; font-weight: bold\">18</span><span style=\"color: #008000; text-decoration-color: #008000\">†source】.</span>\n",
              "</pre>\n"
            ]
          },
          "metadata": {}
        },
        {
          "output_type": "display_data",
          "data": {
            "text/plain": [
              "\u001b[1;35m...\u001b[0m\u001b[1;35m|<<< Finished Agent LeaseRetriever \u001b[0m\u001b[1;35m(\u001b[0m\u001b[1;35m0\u001b[0m\u001b[1;35m)\u001b[0m\u001b[1;35m \u001b[0m\n"
            ],
            "text/html": [
              "<pre style=\"white-space:pre;overflow-x:auto;line-height:normal;font-family:Menlo,'DejaVu Sans Mono',consolas,'Courier New',monospace\"><span style=\"color: #800080; text-decoration-color: #800080; font-weight: bold\">...|&lt;&lt;&lt; Finished Agent LeaseRetriever (</span><span style=\"color: #800080; text-decoration-color: #800080; font-weight: bold\">0</span><span style=\"color: #800080; text-decoration-color: #800080; font-weight: bold\">) </span>\n",
              "</pre>\n"
            ]
          },
          "metadata": {}
        },
        {
          "output_type": "display_data",
          "data": {
            "text/plain": [
              "\u001b[32mGreat, now I have the lease period information. Let's move on to the financial aspects:\u001b[0m\n",
              "\n",
              "\u001b[1;32m1\u001b[0m\u001b[32m. What is the monthly rent amount for the lease?\u001b[0m\n",
              "\u001b[1;32m2\u001b[0m\u001b[32m. What is the deposit required for the lease?\u001b[0m\n"
            ],
            "text/html": [
              "<pre style=\"white-space:pre;overflow-x:auto;line-height:normal;font-family:Menlo,'DejaVu Sans Mono',consolas,'Courier New',monospace\"><span style=\"color: #008000; text-decoration-color: #008000\">Great, now I have the lease period information. Let's move on to the financial aspects:</span>\n",
              "\n",
              "<span style=\"color: #008000; text-decoration-color: #008000; font-weight: bold\">1</span><span style=\"color: #008000; text-decoration-color: #008000\">. What is the monthly rent amount for the lease?</span>\n",
              "<span style=\"color: #008000; text-decoration-color: #008000; font-weight: bold\">2</span><span style=\"color: #008000; text-decoration-color: #008000\">. What is the deposit required for the lease?</span>\n",
              "</pre>\n"
            ]
          },
          "metadata": {}
        },
        {
          "output_type": "display_data",
          "data": {
            "text/plain": [
              "\u001b[1;35m...\u001b[0m\u001b[1;35m|>>> Starting Agent LeaseRetriever \u001b[0m\u001b[1;35m(\u001b[0m\u001b[1;35m1\u001b[0m\u001b[1;35m)\u001b[0m\u001b[1;35m gpt-\u001b[0m\u001b[1;35m4\u001b[0m\u001b[1;35m-\u001b[0m\u001b[1;35m1106\u001b[0m\u001b[1;35m-preview \u001b[0m\n"
            ],
            "text/html": [
              "<pre style=\"white-space:pre;overflow-x:auto;line-height:normal;font-family:Menlo,'DejaVu Sans Mono',consolas,'Courier New',monospace\"><span style=\"color: #800080; text-decoration-color: #800080; font-weight: bold\">...|&gt;&gt;&gt; Starting Agent LeaseRetriever (</span><span style=\"color: #800080; text-decoration-color: #800080; font-weight: bold\">1</span><span style=\"color: #800080; text-decoration-color: #800080; font-weight: bold\">) gpt-</span><span style=\"color: #800080; text-decoration-color: #800080; font-weight: bold\">4</span><span style=\"color: #800080; text-decoration-color: #800080; font-weight: bold\">-</span><span style=\"color: #800080; text-decoration-color: #800080; font-weight: bold\">1106</span><span style=\"color: #800080; text-decoration-color: #800080; font-weight: bold\">-preview </span>\n",
              "</pre>\n"
            ]
          },
          "metadata": {}
        },
        {
          "output_type": "display_data",
          "data": {
            "text/plain": [
              "\u001b[1;32m1\u001b[0m\u001b[32m. The monthly rent amount for the lease, for the period from June \u001b[0m\u001b[1;32m1\u001b[0m\u001b[32m, \u001b[0m\u001b[1;32m2019\u001b[0m\u001b[32m, to May \u001b[0m\u001b[1;32m31\u001b[0m\u001b[32m, \u001b[0m\u001b[1;32m2020\u001b[0m\u001b[32m, is \u001b[0m\n",
              "\u001b[32m$\u001b[0m\u001b[1;32m70\u001b[0m\u001b[32m,\u001b[0m\u001b[1;32m000\u001b[0m\u001b[32m【\u001b[0m\u001b[1;32m19\u001b[0m\u001b[32m†source】.\u001b[0m\n",
              "\u001b[1;32m2\u001b[0m\u001b[32m. The deposit required for the lease is Twenty Thousand Dollars \u001b[0m\u001b[1;32m(\u001b[0m\u001b[32m$\u001b[0m\u001b[1;32m20\u001b[0m\u001b[32m,\u001b[0m\u001b[1;32m000.00\u001b[0m\u001b[1;32m)\u001b[0m\u001b[32m【\u001b[0m\u001b[1;32m17\u001b[0m\u001b[32m†source】.\u001b[0m\n"
            ],
            "text/html": [
              "<pre style=\"white-space:pre;overflow-x:auto;line-height:normal;font-family:Menlo,'DejaVu Sans Mono',consolas,'Courier New',monospace\"><span style=\"color: #008000; text-decoration-color: #008000; font-weight: bold\">1</span><span style=\"color: #008000; text-decoration-color: #008000\">. The monthly rent amount for the lease, for the period from June </span><span style=\"color: #008000; text-decoration-color: #008000; font-weight: bold\">1</span><span style=\"color: #008000; text-decoration-color: #008000\">, </span><span style=\"color: #008000; text-decoration-color: #008000; font-weight: bold\">2019</span><span style=\"color: #008000; text-decoration-color: #008000\">, to May </span><span style=\"color: #008000; text-decoration-color: #008000; font-weight: bold\">31</span><span style=\"color: #008000; text-decoration-color: #008000\">, </span><span style=\"color: #008000; text-decoration-color: #008000; font-weight: bold\">2020</span><span style=\"color: #008000; text-decoration-color: #008000\">, is </span>\n",
              "<span style=\"color: #008000; text-decoration-color: #008000\">$</span><span style=\"color: #008000; text-decoration-color: #008000; font-weight: bold\">70</span><span style=\"color: #008000; text-decoration-color: #008000\">,</span><span style=\"color: #008000; text-decoration-color: #008000; font-weight: bold\">000</span><span style=\"color: #008000; text-decoration-color: #008000\">【</span><span style=\"color: #008000; text-decoration-color: #008000; font-weight: bold\">19</span><span style=\"color: #008000; text-decoration-color: #008000\">†source】.</span>\n",
              "<span style=\"color: #008000; text-decoration-color: #008000; font-weight: bold\">2</span><span style=\"color: #008000; text-decoration-color: #008000\">. The deposit required for the lease is Twenty Thousand Dollars </span><span style=\"color: #008000; text-decoration-color: #008000; font-weight: bold\">(</span><span style=\"color: #008000; text-decoration-color: #008000\">$</span><span style=\"color: #008000; text-decoration-color: #008000; font-weight: bold\">20</span><span style=\"color: #008000; text-decoration-color: #008000\">,</span><span style=\"color: #008000; text-decoration-color: #008000; font-weight: bold\">000.00</span><span style=\"color: #008000; text-decoration-color: #008000; font-weight: bold\">)</span><span style=\"color: #008000; text-decoration-color: #008000\">【</span><span style=\"color: #008000; text-decoration-color: #008000; font-weight: bold\">17</span><span style=\"color: #008000; text-decoration-color: #008000\">†source】.</span>\n",
              "</pre>\n"
            ]
          },
          "metadata": {}
        },
        {
          "output_type": "display_data",
          "data": {
            "text/plain": [
              "\u001b[1;35m...\u001b[0m\u001b[1;35m|<<< Finished Agent LeaseRetriever \u001b[0m\u001b[1;35m(\u001b[0m\u001b[1;35m0\u001b[0m\u001b[1;35m)\u001b[0m\u001b[1;35m \u001b[0m\n"
            ],
            "text/html": [
              "<pre style=\"white-space:pre;overflow-x:auto;line-height:normal;font-family:Menlo,'DejaVu Sans Mono',consolas,'Courier New',monospace\"><span style=\"color: #800080; text-decoration-color: #800080; font-weight: bold\">...|&lt;&lt;&lt; Finished Agent LeaseRetriever (</span><span style=\"color: #800080; text-decoration-color: #800080; font-weight: bold\">0</span><span style=\"color: #800080; text-decoration-color: #800080; font-weight: bold\">) </span>\n",
              "</pre>\n"
            ]
          },
          "metadata": {}
        },
        {
          "output_type": "display_data",
          "data": {
            "text/plain": [
              "\u001b[32mThank you for providing the financial details. Now I need the property information:\u001b[0m\n",
              "\n",
              "\u001b[1;32m1\u001b[0m\u001b[32m. What is the complete address of the property being leased?\u001b[0m\n"
            ],
            "text/html": [
              "<pre style=\"white-space:pre;overflow-x:auto;line-height:normal;font-family:Menlo,'DejaVu Sans Mono',consolas,'Courier New',monospace\"><span style=\"color: #008000; text-decoration-color: #008000\">Thank you for providing the financial details. Now I need the property information:</span>\n",
              "\n",
              "<span style=\"color: #008000; text-decoration-color: #008000; font-weight: bold\">1</span><span style=\"color: #008000; text-decoration-color: #008000\">. What is the complete address of the property being leased?</span>\n",
              "</pre>\n"
            ]
          },
          "metadata": {}
        },
        {
          "output_type": "display_data",
          "data": {
            "text/plain": [
              "\u001b[1;35m...\u001b[0m\u001b[1;35m|>>> Starting Agent LeaseRetriever \u001b[0m\u001b[1;35m(\u001b[0m\u001b[1;35m1\u001b[0m\u001b[1;35m)\u001b[0m\u001b[1;35m gpt-\u001b[0m\u001b[1;35m4\u001b[0m\u001b[1;35m-\u001b[0m\u001b[1;35m1106\u001b[0m\u001b[1;35m-preview \u001b[0m\n"
            ],
            "text/html": [
              "<pre style=\"white-space:pre;overflow-x:auto;line-height:normal;font-family:Menlo,'DejaVu Sans Mono',consolas,'Courier New',monospace\"><span style=\"color: #800080; text-decoration-color: #800080; font-weight: bold\">...|&gt;&gt;&gt; Starting Agent LeaseRetriever (</span><span style=\"color: #800080; text-decoration-color: #800080; font-weight: bold\">1</span><span style=\"color: #800080; text-decoration-color: #800080; font-weight: bold\">) gpt-</span><span style=\"color: #800080; text-decoration-color: #800080; font-weight: bold\">4</span><span style=\"color: #800080; text-decoration-color: #800080; font-weight: bold\">-</span><span style=\"color: #800080; text-decoration-color: #800080; font-weight: bold\">1106</span><span style=\"color: #800080; text-decoration-color: #800080; font-weight: bold\">-preview </span>\n",
              "</pre>\n"
            ]
          },
          "metadata": {}
        },
        {
          "output_type": "display_data",
          "data": {
            "text/plain": [
              "\u001b[32mThe complete address of the property being leased is \u001b[0m\u001b[1;32m4350\u001b[0m\u001b[32m Temple City Boulevard, El Monte, California \u001b[0m\n",
              "\u001b[1;32m91731\u001b[0m\u001b[32m【\u001b[0m\u001b[1;32m20\u001b[0m\u001b[32m†source】.\u001b[0m\n"
            ],
            "text/html": [
              "<pre style=\"white-space:pre;overflow-x:auto;line-height:normal;font-family:Menlo,'DejaVu Sans Mono',consolas,'Courier New',monospace\"><span style=\"color: #008000; text-decoration-color: #008000\">The complete address of the property being leased is </span><span style=\"color: #008000; text-decoration-color: #008000; font-weight: bold\">4350</span><span style=\"color: #008000; text-decoration-color: #008000\"> Temple City Boulevard, El Monte, California </span>\n",
              "<span style=\"color: #008000; text-decoration-color: #008000; font-weight: bold\">91731</span><span style=\"color: #008000; text-decoration-color: #008000\">【</span><span style=\"color: #008000; text-decoration-color: #008000; font-weight: bold\">20</span><span style=\"color: #008000; text-decoration-color: #008000\">†source】.</span>\n",
              "</pre>\n"
            ]
          },
          "metadata": {}
        },
        {
          "output_type": "display_data",
          "data": {
            "text/plain": [
              "\u001b[1;35m...\u001b[0m\u001b[1;35m|<<< Finished Agent LeaseRetriever \u001b[0m\u001b[1;35m(\u001b[0m\u001b[1;35m0\u001b[0m\u001b[1;35m)\u001b[0m\u001b[1;35m \u001b[0m\n"
            ],
            "text/html": [
              "<pre style=\"white-space:pre;overflow-x:auto;line-height:normal;font-family:Menlo,'DejaVu Sans Mono',consolas,'Courier New',monospace\"><span style=\"color: #800080; text-decoration-color: #800080; font-weight: bold\">...|&lt;&lt;&lt; Finished Agent LeaseRetriever (</span><span style=\"color: #800080; text-decoration-color: #800080; font-weight: bold\">0</span><span style=\"color: #800080; text-decoration-color: #800080; font-weight: bold\">) </span>\n",
              "</pre>\n"
            ]
          },
          "metadata": {}
        },
        {
          "output_type": "display_data",
          "data": {
            "text/plain": [
              "\u001b[32mFUNC: \u001b[0m\u001b[1;32m{\u001b[0m\n",
              "\u001b[32m  \u001b[0m\u001b[32m\"name\"\u001b[0m\u001b[32m: \u001b[0m\u001b[32m\"lease_info\"\u001b[0m\u001b[32m,\u001b[0m\n",
              "\u001b[32m  \u001b[0m\u001b[32m\"to\"\u001b[0m\u001b[32m: \u001b[0m\u001b[32m\"\"\u001b[0m\u001b[32m,\u001b[0m\n",
              "\u001b[32m  \u001b[0m\u001b[32m\"arguments\"\u001b[0m\u001b[32m: \u001b[0m\u001b[1;32m{\u001b[0m\n",
              "\u001b[32m    \u001b[0m\u001b[32m\"terms\"\u001b[0m\u001b[32m: \u001b[0m\u001b[1;32m{\u001b[0m\n",
              "\u001b[32m      \u001b[0m\u001b[32m\"period\"\u001b[0m\u001b[32m: \u001b[0m\u001b[1;32m{\u001b[0m\n",
              "\u001b[32m        \u001b[0m\u001b[32m\"start_date\"\u001b[0m\u001b[32m: \u001b[0m\u001b[32m\"2013-12-01\"\u001b[0m\u001b[32m,\u001b[0m\n",
              "\u001b[32m        \u001b[0m\u001b[32m\"end_date\"\u001b[0m\u001b[32m: \u001b[0m\u001b[32m\"2020-05-31\"\u001b[0m\n",
              "\u001b[32m      \u001b[0m\u001b[1;32m}\u001b[0m\u001b[32m,\u001b[0m\n",
              "\u001b[32m      \u001b[0m\u001b[32m\"financials\"\u001b[0m\u001b[32m: \u001b[0m\u001b[1;32m{\u001b[0m\n",
              "\u001b[32m        \u001b[0m\u001b[32m\"monthly_rent\"\u001b[0m\u001b[32m: \u001b[0m\u001b[32m\"$70,000\"\u001b[0m\u001b[32m,\u001b[0m\n",
              "\u001b[32m        \u001b[0m\u001b[32m\"deposit\"\u001b[0m\u001b[32m: \u001b[0m\u001b[32m\"$20,000\"\u001b[0m\n",
              "\u001b[32m      \u001b[0m\u001b[1;32m}\u001b[0m\u001b[32m,\u001b[0m\n",
              "\u001b[32m      \u001b[0m\u001b[32m\"address\"\u001b[0m\u001b[32m: \u001b[0m\u001b[32m\"4350 Temple City Boulevard, El Monte, California 91731\"\u001b[0m\n",
              "\u001b[32m    \u001b[0m\u001b[1;32m}\u001b[0m\n",
              "\u001b[32m  \u001b[0m\u001b[1;32m}\u001b[0m\n",
              "\u001b[1;32m}\u001b[0m\n"
            ],
            "text/html": [
              "<pre style=\"white-space:pre;overflow-x:auto;line-height:normal;font-family:Menlo,'DejaVu Sans Mono',consolas,'Courier New',monospace\"><span style=\"color: #008000; text-decoration-color: #008000\">FUNC: </span><span style=\"color: #008000; text-decoration-color: #008000; font-weight: bold\">{</span>\n",
              "<span style=\"color: #008000; text-decoration-color: #008000\">  </span><span style=\"color: #008000; text-decoration-color: #008000\">\"name\"</span><span style=\"color: #008000; text-decoration-color: #008000\">: </span><span style=\"color: #008000; text-decoration-color: #008000\">\"lease_info\"</span><span style=\"color: #008000; text-decoration-color: #008000\">,</span>\n",
              "<span style=\"color: #008000; text-decoration-color: #008000\">  </span><span style=\"color: #008000; text-decoration-color: #008000\">\"to\"</span><span style=\"color: #008000; text-decoration-color: #008000\">: </span><span style=\"color: #008000; text-decoration-color: #008000\">\"\"</span><span style=\"color: #008000; text-decoration-color: #008000\">,</span>\n",
              "<span style=\"color: #008000; text-decoration-color: #008000\">  </span><span style=\"color: #008000; text-decoration-color: #008000\">\"arguments\"</span><span style=\"color: #008000; text-decoration-color: #008000\">: </span><span style=\"color: #008000; text-decoration-color: #008000; font-weight: bold\">{</span>\n",
              "<span style=\"color: #008000; text-decoration-color: #008000\">    </span><span style=\"color: #008000; text-decoration-color: #008000\">\"terms\"</span><span style=\"color: #008000; text-decoration-color: #008000\">: </span><span style=\"color: #008000; text-decoration-color: #008000; font-weight: bold\">{</span>\n",
              "<span style=\"color: #008000; text-decoration-color: #008000\">      </span><span style=\"color: #008000; text-decoration-color: #008000\">\"period\"</span><span style=\"color: #008000; text-decoration-color: #008000\">: </span><span style=\"color: #008000; text-decoration-color: #008000; font-weight: bold\">{</span>\n",
              "<span style=\"color: #008000; text-decoration-color: #008000\">        </span><span style=\"color: #008000; text-decoration-color: #008000\">\"start_date\"</span><span style=\"color: #008000; text-decoration-color: #008000\">: </span><span style=\"color: #008000; text-decoration-color: #008000\">\"2013-12-01\"</span><span style=\"color: #008000; text-decoration-color: #008000\">,</span>\n",
              "<span style=\"color: #008000; text-decoration-color: #008000\">        </span><span style=\"color: #008000; text-decoration-color: #008000\">\"end_date\"</span><span style=\"color: #008000; text-decoration-color: #008000\">: </span><span style=\"color: #008000; text-decoration-color: #008000\">\"2020-05-31\"</span>\n",
              "<span style=\"color: #008000; text-decoration-color: #008000\">      </span><span style=\"color: #008000; text-decoration-color: #008000; font-weight: bold\">}</span><span style=\"color: #008000; text-decoration-color: #008000\">,</span>\n",
              "<span style=\"color: #008000; text-decoration-color: #008000\">      </span><span style=\"color: #008000; text-decoration-color: #008000\">\"financials\"</span><span style=\"color: #008000; text-decoration-color: #008000\">: </span><span style=\"color: #008000; text-decoration-color: #008000; font-weight: bold\">{</span>\n",
              "<span style=\"color: #008000; text-decoration-color: #008000\">        </span><span style=\"color: #008000; text-decoration-color: #008000\">\"monthly_rent\"</span><span style=\"color: #008000; text-decoration-color: #008000\">: </span><span style=\"color: #008000; text-decoration-color: #008000\">\"$70,000\"</span><span style=\"color: #008000; text-decoration-color: #008000\">,</span>\n",
              "<span style=\"color: #008000; text-decoration-color: #008000\">        </span><span style=\"color: #008000; text-decoration-color: #008000\">\"deposit\"</span><span style=\"color: #008000; text-decoration-color: #008000\">: </span><span style=\"color: #008000; text-decoration-color: #008000\">\"$20,000\"</span>\n",
              "<span style=\"color: #008000; text-decoration-color: #008000\">      </span><span style=\"color: #008000; text-decoration-color: #008000; font-weight: bold\">}</span><span style=\"color: #008000; text-decoration-color: #008000\">,</span>\n",
              "<span style=\"color: #008000; text-decoration-color: #008000\">      </span><span style=\"color: #008000; text-decoration-color: #008000\">\"address\"</span><span style=\"color: #008000; text-decoration-color: #008000\">: </span><span style=\"color: #008000; text-decoration-color: #008000\">\"4350 Temple City Boulevard, El Monte, California 91731\"</span>\n",
              "<span style=\"color: #008000; text-decoration-color: #008000\">    </span><span style=\"color: #008000; text-decoration-color: #008000; font-weight: bold\">}</span>\n",
              "<span style=\"color: #008000; text-decoration-color: #008000\">  </span><span style=\"color: #008000; text-decoration-color: #008000; font-weight: bold\">}</span>\n",
              "<span style=\"color: #008000; text-decoration-color: #008000; font-weight: bold\">}</span>\n",
              "</pre>\n"
            ]
          },
          "metadata": {}
        },
        {
          "output_type": "stream",
          "name": "stdout",
          "text": [
            "DONE! Successfully extracted Lease Info:period=LeasePeriod(start_date='2013-12-01', end_date='2020-05-31') financials=LeaseFinancials(monthly_rent='$70,000', deposit='$20,000') address='4350 Temple City Boulevard, El Monte, California 91731'\n"
          ]
        },
        {
          "output_type": "display_data",
          "data": {
            "text/plain": [],
            "text/html": [
              "<pre style=\"white-space:pre;overflow-x:auto;line-height:normal;font-family:Menlo,'DejaVu Sans Mono',consolas,'Courier New',monospace\"></pre>\n"
            ]
          },
          "metadata": {}
        },
        {
          "output_type": "display_data",
          "data": {
            "text/plain": [
              "\u001b[31mAgent: \u001b[0m\u001b[1;31m{\u001b[0m\u001b[31m\"period\"\u001b[0m\u001b[31m: \u001b[0m\u001b[1;31m{\u001b[0m\u001b[31m\"start_date\"\u001b[0m\u001b[31m: \u001b[0m\u001b[31m\"2013-12-01\"\u001b[0m\u001b[31m, \u001b[0m\u001b[31m\"end_date\"\u001b[0m\u001b[31m: \u001b[0m\u001b[31m\"2020-05-31\"\u001b[0m\u001b[1;31m}\u001b[0m\u001b[31m, \u001b[0m\u001b[31m\"financials\"\u001b[0m\u001b[31m: \u001b[0m\u001b[1;31m{\u001b[0m\u001b[31m\"monthly_rent\"\u001b[0m\u001b[31m: \u001b[0m\u001b[31m\"$70,000\"\u001b[0m\u001b[31m,\u001b[0m\n",
              "\u001b[31m\"deposit\"\u001b[0m\u001b[31m: \u001b[0m\u001b[31m\"$20,000\"\u001b[0m\u001b[1;31m}\u001b[0m\u001b[31m, \u001b[0m\u001b[31m\"address\"\u001b[0m\u001b[31m: \u001b[0m\u001b[31m\"4350 Temple City Boulevard, El Monte, California 91731\"\u001b[0m\u001b[1;31m}\u001b[0m\n"
            ],
            "text/html": [
              "<pre style=\"white-space:pre;overflow-x:auto;line-height:normal;font-family:Menlo,'DejaVu Sans Mono',consolas,'Courier New',monospace\"><span style=\"color: #800000; text-decoration-color: #800000\">Agent: </span><span style=\"color: #800000; text-decoration-color: #800000; font-weight: bold\">{</span><span style=\"color: #800000; text-decoration-color: #800000\">\"period\"</span><span style=\"color: #800000; text-decoration-color: #800000\">: </span><span style=\"color: #800000; text-decoration-color: #800000; font-weight: bold\">{</span><span style=\"color: #800000; text-decoration-color: #800000\">\"start_date\"</span><span style=\"color: #800000; text-decoration-color: #800000\">: </span><span style=\"color: #800000; text-decoration-color: #800000\">\"2013-12-01\"</span><span style=\"color: #800000; text-decoration-color: #800000\">, </span><span style=\"color: #800000; text-decoration-color: #800000\">\"end_date\"</span><span style=\"color: #800000; text-decoration-color: #800000\">: </span><span style=\"color: #800000; text-decoration-color: #800000\">\"2020-05-31\"</span><span style=\"color: #800000; text-decoration-color: #800000; font-weight: bold\">}</span><span style=\"color: #800000; text-decoration-color: #800000\">, </span><span style=\"color: #800000; text-decoration-color: #800000\">\"financials\"</span><span style=\"color: #800000; text-decoration-color: #800000\">: </span><span style=\"color: #800000; text-decoration-color: #800000; font-weight: bold\">{</span><span style=\"color: #800000; text-decoration-color: #800000\">\"monthly_rent\"</span><span style=\"color: #800000; text-decoration-color: #800000\">: </span><span style=\"color: #800000; text-decoration-color: #800000\">\"$70,000\"</span><span style=\"color: #800000; text-decoration-color: #800000\">,</span>\n",
              "<span style=\"color: #800000; text-decoration-color: #800000\">\"deposit\"</span><span style=\"color: #800000; text-decoration-color: #800000\">: </span><span style=\"color: #800000; text-decoration-color: #800000\">\"$20,000\"</span><span style=\"color: #800000; text-decoration-color: #800000; font-weight: bold\">}</span><span style=\"color: #800000; text-decoration-color: #800000\">, </span><span style=\"color: #800000; text-decoration-color: #800000\">\"address\"</span><span style=\"color: #800000; text-decoration-color: #800000\">: </span><span style=\"color: #800000; text-decoration-color: #800000\">\"4350 Temple City Boulevard, El Monte, California 91731\"</span><span style=\"color: #800000; text-decoration-color: #800000; font-weight: bold\">}</span>\n",
              "</pre>\n"
            ]
          },
          "metadata": {}
        },
        {
          "output_type": "display_data",
          "data": {
            "text/plain": [
              "\u001b[32mDONE\u001b[0m\n",
              "\n",
              "\u001b[32mI have collected the required information about the Commercial Lease:\u001b[0m\n",
              "\n",
              "\u001b[32m- Lease Period: Start Date - December \u001b[0m\u001b[1;32m1\u001b[0m\u001b[32m, \u001b[0m\u001b[1;32m2013\u001b[0m\u001b[32m, End Date - May \u001b[0m\u001b[1;32m31\u001b[0m\u001b[32m, \u001b[0m\u001b[1;32m2020\u001b[0m\n",
              "\u001b[32m- Financials: Monthly Rent - $\u001b[0m\u001b[1;32m70\u001b[0m\u001b[32m,\u001b[0m\u001b[1;32m000\u001b[0m\u001b[32m, Deposit - $\u001b[0m\u001b[1;32m20\u001b[0m\u001b[32m,\u001b[0m\u001b[1;32m000\u001b[0m\n",
              "\u001b[32m- Address: \u001b[0m\u001b[1;32m4350\u001b[0m\u001b[32m Temple City Boulevard, El Monte, California \u001b[0m\u001b[1;32m91731\u001b[0m\n"
            ],
            "text/html": [
              "<pre style=\"white-space:pre;overflow-x:auto;line-height:normal;font-family:Menlo,'DejaVu Sans Mono',consolas,'Courier New',monospace\"><span style=\"color: #008000; text-decoration-color: #008000\">DONE</span>\n",
              "\n",
              "<span style=\"color: #008000; text-decoration-color: #008000\">I have collected the required information about the Commercial Lease:</span>\n",
              "\n",
              "<span style=\"color: #008000; text-decoration-color: #008000\">- Lease Period: Start Date - December </span><span style=\"color: #008000; text-decoration-color: #008000; font-weight: bold\">1</span><span style=\"color: #008000; text-decoration-color: #008000\">, </span><span style=\"color: #008000; text-decoration-color: #008000; font-weight: bold\">2013</span><span style=\"color: #008000; text-decoration-color: #008000\">, End Date - May </span><span style=\"color: #008000; text-decoration-color: #008000; font-weight: bold\">31</span><span style=\"color: #008000; text-decoration-color: #008000\">, </span><span style=\"color: #008000; text-decoration-color: #008000; font-weight: bold\">2020</span>\n",
              "<span style=\"color: #008000; text-decoration-color: #008000\">- Financials: Monthly Rent - $</span><span style=\"color: #008000; text-decoration-color: #008000; font-weight: bold\">70</span><span style=\"color: #008000; text-decoration-color: #008000\">,</span><span style=\"color: #008000; text-decoration-color: #008000; font-weight: bold\">000</span><span style=\"color: #008000; text-decoration-color: #008000\">, Deposit - $</span><span style=\"color: #008000; text-decoration-color: #008000; font-weight: bold\">20</span><span style=\"color: #008000; text-decoration-color: #008000\">,</span><span style=\"color: #008000; text-decoration-color: #008000; font-weight: bold\">000</span>\n",
              "<span style=\"color: #008000; text-decoration-color: #008000\">- Address: </span><span style=\"color: #008000; text-decoration-color: #008000; font-weight: bold\">4350</span><span style=\"color: #008000; text-decoration-color: #008000\"> Temple City Boulevard, El Monte, California </span><span style=\"color: #008000; text-decoration-color: #008000; font-weight: bold\">91731</span>\n",
              "</pre>\n"
            ]
          },
          "metadata": {}
        },
        {
          "output_type": "display_data",
          "data": {
            "text/plain": [
              "\u001b[35mBye, hope this was useful!\u001b[0m\n"
            ],
            "text/html": [
              "<pre style=\"white-space:pre;overflow-x:auto;line-height:normal;font-family:Menlo,'DejaVu Sans Mono',consolas,'Courier New',monospace\"><span style=\"color: #800080; text-decoration-color: #800080\">Bye, hope this was useful!</span>\n",
              "</pre>\n"
            ]
          },
          "metadata": {}
        },
        {
          "output_type": "display_data",
          "data": {
            "text/plain": [
              "\u001b[1;35m<<< Finished Agent LeaseExtractor \u001b[0m\u001b[1;35m(\u001b[0m\u001b[1;35m0\u001b[0m\u001b[1;35m)\u001b[0m\u001b[1;35m \u001b[0m\n"
            ],
            "text/html": [
              "<pre style=\"white-space:pre;overflow-x:auto;line-height:normal;font-family:Menlo,'DejaVu Sans Mono',consolas,'Courier New',monospace\"><span style=\"color: #800080; text-decoration-color: #800080; font-weight: bold\">&lt;&lt;&lt; Finished Agent LeaseExtractor (</span><span style=\"color: #800080; text-decoration-color: #800080; font-weight: bold\">0</span><span style=\"color: #800080; text-decoration-color: #800080; font-weight: bold\">) </span>\n",
              "</pre>\n"
            ]
          },
          "metadata": {}
        },
        {
          "output_type": "execute_result",
          "data": {
            "text/plain": [
              "ChatDocument(content='I have collected the required information about the Commercial Lease:\\n\\n- Lease Period: Start Date - December 1, 2013, End Date - May 31, 2020\\n- Financials: Monthly Rent - $70,000, Deposit - $20,000\\n- Address: 4350 Temple City Boulevard, El Monte, California 91731', metadata=ChatDocMetaData(source='User', is_chunk=False, id=None, window_ids=[], parent=None, sender=<Entity.USER: 'User'>, tool_ids=[], parent_responder=None, block=None, sender_name='LeaseExtractor', recipient='', usage=None, cached=False, displayed=False), function_call=None, attachment=None)"
            ]
          },
          "metadata": {},
          "execution_count": 33
        }
      ]
    },
    {
      "cell_type": "code",
      "source": [],
      "metadata": {
        "id": "uZlas6DA0Zu6"
      },
      "execution_count": null,
      "outputs": []
    }
  ]
}